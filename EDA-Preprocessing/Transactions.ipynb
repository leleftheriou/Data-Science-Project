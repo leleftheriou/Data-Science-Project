{
 "cells": [
  {
   "cell_type": "code",
   "execution_count": 1,
   "metadata": {},
   "outputs": [],
   "source": [
    "# Importing required libraries.\n",
    "import numpy as np\n",
    "import pandas as pd\n",
    "import seaborn as sns\n",
    "import matplotlib.pyplot as plt\n",
    "%matplotlib inline"
   ]
  },
  {
   "cell_type": "code",
   "execution_count": 2,
   "metadata": {
    "scrolled": true
   },
   "outputs": [
    {
     "data": {
      "text/plain": [
       "(2181026, 12)"
      ]
     },
     "execution_count": 2,
     "metadata": {},
     "output_type": "execute_result"
    }
   ],
   "source": [
    "#Loading the data into the data frame\n",
    "tr1 = pd.read_csv(\"data/transactions_1.csv\")\n",
    "tr2 = pd.read_csv(\"data/transactions_2.csv\")\n",
    "tr3 = pd.read_csv(\"data/transactions_3.csv\")\n",
    "frames = [tr1,tr2,tr3]\n",
    "tr = pd.concat(frames)\n",
    "# convert to string\n",
    "tr['ea_cardholderpresence'] = tr['ea_cardholderpresence'].astype(str)\n",
    "tr['ea_merchant_city'] = tr['ea_merchant_city'].astype(str)\n",
    "tr['ea_merchant_country'] = tr['ea_merchant_country'].astype(str)\n",
    "tr.shape "
   ]
  },
  {
   "cell_type": "code",
   "execution_count": null,
   "metadata": {},
   "outputs": [],
   "source": [
    "# Checking the data type and convert them if necessary\n",
    "tr.info()"
   ]
  },
  {
   "cell_type": "code",
   "execution_count": 3,
   "metadata": {},
   "outputs": [
    {
     "data": {
      "text/html": [
       "<div>\n",
       "<style scoped>\n",
       "    .dataframe tbody tr th:only-of-type {\n",
       "        vertical-align: middle;\n",
       "    }\n",
       "\n",
       "    .dataframe tbody tr th {\n",
       "        vertical-align: top;\n",
       "    }\n",
       "\n",
       "    .dataframe thead th {\n",
       "        text-align: right;\n",
       "    }\n",
       "</style>\n",
       "<table border=\"1\" class=\"dataframe\">\n",
       "  <thead>\n",
       "    <tr style=\"text-align: right;\">\n",
       "      <th></th>\n",
       "      <th>transaction_id</th>\n",
       "      <th>transactions_type</th>\n",
       "      <th>transactions_currency</th>\n",
       "      <th>amount_usd</th>\n",
       "      <th>transactions_state</th>\n",
       "      <th>ea_cardholderpresence</th>\n",
       "      <th>ea_merchant_mcc</th>\n",
       "      <th>ea_merchant_city</th>\n",
       "      <th>ea_merchant_country</th>\n",
       "      <th>direction</th>\n",
       "      <th>user_id</th>\n",
       "      <th>created_date</th>\n",
       "    </tr>\n",
       "  </thead>\n",
       "  <tbody>\n",
       "    <tr>\n",
       "      <th>0</th>\n",
       "      <td>transaction_0</td>\n",
       "      <td>TRANSFER</td>\n",
       "      <td>AED</td>\n",
       "      <td>4.55</td>\n",
       "      <td>COMPLETED</td>\n",
       "      <td>nan</td>\n",
       "      <td>NaN</td>\n",
       "      <td>nan</td>\n",
       "      <td>nan</td>\n",
       "      <td>OUTBOUND</td>\n",
       "      <td>user_4368</td>\n",
       "      <td>2018-04-03 03:34:21.784487</td>\n",
       "    </tr>\n",
       "    <tr>\n",
       "      <th>1</th>\n",
       "      <td>transaction_1</td>\n",
       "      <td>CARD_PAYMENT</td>\n",
       "      <td>AED</td>\n",
       "      <td>15.50</td>\n",
       "      <td>COMPLETED</td>\n",
       "      <td>FALSE</td>\n",
       "      <td>4111.0</td>\n",
       "      <td>Dubai</td>\n",
       "      <td>ARE</td>\n",
       "      <td>OUTBOUND</td>\n",
       "      <td>user_2355</td>\n",
       "      <td>2019-03-19 06:15:59.537032</td>\n",
       "    </tr>\n",
       "    <tr>\n",
       "      <th>2</th>\n",
       "      <td>transaction_2</td>\n",
       "      <td>CARD_PAYMENT</td>\n",
       "      <td>AED</td>\n",
       "      <td>43.40</td>\n",
       "      <td>COMPLETED</td>\n",
       "      <td>FALSE</td>\n",
       "      <td>5814.0</td>\n",
       "      <td>Dubai</td>\n",
       "      <td>ARE</td>\n",
       "      <td>OUTBOUND</td>\n",
       "      <td>user_2355</td>\n",
       "      <td>2019-03-18 18:53:41.323032</td>\n",
       "    </tr>\n",
       "    <tr>\n",
       "      <th>3</th>\n",
       "      <td>transaction_3</td>\n",
       "      <td>TRANSFER</td>\n",
       "      <td>AED</td>\n",
       "      <td>10043.01</td>\n",
       "      <td>COMPLETED</td>\n",
       "      <td>nan</td>\n",
       "      <td>NaN</td>\n",
       "      <td>nan</td>\n",
       "      <td>nan</td>\n",
       "      <td>OUTBOUND</td>\n",
       "      <td>user_2355</td>\n",
       "      <td>2019-03-22 14:20:01.513032</td>\n",
       "    </tr>\n",
       "    <tr>\n",
       "      <th>4</th>\n",
       "      <td>transaction_4</td>\n",
       "      <td>CARD_PAYMENT</td>\n",
       "      <td>AED</td>\n",
       "      <td>43.81</td>\n",
       "      <td>COMPLETED</td>\n",
       "      <td>FALSE</td>\n",
       "      <td>5651.0</td>\n",
       "      <td>Abu Dhabi</td>\n",
       "      <td>ARE</td>\n",
       "      <td>OUTBOUND</td>\n",
       "      <td>user_14318</td>\n",
       "      <td>2019-03-22 05:42:50.316652</td>\n",
       "    </tr>\n",
       "  </tbody>\n",
       "</table>\n",
       "</div>"
      ],
      "text/plain": [
       "  transaction_id transactions_type transactions_currency  amount_usd  \\\n",
       "0  transaction_0          TRANSFER                   AED        4.55   \n",
       "1  transaction_1      CARD_PAYMENT                   AED       15.50   \n",
       "2  transaction_2      CARD_PAYMENT                   AED       43.40   \n",
       "3  transaction_3          TRANSFER                   AED    10043.01   \n",
       "4  transaction_4      CARD_PAYMENT                   AED       43.81   \n",
       "\n",
       "  transactions_state ea_cardholderpresence  ea_merchant_mcc ea_merchant_city  \\\n",
       "0          COMPLETED                   nan              NaN              nan   \n",
       "1          COMPLETED                 FALSE           4111.0            Dubai   \n",
       "2          COMPLETED                 FALSE           5814.0            Dubai   \n",
       "3          COMPLETED                   nan              NaN              nan   \n",
       "4          COMPLETED                 FALSE           5651.0        Abu Dhabi   \n",
       "\n",
       "  ea_merchant_country direction     user_id                created_date  \n",
       "0                 nan  OUTBOUND   user_4368  2018-04-03 03:34:21.784487  \n",
       "1                 ARE  OUTBOUND   user_2355  2019-03-19 06:15:59.537032  \n",
       "2                 ARE  OUTBOUND   user_2355  2019-03-18 18:53:41.323032  \n",
       "3                 nan  OUTBOUND   user_2355  2019-03-22 14:20:01.513032  \n",
       "4                 ARE  OUTBOUND  user_14318  2019-03-22 05:42:50.316652  "
      ]
     },
     "execution_count": 3,
     "metadata": {},
     "output_type": "execute_result"
    }
   ],
   "source": [
    "tr.head(5)"
   ]
  },
  {
   "cell_type": "code",
   "execution_count": null,
   "metadata": {},
   "outputs": [],
   "source": [
    "tr.columns\n",
    "#tr.ea_cardholderpresence.unique()  # emfanizei tis diaforetikes metavlites"
   ]
  },
  {
   "cell_type": "markdown",
   "metadata": {},
   "source": [
    "**transaction_id** (str) --> id number\n",
    "\n",
    "**transactions_type** --> tropos plhrwmhs(TRANSFER,CARD_PAYMENT,EXCHANGE,ATM,CARD_REFUND,TOPUP,REFUND,FEE,CASHBACK,TAX)\n",
    "\n",
    "**transactions_currency** (str) --> 35 diaforetika currency\n",
    "\n",
    "**amount_usd**  (float) -->  posa plhrwmhs se USD\n",
    "\n",
    "**transactions_state** (str) --> katastash (COMPLETED, REVERTED, DECLINED, PENDING, FAILED, CANCELLED)\n",
    "\n",
    "**ea_cardholderpresence** (str) -->  o katoxos tis kartas htan paron i oxi kata th sunallagh (nan, FALSE, TRUE, UNKNOWN)\n",
    "\n",
    "**ea_merchant_mcc** (float) --> Merchant Category Code (MCC)\n",
    "\n",
    "**ea_merchant_city**  (str) --> polh emporou\n",
    "\n",
    "**ea_merchant_country** (str) --> xwra emporou\n",
    "\n",
    "**direction** (str) --> eiserxomenes/ exerxomenes sunallages (OUTBOUND, INBOUND)\n",
    "\n",
    "**user_id**   (str) --> Id user\n",
    "\n",
    "**created_date**  -->  hmeromhnia sunallaghs"
   ]
  },
  {
   "cell_type": "markdown",
   "metadata": {},
   "source": [
    "### Numerical and Categorical Columns"
   ]
  },
  {
   "cell_type": "code",
   "execution_count": null,
   "metadata": {},
   "outputs": [],
   "source": [
    "numerical = [column for column in tr.columns if tr[column].dtype != 'O']\n",
    "print(f'The numerical columns are: \\n{numerical}\\n')\n",
    "\n",
    "categorical = [column for column in tr.columns if tr[column].dtype == 'O']\n",
    "print(f'The categorical columns are: \\n{categorical}\\n')"
   ]
  },
  {
   "cell_type": "markdown",
   "metadata": {},
   "source": [
    "## Find missing/ wrong values"
   ]
  },
  {
   "cell_type": "code",
   "execution_count": null,
   "metadata": {},
   "outputs": [],
   "source": [
    "tr.isna().sum()"
   ]
  },
  {
   "cell_type": "code",
   "execution_count": null,
   "metadata": {},
   "outputs": [],
   "source": [
    "tr['transactions_type'].value_counts()"
   ]
  },
  {
   "cell_type": "code",
   "execution_count": null,
   "metadata": {},
   "outputs": [],
   "source": [
    "type_dict = {'CARD_PAYMENT': 'PAYMENT','TOPUP': 'PAYMENT',\n",
    "              'TRANSFER': 'PAYMENT',\n",
    "              'EXCHANGE': 'EXCHANGE',\n",
    "              'ATM': 'ATM',\n",
    "              'TAX': 'FEES','FEE': 'FEES',\n",
    "              'CASHBACK': 'REFUNDS', 'REFUND': 'REFUNDS', 'CARD_REFUND': 'REFUNDS'}\n",
    "\n",
    "tr['transactions_type'] = tr['transactions_type'].map(type_dict)\n",
    "tr['transactions_type'].value_counts()  "
   ]
  },
  {
   "cell_type": "code",
   "execution_count": null,
   "metadata": {},
   "outputs": [],
   "source": [
    "tr['transactions_currency'].value_counts()"
   ]
  },
  {
   "cell_type": "code",
   "execution_count": null,
   "metadata": {},
   "outputs": [],
   "source": [
    "tr['amount_usd'].value_counts()"
   ]
  },
  {
   "cell_type": "code",
   "execution_count": null,
   "metadata": {},
   "outputs": [],
   "source": [
    "tr.drop(tr[ tr['amount_usd'] == 0.0 ].index , inplace=True)\n",
    "tr['amount_usd'].value_counts()"
   ]
  },
  {
   "cell_type": "code",
   "execution_count": null,
   "metadata": {},
   "outputs": [],
   "source": [
    "tr['amount_usd'].describe()"
   ]
  },
  {
   "cell_type": "code",
   "execution_count": null,
   "metadata": {},
   "outputs": [],
   "source": [
    "tr['transactions_state'].value_counts()"
   ]
  },
  {
   "cell_type": "code",
   "execution_count": null,
   "metadata": {},
   "outputs": [],
   "source": [
    "state_dict = {'COMPLETED': 'COMPLETED',\n",
    "              'PENDING': 'PENDING',\n",
    "              'REVERTED': 'REVERTED',\n",
    "              'DECLINED': 'FAILED', 'FAILED': 'FAILED', 'CANCELLED': 'FAILED'}\n",
    "\n",
    "tr['transactions_state'] = tr['transactions_state'].map(state_dict)\n",
    "tr['transactions_state'].value_counts()"
   ]
  },
  {
   "cell_type": "code",
   "execution_count": null,
   "metadata": {},
   "outputs": [],
   "source": [
    "tr['ea_cardholderpresence'].value_counts()"
   ]
  },
  {
   "cell_type": "code",
   "execution_count": null,
   "metadata": {},
   "outputs": [],
   "source": [
    "pd.crosstab(index=tr['transactions_type'], columns=tr['ea_cardholderpresence'])  # susxetish sthlwn\n"
   ]
  },
  {
   "cell_type": "code",
   "execution_count": null,
   "metadata": {},
   "outputs": [],
   "source": [
    "#def change_unknown_ea_cardholderpresence(presence):\n",
    "#    if presence == 'UNKNOWN':\n",
    "#       return random.sample(['FALSE', 'TRUE'], 1)[0]\n",
    "#    elif presence == 'nan':\n",
    "#        return random.sample(['FALSE', 'TRUE'], 1)[0]\n",
    "#    else:\n",
    "#        return presence\n",
    "#\n",
    "#tr['ea_cardholderpresence'] = tr['ea_cardholderpresence'].apply(change_unknown_ea_cardholderpresence)\n",
    "#tr['ea_cardholderpresence'].value_counts()\n"
   ]
  },
  {
   "cell_type": "code",
   "execution_count": null,
   "metadata": {},
   "outputs": [],
   "source": [
    "#presence_dict = {'FALSE': 0, 'TRUE': 1}\n",
    "#tr['ea_cardholderpresence'] = tr['ea_cardholderpresence'].map(presence_dict)\n",
    "#tr['ea_cardholderpresence'].value_counts()"
   ]
  },
  {
   "cell_type": "code",
   "execution_count": null,
   "metadata": {},
   "outputs": [],
   "source": [
    "tr['ea_merchant_mcc'].value_counts()  # delete polla nan"
   ]
  },
  {
   "cell_type": "code",
   "execution_count": null,
   "metadata": {},
   "outputs": [],
   "source": [
    "tr['ea_merchant_city'].value_counts() # delete polla nan kai wrong values"
   ]
  },
  {
   "cell_type": "code",
   "execution_count": null,
   "metadata": {
    "scrolled": false
   },
   "outputs": [],
   "source": [
    "tr['ea_merchant_country'].value_counts()"
   ]
  },
  {
   "cell_type": "code",
   "execution_count": null,
   "metadata": {
    "scrolled": false
   },
   "outputs": [],
   "source": [
    "\n",
    "u,c = np.unique (tr.ea_merchant_country , return_counts = True )\n",
    "for z in zip(list(u) , list(c)):\n",
    "  print ('{} : {}'.format(z[0],z[1]))"
   ]
  },
  {
   "cell_type": "code",
   "execution_count": null,
   "metadata": {},
   "outputs": [],
   "source": [
    "#import pycountry_convert as pc\n",
    "\n",
    "#def ea_merchant_country_continent(country_code):\n",
    "#  if country_code != 'nan':\n",
    "#    continent_name = pc.country_alpha2_to_continent_code(country_code)\n",
    "#    return continent_name\n",
    "#  else:\n",
    "#    return country_code\n",
    "\n",
    "#tr['ea_merchant_country'] = tr['ea_merchant_country'].apply(country_code)  # apply-> transformation\n",
    "#tr['ea_merchant_country'].value_counts()"
   ]
  },
  {
   "cell_type": "code",
   "execution_count": null,
   "metadata": {},
   "outputs": [],
   "source": [
    "tr['direction'].value_counts()"
   ]
  },
  {
   "cell_type": "code",
   "execution_count": null,
   "metadata": {},
   "outputs": [],
   "source": [
    "direction_dict = {'OUTBOUND': 0, 'INBOUND': 1}\n",
    "tr['direction'] = tr['direction'].map(direction_dict)\n",
    "tr['direction'].value_counts()"
   ]
  },
  {
   "cell_type": "markdown",
   "metadata": {},
   "source": [
    "## Droping columns\n",
    "\n",
    "ea_cardholderpresence --> nan => UNKNOWN\n",
    "\n",
    "ea_merchant_mcc --> polla nan ->  del column (923975 missing values)\n",
    "\n",
    "ea_merchant_city (str) --> del column\n"
   ]
  },
  {
   "cell_type": "code",
   "execution_count": null,
   "metadata": {},
   "outputs": [],
   "source": [
    "# Dropping  columns\n",
    "new_tr = tr.copy()\n",
    "del new_tr['ea_merchant_city']\n",
    "del new_tr['ea_merchant_mcc']\n",
    "del new_tr['ea_merchant_country']\n",
    "del new_tr['ea_cardholderpresence']\n",
    "new_tr.to_csv('data/new_transactions.csv')"
   ]
  },
  {
   "cell_type": "code",
   "execution_count": null,
   "metadata": {},
   "outputs": [],
   "source": [
    "#new_tr.isna().sum()\n",
    "new_tr.head()"
   ]
  },
  {
   "cell_type": "markdown",
   "metadata": {},
   "source": [
    "## Finding Outliers"
   ]
  },
  {
   "cell_type": "code",
   "execution_count": null,
   "metadata": {},
   "outputs": [],
   "source": [
    "sns.distplot(tr.amount_usd);"
   ]
  },
  {
   "cell_type": "code",
   "execution_count": null,
   "metadata": {},
   "outputs": [],
   "source": [
    "tr.amount_usd.describe()\n",
    "tr[tr.amount_usd >= 1e+08].amount_usd.count()\n",
    "sns.boxplot(x=tr['amount_usd'])"
   ]
  },
  {
   "cell_type": "code",
   "execution_count": null,
   "metadata": {},
   "outputs": [],
   "source": [
    "sns.boxplot(x=tr[tr.transactions_state == 'COMPLETED'].amount_usd)"
   ]
  },
  {
   "cell_type": "code",
   "execution_count": null,
   "metadata": {},
   "outputs": [],
   "source": []
  },
  {
   "cell_type": "code",
   "execution_count": null,
   "metadata": {},
   "outputs": [],
   "source": [
    "pd.crosstab(index=tr['amount_usd'], columns=tr['transactions_type'])  # susxetish sthlwn"
   ]
  },
  {
   "cell_type": "code",
   "execution_count": null,
   "metadata": {},
   "outputs": [],
   "source": [
    "pd.crosstab(index=tr['user_id'], columns=tr['transactions_type'])  # susxetish sthlwn"
   ]
  },
  {
   "cell_type": "code",
   "execution_count": null,
   "metadata": {},
   "outputs": [],
   "source": [
    "A = tr[tr['transactions_state'] == 'COMPLETED']\n",
    "B1 = tr[tr['transactions_state'] == 'REVERTED']\n",
    "\n",
    "\n",
    "df1 = pd.A(firstProductSet,columns= ['user_id', 'transactions_state', 'amount_usd'])\n",
    "\n",
    "df2 = pd.B1(secondProductSet,columns= ['user_id', 'transactions_state', 'amount_usd'])\n",
    "\n",
    "if df1['user_id'] === df2['user_id']:\n",
    "    df1['pricesMatch?'] = np.where(df1['amount_usd'] == df2['amount_usd'] and , 'True', 'False')\n",
    "    df1['priceDiff?'] = np.where(df1['amount_usd'] == df2['Price2'], 0, df1['Price1'] - df2['Price2'])\n",
    "\n",
    "print (df1)\n"
   ]
  },
  {
   "cell_type": "code",
   "execution_count": null,
   "metadata": {},
   "outputs": [],
   "source": [
    "tr.drop_duplicates(subset=tr.columns.difference(['transactions_state', 'created_date', 'transaction_id']))"
   ]
  },
  {
   "cell_type": "code",
   "execution_count": null,
   "metadata": {},
   "outputs": [],
   "source": [
    "tr"
   ]
  },
  {
   "cell_type": "code",
   "execution_count": null,
   "metadata": {},
   "outputs": [],
   "source": []
  },
  {
   "cell_type": "code",
   "execution_count": 28,
   "metadata": {},
   "outputs": [
    {
     "data": {
      "text/html": [
       "<div>\n",
       "<style scoped>\n",
       "    .dataframe tbody tr th:only-of-type {\n",
       "        vertical-align: middle;\n",
       "    }\n",
       "\n",
       "    .dataframe tbody tr th {\n",
       "        vertical-align: top;\n",
       "    }\n",
       "\n",
       "    .dataframe thead th {\n",
       "        text-align: right;\n",
       "    }\n",
       "</style>\n",
       "<table border=\"1\" class=\"dataframe\">\n",
       "  <thead>\n",
       "    <tr style=\"text-align: right;\">\n",
       "      <th></th>\n",
       "      <th>transaction_id</th>\n",
       "      <th>transactions_type</th>\n",
       "      <th>transactions_currency</th>\n",
       "      <th>amount_usd</th>\n",
       "      <th>transactions_state</th>\n",
       "      <th>ea_cardholderpresence</th>\n",
       "      <th>ea_merchant_mcc</th>\n",
       "      <th>ea_merchant_city</th>\n",
       "      <th>ea_merchant_country</th>\n",
       "      <th>direction</th>\n",
       "      <th>user_id</th>\n",
       "      <th>created_date</th>\n",
       "    </tr>\n",
       "  </thead>\n",
       "  <tbody>\n",
       "    <tr>\n",
       "      <th>0</th>\n",
       "      <td>transaction_0</td>\n",
       "      <td>TRANSFER</td>\n",
       "      <td>AED</td>\n",
       "      <td>4.55</td>\n",
       "      <td>COMPLETED</td>\n",
       "      <td>nan</td>\n",
       "      <td>NaN</td>\n",
       "      <td>nan</td>\n",
       "      <td>nan</td>\n",
       "      <td>OUTBOUND</td>\n",
       "      <td>user_4368</td>\n",
       "      <td>2018-04-03 03:34:21.784487</td>\n",
       "    </tr>\n",
       "    <tr>\n",
       "      <th>1</th>\n",
       "      <td>transaction_1</td>\n",
       "      <td>CARD_PAYMENT</td>\n",
       "      <td>AED</td>\n",
       "      <td>15.50</td>\n",
       "      <td>COMPLETED</td>\n",
       "      <td>FALSE</td>\n",
       "      <td>4111.0</td>\n",
       "      <td>Dubai</td>\n",
       "      <td>ARE</td>\n",
       "      <td>OUTBOUND</td>\n",
       "      <td>user_2355</td>\n",
       "      <td>2019-03-19 06:15:59.537032</td>\n",
       "    </tr>\n",
       "    <tr>\n",
       "      <th>2</th>\n",
       "      <td>transaction_2</td>\n",
       "      <td>CARD_PAYMENT</td>\n",
       "      <td>AED</td>\n",
       "      <td>43.40</td>\n",
       "      <td>COMPLETED</td>\n",
       "      <td>FALSE</td>\n",
       "      <td>5814.0</td>\n",
       "      <td>Dubai</td>\n",
       "      <td>ARE</td>\n",
       "      <td>OUTBOUND</td>\n",
       "      <td>user_2355</td>\n",
       "      <td>2019-03-18 18:53:41.323032</td>\n",
       "    </tr>\n",
       "    <tr>\n",
       "      <th>3</th>\n",
       "      <td>transaction_3</td>\n",
       "      <td>TRANSFER</td>\n",
       "      <td>AED</td>\n",
       "      <td>10043.01</td>\n",
       "      <td>COMPLETED</td>\n",
       "      <td>nan</td>\n",
       "      <td>NaN</td>\n",
       "      <td>nan</td>\n",
       "      <td>nan</td>\n",
       "      <td>OUTBOUND</td>\n",
       "      <td>user_2355</td>\n",
       "      <td>2019-03-22 14:20:01.513032</td>\n",
       "    </tr>\n",
       "    <tr>\n",
       "      <th>4</th>\n",
       "      <td>transaction_4</td>\n",
       "      <td>CARD_PAYMENT</td>\n",
       "      <td>AED</td>\n",
       "      <td>43.81</td>\n",
       "      <td>COMPLETED</td>\n",
       "      <td>FALSE</td>\n",
       "      <td>5651.0</td>\n",
       "      <td>Abu Dhabi</td>\n",
       "      <td>ARE</td>\n",
       "      <td>OUTBOUND</td>\n",
       "      <td>user_14318</td>\n",
       "      <td>2019-03-22 05:42:50.316652</td>\n",
       "    </tr>\n",
       "    <tr>\n",
       "      <th>...</th>\n",
       "      <td>...</td>\n",
       "      <td>...</td>\n",
       "      <td>...</td>\n",
       "      <td>...</td>\n",
       "      <td>...</td>\n",
       "      <td>...</td>\n",
       "      <td>...</td>\n",
       "      <td>...</td>\n",
       "      <td>...</td>\n",
       "      <td>...</td>\n",
       "      <td>...</td>\n",
       "      <td>...</td>\n",
       "    </tr>\n",
       "    <tr>\n",
       "      <th>681020</th>\n",
       "      <td>transaction_2181020</td>\n",
       "      <td>TRANSFER</td>\n",
       "      <td>EUR</td>\n",
       "      <td>46.81</td>\n",
       "      <td>COMPLETED</td>\n",
       "      <td>nan</td>\n",
       "      <td>NaN</td>\n",
       "      <td>nan</td>\n",
       "      <td>nan</td>\n",
       "      <td>INBOUND</td>\n",
       "      <td>user_1011</td>\n",
       "      <td>2019-04-30 10:14:11.002961</td>\n",
       "    </tr>\n",
       "    <tr>\n",
       "      <th>681022</th>\n",
       "      <td>transaction_2181022</td>\n",
       "      <td>TRANSFER</td>\n",
       "      <td>EUR</td>\n",
       "      <td>1.70</td>\n",
       "      <td>COMPLETED</td>\n",
       "      <td>nan</td>\n",
       "      <td>NaN</td>\n",
       "      <td>nan</td>\n",
       "      <td>nan</td>\n",
       "      <td>OUTBOUND</td>\n",
       "      <td>user_1011</td>\n",
       "      <td>2019-04-30 10:10:36.810961</td>\n",
       "    </tr>\n",
       "    <tr>\n",
       "      <th>681023</th>\n",
       "      <td>transaction_2181023</td>\n",
       "      <td>TRANSFER</td>\n",
       "      <td>EUR</td>\n",
       "      <td>4.26</td>\n",
       "      <td>COMPLETED</td>\n",
       "      <td>nan</td>\n",
       "      <td>NaN</td>\n",
       "      <td>nan</td>\n",
       "      <td>nan</td>\n",
       "      <td>OUTBOUND</td>\n",
       "      <td>user_3170</td>\n",
       "      <td>2019-05-01 11:34:25.078035</td>\n",
       "    </tr>\n",
       "    <tr>\n",
       "      <th>681024</th>\n",
       "      <td>transaction_2181024</td>\n",
       "      <td>TRANSFER</td>\n",
       "      <td>EUR</td>\n",
       "      <td>1.70</td>\n",
       "      <td>COMPLETED</td>\n",
       "      <td>nan</td>\n",
       "      <td>NaN</td>\n",
       "      <td>nan</td>\n",
       "      <td>nan</td>\n",
       "      <td>OUTBOUND</td>\n",
       "      <td>user_8195</td>\n",
       "      <td>2019-04-30 16:51:26.445105</td>\n",
       "    </tr>\n",
       "    <tr>\n",
       "      <th>681025</th>\n",
       "      <td>transaction_2181025</td>\n",
       "      <td>TRANSFER</td>\n",
       "      <td>EUR</td>\n",
       "      <td>4.26</td>\n",
       "      <td>COMPLETED</td>\n",
       "      <td>nan</td>\n",
       "      <td>NaN</td>\n",
       "      <td>nan</td>\n",
       "      <td>nan</td>\n",
       "      <td>OUTBOUND</td>\n",
       "      <td>user_10859</td>\n",
       "      <td>2019-05-01 06:01:59.441309</td>\n",
       "    </tr>\n",
       "  </tbody>\n",
       "</table>\n",
       "<p>2005717 rows × 12 columns</p>\n",
       "</div>"
      ],
      "text/plain": [
       "             transaction_id transactions_type transactions_currency  \\\n",
       "0             transaction_0          TRANSFER                   AED   \n",
       "1             transaction_1      CARD_PAYMENT                   AED   \n",
       "2             transaction_2      CARD_PAYMENT                   AED   \n",
       "3             transaction_3          TRANSFER                   AED   \n",
       "4             transaction_4      CARD_PAYMENT                   AED   \n",
       "...                     ...               ...                   ...   \n",
       "681020  transaction_2181020          TRANSFER                   EUR   \n",
       "681022  transaction_2181022          TRANSFER                   EUR   \n",
       "681023  transaction_2181023          TRANSFER                   EUR   \n",
       "681024  transaction_2181024          TRANSFER                   EUR   \n",
       "681025  transaction_2181025          TRANSFER                   EUR   \n",
       "\n",
       "        amount_usd transactions_state ea_cardholderpresence  ea_merchant_mcc  \\\n",
       "0             4.55          COMPLETED                   nan              NaN   \n",
       "1            15.50          COMPLETED                 FALSE           4111.0   \n",
       "2            43.40          COMPLETED                 FALSE           5814.0   \n",
       "3         10043.01          COMPLETED                   nan              NaN   \n",
       "4            43.81          COMPLETED                 FALSE           5651.0   \n",
       "...            ...                ...                   ...              ...   \n",
       "681020       46.81          COMPLETED                   nan              NaN   \n",
       "681022        1.70          COMPLETED                   nan              NaN   \n",
       "681023        4.26          COMPLETED                   nan              NaN   \n",
       "681024        1.70          COMPLETED                   nan              NaN   \n",
       "681025        4.26          COMPLETED                   nan              NaN   \n",
       "\n",
       "       ea_merchant_city ea_merchant_country direction     user_id  \\\n",
       "0                   nan                 nan  OUTBOUND   user_4368   \n",
       "1                 Dubai                 ARE  OUTBOUND   user_2355   \n",
       "2                 Dubai                 ARE  OUTBOUND   user_2355   \n",
       "3                   nan                 nan  OUTBOUND   user_2355   \n",
       "4             Abu Dhabi                 ARE  OUTBOUND  user_14318   \n",
       "...                 ...                 ...       ...         ...   \n",
       "681020              nan                 nan   INBOUND   user_1011   \n",
       "681022              nan                 nan  OUTBOUND   user_1011   \n",
       "681023              nan                 nan  OUTBOUND   user_3170   \n",
       "681024              nan                 nan  OUTBOUND   user_8195   \n",
       "681025              nan                 nan  OUTBOUND  user_10859   \n",
       "\n",
       "                      created_date  \n",
       "0       2018-04-03 03:34:21.784487  \n",
       "1       2019-03-19 06:15:59.537032  \n",
       "2       2019-03-18 18:53:41.323032  \n",
       "3       2019-03-22 14:20:01.513032  \n",
       "4       2019-03-22 05:42:50.316652  \n",
       "...                            ...  \n",
       "681020  2019-04-30 10:14:11.002961  \n",
       "681022  2019-04-30 10:10:36.810961  \n",
       "681023  2019-05-01 11:34:25.078035  \n",
       "681024  2019-04-30 16:51:26.445105  \n",
       "681025  2019-05-01 06:01:59.441309  \n",
       "\n",
       "[2005717 rows x 12 columns]"
      ]
     },
     "execution_count": 28,
     "metadata": {},
     "output_type": "execute_result"
    }
   ],
   "source": [
    "tr[tr['transactions_state'].isin(['COMPLETED','REVERTED'])]\n",
    "#filter2 = tr['transactions_state'].isin(['COMPLETED','REVERTED'])\n",
    "\n",
    "#tr[filter1 & filter2]"
   ]
  },
  {
   "cell_type": "code",
   "execution_count": 15,
   "metadata": {},
   "outputs": [
    {
     "data": {
      "text/plain": [
       "True     89074\n",
       "False      256\n",
       "Name: user_id, dtype: int64"
      ]
     },
     "execution_count": 15,
     "metadata": {},
     "output_type": "execute_result"
    }
   ],
   "source": [
    "A = tr[tr['transactions_state'] == 'COMPLETED']\n",
    "R = tr[tr['transactions_state'] == 'REVERTED']\n",
    "F = tr[tr['transactions_state'] == 'FAILED']\n",
    "\n",
    "R['user_id'].isin(A['user_id']).value_counts()\n"
   ]
  },
  {
   "cell_type": "code",
   "execution_count": 21,
   "metadata": {},
   "outputs": [
    {
     "data": {
      "text/plain": [
       "True     30493\n",
       "False     2073\n",
       "Name: amount_usd, dtype: int64"
      ]
     },
     "execution_count": 21,
     "metadata": {},
     "output_type": "execute_result"
    }
   ],
   "source": [
    "F['amount_usd'].isin(R['amount_usd']).value_counts()"
   ]
  },
  {
   "cell_type": "code",
   "execution_count": 8,
   "metadata": {},
   "outputs": [
    {
     "data": {
      "text/plain": [
       "(1916387, 12)"
      ]
     },
     "execution_count": 8,
     "metadata": {},
     "output_type": "execute_result"
    }
   ],
   "source": [
    "A.shape"
   ]
  },
  {
   "cell_type": "code",
   "execution_count": 22,
   "metadata": {},
   "outputs": [
    {
     "data": {
      "text/plain": [
       "(89330, 12)"
      ]
     },
     "execution_count": 22,
     "metadata": {},
     "output_type": "execute_result"
    }
   ],
   "source": [
    "R.shape"
   ]
  },
  {
   "cell_type": "code",
   "execution_count": null,
   "metadata": {},
   "outputs": [],
   "source": []
  },
  {
   "cell_type": "code",
   "execution_count": null,
   "metadata": {},
   "outputs": [],
   "source": []
  },
  {
   "cell_type": "code",
   "execution_count": null,
   "metadata": {},
   "outputs": [],
   "source": []
  }
 ],
 "metadata": {
  "kernelspec": {
   "display_name": "Python 3",
   "language": "python",
   "name": "python3"
  },
  "language_info": {
   "codemirror_mode": {
    "name": "ipython",
    "version": 3
   },
   "file_extension": ".py",
   "mimetype": "text/x-python",
   "name": "python",
   "nbconvert_exporter": "python",
   "pygments_lexer": "ipython3",
   "version": "3.8.2"
  }
 },
 "nbformat": 4,
 "nbformat_minor": 4
}
