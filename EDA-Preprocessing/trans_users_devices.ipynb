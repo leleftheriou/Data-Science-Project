{
  "nbformat": 4,
  "nbformat_minor": 0,
  "metadata": {
    "colab": {
      "name": "Transactions.ipynb",
      "provenance": [],
      "collapsed_sections": []
    },
    "kernelspec": {
      "name": "python3",
      "display_name": "Python 3"
    }
  },
  "cells": [
    {
      "cell_type": "code",
      "metadata": {
        "id": "9lClEMqe9LXf",
        "colab_type": "code",
        "outputId": "27b6f7f5-aabe-4aaf-d084-82fa5c2565da",
        "colab": {
          "base_uri": "https://localhost:8080/",
          "height": 71
        }
      },
      "source": [
        "import pandas as pd\n",
        "import numpy as np\n",
        "import matplotlib.pyplot as plt\n",
        "import seaborn as sns"
      ],
      "execution_count": 5,
      "outputs": [
        {
          "output_type": "stream",
          "text": [
            "/usr/local/lib/python3.6/dist-packages/statsmodels/tools/_testing.py:19: FutureWarning: pandas.util.testing is deprecated. Use the functions in the public API at pandas.testing instead.\n",
            "  import pandas.util.testing as tm\n"
          ],
          "name": "stderr"
        }
      ]
    },
    {
      "cell_type": "code",
      "metadata": {
        "id": "WiQytcnO9Yax",
        "colab_type": "code",
        "colab": {}
      },
      "source": [
        "trans = pd.read_csv('combined_csv.csv') #Διαβαζω τα transactions 1,2,3 mazi\n"
      ],
      "execution_count": 0,
      "outputs": []
    },
    {
      "cell_type": "markdown",
      "metadata": {
        "id": "oQsBc3oraVYt",
        "colab_type": "text"
      },
      "source": [
        "\n",
        "\n",
        "<hr>\n",
        "<li><b>Understand what each table/column represents.</b></li>\n",
        "<hr>"
      ]
    },
    {
      "cell_type": "code",
      "metadata": {
        "id": "Gli96QxGLzNI",
        "colab_type": "code",
        "outputId": "7c66e28d-fdc6-41bc-f2da-bfe628c9d359",
        "colab": {
          "base_uri": "https://localhost:8080/",
          "height": 309
        }
      },
      "source": [
        "trans.head() #proepiskophsh twn 5 prwtwn seirwn"
      ],
      "execution_count": 8,
      "outputs": [
        {
          "output_type": "execute_result",
          "data": {
            "text/html": [
              "<div>\n",
              "<style scoped>\n",
              "    .dataframe tbody tr th:only-of-type {\n",
              "        vertical-align: middle;\n",
              "    }\n",
              "\n",
              "    .dataframe tbody tr th {\n",
              "        vertical-align: top;\n",
              "    }\n",
              "\n",
              "    .dataframe thead th {\n",
              "        text-align: right;\n",
              "    }\n",
              "</style>\n",
              "<table border=\"1\" class=\"dataframe\">\n",
              "  <thead>\n",
              "    <tr style=\"text-align: right;\">\n",
              "      <th></th>\n",
              "      <th>transaction_id</th>\n",
              "      <th>transactions_type</th>\n",
              "      <th>transactions_currency</th>\n",
              "      <th>amount_usd</th>\n",
              "      <th>transactions_state</th>\n",
              "      <th>ea_cardholderpresence</th>\n",
              "      <th>ea_merchant_mcc</th>\n",
              "      <th>ea_merchant_city</th>\n",
              "      <th>ea_merchant_country</th>\n",
              "      <th>direction</th>\n",
              "      <th>user_id</th>\n",
              "      <th>created_date</th>\n",
              "    </tr>\n",
              "  </thead>\n",
              "  <tbody>\n",
              "    <tr>\n",
              "      <th>0</th>\n",
              "      <td>transaction_0</td>\n",
              "      <td>TRANSFER</td>\n",
              "      <td>AED</td>\n",
              "      <td>4.55</td>\n",
              "      <td>COMPLETED</td>\n",
              "      <td>NaN</td>\n",
              "      <td>NaN</td>\n",
              "      <td>NaN</td>\n",
              "      <td>NaN</td>\n",
              "      <td>OUTBOUND</td>\n",
              "      <td>user_4368</td>\n",
              "      <td>2018-04-03 03:34:21.784487</td>\n",
              "    </tr>\n",
              "    <tr>\n",
              "      <th>1</th>\n",
              "      <td>transaction_1</td>\n",
              "      <td>CARD_PAYMENT</td>\n",
              "      <td>AED</td>\n",
              "      <td>15.50</td>\n",
              "      <td>COMPLETED</td>\n",
              "      <td>FALSE</td>\n",
              "      <td>4111.0</td>\n",
              "      <td>Dubai</td>\n",
              "      <td>ARE</td>\n",
              "      <td>OUTBOUND</td>\n",
              "      <td>user_2355</td>\n",
              "      <td>2019-03-19 06:15:59.537032</td>\n",
              "    </tr>\n",
              "    <tr>\n",
              "      <th>2</th>\n",
              "      <td>transaction_2</td>\n",
              "      <td>CARD_PAYMENT</td>\n",
              "      <td>AED</td>\n",
              "      <td>43.40</td>\n",
              "      <td>COMPLETED</td>\n",
              "      <td>FALSE</td>\n",
              "      <td>5814.0</td>\n",
              "      <td>Dubai</td>\n",
              "      <td>ARE</td>\n",
              "      <td>OUTBOUND</td>\n",
              "      <td>user_2355</td>\n",
              "      <td>2019-03-18 18:53:41.323032</td>\n",
              "    </tr>\n",
              "    <tr>\n",
              "      <th>3</th>\n",
              "      <td>transaction_3</td>\n",
              "      <td>TRANSFER</td>\n",
              "      <td>AED</td>\n",
              "      <td>10043.01</td>\n",
              "      <td>COMPLETED</td>\n",
              "      <td>NaN</td>\n",
              "      <td>NaN</td>\n",
              "      <td>NaN</td>\n",
              "      <td>NaN</td>\n",
              "      <td>OUTBOUND</td>\n",
              "      <td>user_2355</td>\n",
              "      <td>2019-03-22 14:20:01.513032</td>\n",
              "    </tr>\n",
              "    <tr>\n",
              "      <th>4</th>\n",
              "      <td>transaction_4</td>\n",
              "      <td>CARD_PAYMENT</td>\n",
              "      <td>AED</td>\n",
              "      <td>43.81</td>\n",
              "      <td>COMPLETED</td>\n",
              "      <td>FALSE</td>\n",
              "      <td>5651.0</td>\n",
              "      <td>Abu Dhabi</td>\n",
              "      <td>ARE</td>\n",
              "      <td>OUTBOUND</td>\n",
              "      <td>user_14318</td>\n",
              "      <td>2019-03-22 05:42:50.316652</td>\n",
              "    </tr>\n",
              "  </tbody>\n",
              "</table>\n",
              "</div>"
            ],
            "text/plain": [
              "  transaction_id transactions_type  ...     user_id                created_date\n",
              "0  transaction_0          TRANSFER  ...   user_4368  2018-04-03 03:34:21.784487\n",
              "1  transaction_1      CARD_PAYMENT  ...   user_2355  2019-03-19 06:15:59.537032\n",
              "2  transaction_2      CARD_PAYMENT  ...   user_2355  2019-03-18 18:53:41.323032\n",
              "3  transaction_3          TRANSFER  ...   user_2355  2019-03-22 14:20:01.513032\n",
              "4  transaction_4      CARD_PAYMENT  ...  user_14318  2019-03-22 05:42:50.316652\n",
              "\n",
              "[5 rows x 12 columns]"
            ]
          },
          "metadata": {
            "tags": []
          },
          "execution_count": 8
        }
      ]
    },
    {
      "cell_type": "code",
      "metadata": {
        "id": "EJgLjNeILmky",
        "colab_type": "code",
        "outputId": "bb8a1963-ed3c-43e9-b884-6829a18f6580",
        "colab": {
          "base_uri": "https://localhost:8080/",
          "height": 34
        }
      },
      "source": [
        "trans.shape"
      ],
      "execution_count": 9,
      "outputs": [
        {
          "output_type": "execute_result",
          "data": {
            "text/plain": [
              "(2181026, 12)"
            ]
          },
          "metadata": {
            "tags": []
          },
          "execution_count": 9
        }
      ]
    },
    {
      "cell_type": "code",
      "metadata": {
        "id": "VLhDEdcZLrlu",
        "colab_type": "code",
        "outputId": "5ea78d8d-73ff-411f-b921-b63df26754c0",
        "colab": {
          "base_uri": "https://localhost:8080/",
          "height": 102
        }
      },
      "source": [
        "trans.keys()"
      ],
      "execution_count": 10,
      "outputs": [
        {
          "output_type": "execute_result",
          "data": {
            "text/plain": [
              "Index(['transaction_id', 'transactions_type', 'transactions_currency',\n",
              "       'amount_usd', 'transactions_state', 'ea_cardholderpresence',\n",
              "       'ea_merchant_mcc', 'ea_merchant_city', 'ea_merchant_country',\n",
              "       'direction', 'user_id', 'created_date'],\n",
              "      dtype='object')"
            ]
          },
          "metadata": {
            "tags": []
          },
          "execution_count": 10
        }
      ]
    },
    {
      "cell_type": "code",
      "metadata": {
        "id": "5Wmtxhu5Lu1V",
        "colab_type": "code",
        "outputId": "c7fad3a2-dd38-4325-f144-1b808018b324",
        "colab": {
          "base_uri": "https://localhost:8080/",
          "height": 238
        }
      },
      "source": [
        "trans.dtypes"
      ],
      "execution_count": 11,
      "outputs": [
        {
          "output_type": "execute_result",
          "data": {
            "text/plain": [
              "transaction_id            object\n",
              "transactions_type         object\n",
              "transactions_currency     object\n",
              "amount_usd               float64\n",
              "transactions_state        object\n",
              "ea_cardholderpresence     object\n",
              "ea_merchant_mcc          float64\n",
              "ea_merchant_city          object\n",
              "ea_merchant_country       object\n",
              "direction                 object\n",
              "user_id                   object\n",
              "created_date              object\n",
              "dtype: object"
            ]
          },
          "metadata": {
            "tags": []
          },
          "execution_count": 11
        }
      ]
    },
    {
      "cell_type": "markdown",
      "metadata": {
        "id": "75R7A7jhR1sl",
        "colab_type": "text"
      },
      "source": [
        "**1)transactions id :** Id συναλλαγης\n",
        "\n",
        "**2)transactions type :** Με ποιο μέσο έγινε η συναλλαγη (ATM/ΠΛΗΡΩΜΗ ΚΑΡΤΑΣ κτλ)\n",
        "\n",
        "**3)transactions currency:** Νομισματική μονάδα συναλλαγης:AED : 2590\n",
        "\n",
        "**4)amount_usd:** Η συναλλαγη σε ΔΟΛΑΡΙΑ\n",
        "\n",
        "**5)transaction state:** Κατάσταση της συναλλαγής\\\n",
        "COMPLETED:ολοκληρώθηκε η συναλλαγή\\\n",
        "DECLINED/CANCELLED/FAILED: απορρίφθηκε για κάποιο λόγο\\\n",
        "PENDING:εκκρεμής συναλλαγή\\\n",
        "REVERTED:αρχικά ολοκληρώθηκε αλλά για κάποιο λόγο έγινε επιστροφή (όπως όταν παραγγέλνεις κάτι και το επιστρέφεις και γίνεται επιστροφή χρημάτων)\n",
        "\n",
        "**6)ea cardholderpresence :** ήταν ή όχι μπροστά ο κάτοχος της κάρτας κατά την συναλλαγή\n",
        "\n",
        "**7)Ea Merchant Mcc :** To MCC κατηγοριοποιεί την εταιρεία με βάση του τί προσφέρει.(διαφορετικός κωδικός για το φαγητό,διαφορετικός για τα ρούχα)\n",
        "\n",
        "**8)Ea Merchant City :**Πόλη Εμπόρου\n",
        "\n",
        "**9)Ea Merchant Country :**Χώρα Εμπόρου\n",
        "\n",
        "**10)Direction :** Εισερχόμενες ή Εξερχόμενες συναλλαγές\n",
        "\n",
        "**11)User Id:** ID του χρήστη,θα συνδεθεί με marge με τους άλλους πίνακες\n",
        "\n",
        "**12)Created Date:** Ημερομηνία συναλλαγής\n"
      ]
    },
    {
      "cell_type": "code",
      "metadata": {
        "id": "js343MTuLw59",
        "colab_type": "code",
        "outputId": "c6de99b4-eeff-441c-891f-7f40ba4bfee6",
        "colab": {
          "base_uri": "https://localhost:8080/",
          "height": 297
        }
      },
      "source": [
        "trans.describe()"
      ],
      "execution_count": 12,
      "outputs": [
        {
          "output_type": "execute_result",
          "data": {
            "text/html": [
              "<div>\n",
              "<style scoped>\n",
              "    .dataframe tbody tr th:only-of-type {\n",
              "        vertical-align: middle;\n",
              "    }\n",
              "\n",
              "    .dataframe tbody tr th {\n",
              "        vertical-align: top;\n",
              "    }\n",
              "\n",
              "    .dataframe thead th {\n",
              "        text-align: right;\n",
              "    }\n",
              "</style>\n",
              "<table border=\"1\" class=\"dataframe\">\n",
              "  <thead>\n",
              "    <tr style=\"text-align: right;\">\n",
              "      <th></th>\n",
              "      <th>amount_usd</th>\n",
              "      <th>ea_merchant_mcc</th>\n",
              "    </tr>\n",
              "  </thead>\n",
              "  <tbody>\n",
              "    <tr>\n",
              "      <th>count</th>\n",
              "      <td>2.181026e+06</td>\n",
              "      <td>1.257051e+06</td>\n",
              "    </tr>\n",
              "    <tr>\n",
              "      <th>mean</th>\n",
              "      <td>1.189225e+05</td>\n",
              "      <td>5.703386e+03</td>\n",
              "    </tr>\n",
              "    <tr>\n",
              "      <th>std</th>\n",
              "      <td>6.955454e+07</td>\n",
              "      <td>9.480411e+02</td>\n",
              "    </tr>\n",
              "    <tr>\n",
              "      <th>min</th>\n",
              "      <td>0.000000e+00</td>\n",
              "      <td>7.420000e+02</td>\n",
              "    </tr>\n",
              "    <tr>\n",
              "      <th>25%</th>\n",
              "      <td>2.030000e+00</td>\n",
              "      <td>5.411000e+03</td>\n",
              "    </tr>\n",
              "    <tr>\n",
              "      <th>50%</th>\n",
              "      <td>8.510000e+00</td>\n",
              "      <td>5.812000e+03</td>\n",
              "    </tr>\n",
              "    <tr>\n",
              "      <th>75%</th>\n",
              "      <td>2.807000e+01</td>\n",
              "      <td>5.921000e+03</td>\n",
              "    </tr>\n",
              "    <tr>\n",
              "      <th>max</th>\n",
              "      <td>7.464155e+10</td>\n",
              "      <td>9.406000e+03</td>\n",
              "    </tr>\n",
              "  </tbody>\n",
              "</table>\n",
              "</div>"
            ],
            "text/plain": [
              "         amount_usd  ea_merchant_mcc\n",
              "count  2.181026e+06     1.257051e+06\n",
              "mean   1.189225e+05     5.703386e+03\n",
              "std    6.955454e+07     9.480411e+02\n",
              "min    0.000000e+00     7.420000e+02\n",
              "25%    2.030000e+00     5.411000e+03\n",
              "50%    8.510000e+00     5.812000e+03\n",
              "75%    2.807000e+01     5.921000e+03\n",
              "max    7.464155e+10     9.406000e+03"
            ]
          },
          "metadata": {
            "tags": []
          },
          "execution_count": 12
        }
      ]
    },
    {
      "cell_type": "code",
      "metadata": {
        "id": "67ktJGIUNijg",
        "colab_type": "code",
        "outputId": "c45ebd5e-97cd-4993-94dd-a46c82f4a6ad",
        "colab": {
          "base_uri": "https://localhost:8080/",
          "height": 238
        }
      },
      "source": [
        "trans.isna().sum()"
      ],
      "execution_count": 13,
      "outputs": [
        {
          "output_type": "execute_result",
          "data": {
            "text/plain": [
              "transaction_id                0\n",
              "transactions_type             0\n",
              "transactions_currency         0\n",
              "amount_usd                    0\n",
              "transactions_state            0\n",
              "ea_cardholderpresence    933206\n",
              "ea_merchant_mcc          923975\n",
              "ea_merchant_city         924080\n",
              "ea_merchant_country      924239\n",
              "direction                     0\n",
              "user_id                       0\n",
              "created_date                  0\n",
              "dtype: int64"
            ]
          },
          "metadata": {
            "tags": []
          },
          "execution_count": 13
        }
      ]
    },
    {
      "cell_type": "code",
      "metadata": {
        "id": "C81l6OB5aiik",
        "colab_type": "code",
        "colab": {
          "base_uri": "https://localhost:8080/",
          "height": 102
        },
        "outputId": "dd2bbaf4-3ce7-4878-9a49-b694ceb457bf"
      },
      "source": [
        "x=trans['ea_cardholderpresence'] \n",
        "\n",
        "count=0\n",
        "count1=0\n",
        "for i in x:\n",
        "    if i==  'TRUE':\n",
        "        count+=1\n",
        "    elif i=='False':\n",
        "        count1+=1\n",
        "print('0:',count,'|',count *100/10284,'%')\n",
        "print('1:',count1,'|',count1 *100/10284,'%')\n",
        "print(count+count1)\n",
        "print(x.isna().sum(),'|',x.isna().sum() *100/len(x),'%')\n",
        "\n",
        "print(count1 *100/len(x))"
      ],
      "execution_count": 14,
      "outputs": [
        {
          "output_type": "stream",
          "text": [
            "0: 231311 | 2249.231816413847 %\n",
            "1: 0 | 0.0 %\n",
            "231311\n",
            "933206 | 42.787477086472144 %\n",
            "0.0\n"
          ],
          "name": "stdout"
        }
      ]
    },
    {
      "cell_type": "code",
      "metadata": {
        "id": "7x3U707iNvFY",
        "colab_type": "code",
        "outputId": "62cdbbc4-0fa8-490a-d927-d2e10610ac01",
        "colab": {
          "base_uri": "https://localhost:8080/",
          "height": 187
        }
      },
      "source": [
        "u,c = np.unique (trans.transactions_type , return_counts = True )\n",
        "for z in zip(list(u) , list(c)):\n",
        "  print ('{} : {}'.format(z[0],z[1]))"
      ],
      "execution_count": 15,
      "outputs": [
        {
          "output_type": "stream",
          "text": [
            "ATM : 74181\n",
            "CARD_PAYMENT : 1173661\n",
            "CARD_REFUND : 9209\n",
            "CASHBACK : 65063\n",
            "EXCHANGE : 124800\n",
            "FEE : 18786\n",
            "REFUND : 1193\n",
            "TAX : 2267\n",
            "TOPUP : 309740\n",
            "TRANSFER : 402126\n"
          ],
          "name": "stdout"
        }
      ]
    },
    {
      "cell_type": "code",
      "metadata": {
        "id": "a5rlG66NOHiB",
        "colab_type": "code",
        "outputId": "8df16ad5-0c38-4196-e3a9-88b9ea26056a",
        "colab": {
          "base_uri": "https://localhost:8080/",
          "height": 612
        }
      },
      "source": [
        "u,c = np.unique (trans.transactions_currency , return_counts = True )\n",
        "for z in zip(list(u) , list(c)):\n",
        "  print ('{} : {}'.format(z[0],z[1]))"
      ],
      "execution_count": 16,
      "outputs": [
        {
          "output_type": "stream",
          "text": [
            "AED : 2590\n",
            "AUD : 13161\n",
            "BCH : 284\n",
            "BGN : 219\n",
            "BTC : 3014\n",
            "CAD : 6036\n",
            "CHF : 31291\n",
            "CZK : 35968\n",
            "DKK : 11362\n",
            "ETH : 859\n",
            "EUR : 931327\n",
            "GBP : 702488\n",
            "HKD : 1381\n",
            "HRK : 187\n",
            "HUF : 6231\n",
            "ILS : 2941\n",
            "INR : 100\n",
            "JPY : 2590\n",
            "LTC : 497\n",
            "MAD : 645\n",
            "MXN : 108\n",
            "NOK : 12749\n",
            "NZD : 2795\n",
            "PLN : 185800\n",
            "QAR : 180\n",
            "RON : 134098\n",
            "RUB : 26\n",
            "SAR : 11\n",
            "SEK : 17804\n",
            "SGD : 2014\n",
            "THB : 1796\n",
            "TRY : 3629\n",
            "USD : 62331\n",
            "XRP : 2101\n",
            "ZAR : 2413\n"
          ],
          "name": "stdout"
        }
      ]
    },
    {
      "cell_type": "code",
      "metadata": {
        "id": "bIyYpwO4OwWk",
        "colab_type": "code",
        "outputId": "01f97c4c-3fc6-42f3-930b-c050cc9f7e37",
        "colab": {
          "base_uri": "https://localhost:8080/",
          "height": 119
        }
      },
      "source": [
        "u,c = np.unique (trans.transactions_state , return_counts = True )\n",
        "for z in zip(list(u) , list(c)):\n",
        "  print ('{} : {}'.format(z[0],z[1]))"
      ],
      "execution_count": 17,
      "outputs": [
        {
          "output_type": "stream",
          "text": [
            "CANCELLED : 1364\n",
            "COMPLETED : 1916387\n",
            "DECLINED : 124226\n",
            "FAILED : 32566\n",
            "PENDING : 17153\n",
            "REVERTED : 89330\n"
          ],
          "name": "stdout"
        }
      ]
    },
    {
      "cell_type": "code",
      "metadata": {
        "id": "1BzngVJlO5Gt",
        "colab_type": "code",
        "outputId": "c8a64300-6025-4bb5-a6a4-87d707f04fe3",
        "colab": {
          "base_uri": "https://localhost:8080/",
          "height": 51
        }
      },
      "source": [
        "u,c = np.unique (trans.direction                          , return_counts = True )\n",
        "for z in zip(list(u) , list(c)):\n",
        "  print ('{} : {}'.format(z[0],z[1]))"
      ],
      "execution_count": 18,
      "outputs": [
        {
          "output_type": "stream",
          "text": [
            "INBOUND : 421947\n",
            "OUTBOUND : 1759079\n"
          ],
          "name": "stdout"
        }
      ]
    },
    {
      "cell_type": "code",
      "metadata": {
        "id": "W04MnOvdOL6Y",
        "colab_type": "code",
        "outputId": "a6c9d97f-b298-4f8a-c08a-1972867e8c50",
        "colab": {
          "base_uri": "https://localhost:8080/",
          "height": 34
        }
      },
      "source": [
        "trans['amount_usd'].min()"
      ],
      "execution_count": 19,
      "outputs": [
        {
          "output_type": "execute_result",
          "data": {
            "text/plain": [
              "0.0"
            ]
          },
          "metadata": {
            "tags": []
          },
          "execution_count": 19
        }
      ]
    },
    {
      "cell_type": "code",
      "metadata": {
        "id": "6724hHAgOcOK",
        "colab_type": "code",
        "outputId": "4f8fb7e0-6867-4a71-be1d-f377fc0959fa",
        "colab": {
          "base_uri": "https://localhost:8080/",
          "height": 34
        }
      },
      "source": [
        "trans['amount_usd'].max()"
      ],
      "execution_count": 20,
      "outputs": [
        {
          "output_type": "execute_result",
          "data": {
            "text/plain": [
              "74641551593.26"
            ]
          },
          "metadata": {
            "tags": []
          },
          "execution_count": 20
        }
      ]
    },
    {
      "cell_type": "code",
      "metadata": {
        "id": "LQPTgezGcgIo",
        "colab_type": "code",
        "colab": {
          "base_uri": "https://localhost:8080/",
          "height": 34
        },
        "outputId": "1081dbe7-ee4c-472f-a9a5-3fbb114a2a42"
      },
      "source": [
        "from google.colab import drive\n",
        "drive.mount('/content/drive')"
      ],
      "execution_count": 21,
      "outputs": [
        {
          "output_type": "stream",
          "text": [
            "Drive already mounted at /content/drive; to attempt to forcibly remount, call drive.mount(\"/content/drive\", force_remount=True).\n"
          ],
          "name": "stdout"
        }
      ]
    },
    {
      "cell_type": "code",
      "metadata": {
        "id": "CbzbmkMGOj_c",
        "colab_type": "code",
        "outputId": "6ca4afbc-4ae0-4d4b-a16f-817f45b767cc",
        "colab": {
          "base_uri": "https://localhost:8080/",
          "height": 609
        }
      },
      "source": [
        "trans1 = trans.sort_values('amount_usd') #shortara kata ay3oysa seira.Parathrw oti oi teleytaies synallages,oi megalyteres einai DECLINED\n",
        "trans1"
      ],
      "execution_count": 22,
      "outputs": [
        {
          "output_type": "execute_result",
          "data": {
            "text/html": [
              "<div>\n",
              "<style scoped>\n",
              "    .dataframe tbody tr th:only-of-type {\n",
              "        vertical-align: middle;\n",
              "    }\n",
              "\n",
              "    .dataframe tbody tr th {\n",
              "        vertical-align: top;\n",
              "    }\n",
              "\n",
              "    .dataframe thead th {\n",
              "        text-align: right;\n",
              "    }\n",
              "</style>\n",
              "<table border=\"1\" class=\"dataframe\">\n",
              "  <thead>\n",
              "    <tr style=\"text-align: right;\">\n",
              "      <th></th>\n",
              "      <th>transaction_id</th>\n",
              "      <th>transactions_type</th>\n",
              "      <th>transactions_currency</th>\n",
              "      <th>amount_usd</th>\n",
              "      <th>transactions_state</th>\n",
              "      <th>ea_cardholderpresence</th>\n",
              "      <th>ea_merchant_mcc</th>\n",
              "      <th>ea_merchant_city</th>\n",
              "      <th>ea_merchant_country</th>\n",
              "      <th>direction</th>\n",
              "      <th>user_id</th>\n",
              "      <th>created_date</th>\n",
              "    </tr>\n",
              "  </thead>\n",
              "  <tbody>\n",
              "    <tr>\n",
              "      <th>2181025</th>\n",
              "      <td>transaction_1499999</td>\n",
              "      <td>CARD_PAYMENT</td>\n",
              "      <td>GBP</td>\n",
              "      <td>0.000000e+00</td>\n",
              "      <td>REVERTED</td>\n",
              "      <td>FALSE</td>\n",
              "      <td>5946.0</td>\n",
              "      <td>www.gopro.com</td>\n",
              "      <td>NLD</td>\n",
              "      <td>OUTBOUND</td>\n",
              "      <td>user_14764</td>\n",
              "      <td>2019-01-31 13:58:09.876585</td>\n",
              "    </tr>\n",
              "    <tr>\n",
              "      <th>1076837</th>\n",
              "      <td>transaction_1776837</td>\n",
              "      <td>CARD_PAYMENT</td>\n",
              "      <td>GBP</td>\n",
              "      <td>0.000000e+00</td>\n",
              "      <td>PENDING</td>\n",
              "      <td>FALSE</td>\n",
              "      <td>5999.0</td>\n",
              "      <td>35314369001</td>\n",
              "      <td>GBR</td>\n",
              "      <td>OUTBOUND</td>\n",
              "      <td>user_513</td>\n",
              "      <td>2019-04-24 04:02:52.314160</td>\n",
              "    </tr>\n",
              "    <tr>\n",
              "      <th>1076836</th>\n",
              "      <td>transaction_1776836</td>\n",
              "      <td>CARD_PAYMENT</td>\n",
              "      <td>GBP</td>\n",
              "      <td>0.000000e+00</td>\n",
              "      <td>PENDING</td>\n",
              "      <td>FALSE</td>\n",
              "      <td>5999.0</td>\n",
              "      <td>35314369001</td>\n",
              "      <td>GBR</td>\n",
              "      <td>OUTBOUND</td>\n",
              "      <td>user_513</td>\n",
              "      <td>2019-04-24 04:02:35.975160</td>\n",
              "    </tr>\n",
              "    <tr>\n",
              "      <th>1076835</th>\n",
              "      <td>transaction_1776835</td>\n",
              "      <td>CARD_PAYMENT</td>\n",
              "      <td>GBP</td>\n",
              "      <td>0.000000e+00</td>\n",
              "      <td>PENDING</td>\n",
              "      <td>FALSE</td>\n",
              "      <td>5999.0</td>\n",
              "      <td>35314369001</td>\n",
              "      <td>GBR</td>\n",
              "      <td>OUTBOUND</td>\n",
              "      <td>user_513</td>\n",
              "      <td>2019-04-24 03:59:49.662160</td>\n",
              "    </tr>\n",
              "    <tr>\n",
              "      <th>640739</th>\n",
              "      <td>transaction_640739</td>\n",
              "      <td>CARD_PAYMENT</td>\n",
              "      <td>EUR</td>\n",
              "      <td>0.000000e+00</td>\n",
              "      <td>REVERTED</td>\n",
              "      <td>FALSE</td>\n",
              "      <td>5968.0</td>\n",
              "      <td>g.co/helppay#</td>\n",
              "      <td>GBR</td>\n",
              "      <td>OUTBOUND</td>\n",
              "      <td>user_13023</td>\n",
              "      <td>2018-11-30 10:23:01.582272</td>\n",
              "    </tr>\n",
              "    <tr>\n",
              "      <th>...</th>\n",
              "      <td>...</td>\n",
              "      <td>...</td>\n",
              "      <td>...</td>\n",
              "      <td>...</td>\n",
              "      <td>...</td>\n",
              "      <td>...</td>\n",
              "      <td>...</td>\n",
              "      <td>...</td>\n",
              "      <td>...</td>\n",
              "      <td>...</td>\n",
              "      <td>...</td>\n",
              "      <td>...</td>\n",
              "    </tr>\n",
              "    <tr>\n",
              "      <th>127491</th>\n",
              "      <td>transaction_127491</td>\n",
              "      <td>TRANSFER</td>\n",
              "      <td>GBP</td>\n",
              "      <td>1.000000e+10</td>\n",
              "      <td>DECLINED</td>\n",
              "      <td>NaN</td>\n",
              "      <td>NaN</td>\n",
              "      <td>NaN</td>\n",
              "      <td>NaN</td>\n",
              "      <td>INBOUND</td>\n",
              "      <td>user_15007</td>\n",
              "      <td>2019-02-27 12:56:46.482754</td>\n",
              "    </tr>\n",
              "    <tr>\n",
              "      <th>1341735</th>\n",
              "      <td>transaction_2041735</td>\n",
              "      <td>TRANSFER</td>\n",
              "      <td>EUR</td>\n",
              "      <td>2.553194e+10</td>\n",
              "      <td>DECLINED</td>\n",
              "      <td>NaN</td>\n",
              "      <td>NaN</td>\n",
              "      <td>NaN</td>\n",
              "      <td>NaN</td>\n",
              "      <td>OUTBOUND</td>\n",
              "      <td>user_2795</td>\n",
              "      <td>2018-12-06 22:36:36.758829</td>\n",
              "    </tr>\n",
              "    <tr>\n",
              "      <th>1505242</th>\n",
              "      <td>transaction_824216</td>\n",
              "      <td>TRANSFER</td>\n",
              "      <td>GBP</td>\n",
              "      <td>3.600000e+10</td>\n",
              "      <td>DECLINED</td>\n",
              "      <td>NaN</td>\n",
              "      <td>NaN</td>\n",
              "      <td>NaN</td>\n",
              "      <td>NaN</td>\n",
              "      <td>OUTBOUND</td>\n",
              "      <td>user_7159</td>\n",
              "      <td>2019-03-16 15:22:46.076038</td>\n",
              "    </tr>\n",
              "    <tr>\n",
              "      <th>1343778</th>\n",
              "      <td>transaction_2043778</td>\n",
              "      <td>TRANSFER</td>\n",
              "      <td>EUR</td>\n",
              "      <td>5.106387e+10</td>\n",
              "      <td>DECLINED</td>\n",
              "      <td>NaN</td>\n",
              "      <td>NaN</td>\n",
              "      <td>NaN</td>\n",
              "      <td>NaN</td>\n",
              "      <td>OUTBOUND</td>\n",
              "      <td>user_14895</td>\n",
              "      <td>2018-11-14 17:15:03.956399</td>\n",
              "    </tr>\n",
              "    <tr>\n",
              "      <th>29704</th>\n",
              "      <td>transaction_29704</td>\n",
              "      <td>TRANSFER</td>\n",
              "      <td>CHF</td>\n",
              "      <td>7.464155e+10</td>\n",
              "      <td>DECLINED</td>\n",
              "      <td>NaN</td>\n",
              "      <td>NaN</td>\n",
              "      <td>NaN</td>\n",
              "      <td>NaN</td>\n",
              "      <td>OUTBOUND</td>\n",
              "      <td>user_13820</td>\n",
              "      <td>2018-12-30 02:42:55.598049</td>\n",
              "    </tr>\n",
              "  </tbody>\n",
              "</table>\n",
              "<p>2181026 rows × 12 columns</p>\n",
              "</div>"
            ],
            "text/plain": [
              "              transaction_id  ...                created_date\n",
              "2181025  transaction_1499999  ...  2019-01-31 13:58:09.876585\n",
              "1076837  transaction_1776837  ...  2019-04-24 04:02:52.314160\n",
              "1076836  transaction_1776836  ...  2019-04-24 04:02:35.975160\n",
              "1076835  transaction_1776835  ...  2019-04-24 03:59:49.662160\n",
              "640739    transaction_640739  ...  2018-11-30 10:23:01.582272\n",
              "...                      ...  ...                         ...\n",
              "127491    transaction_127491  ...  2019-02-27 12:56:46.482754\n",
              "1341735  transaction_2041735  ...  2018-12-06 22:36:36.758829\n",
              "1505242   transaction_824216  ...  2019-03-16 15:22:46.076038\n",
              "1343778  transaction_2043778  ...  2018-11-14 17:15:03.956399\n",
              "29704      transaction_29704  ...  2018-12-30 02:42:55.598049\n",
              "\n",
              "[2181026 rows x 12 columns]"
            ]
          },
          "metadata": {
            "tags": []
          },
          "execution_count": 22
        }
      ]
    },
    {
      "cell_type": "code",
      "metadata": {
        "id": "ZYy5BrFdPdix",
        "colab_type": "code",
        "outputId": "35f372e1-5b1e-4194-d5ea-0ccf1687efb0",
        "colab": {
          "base_uri": "https://localhost:8080/",
          "height": 221
        }
      },
      "source": [
        "trans['amount_usd'].value_counts()"
      ],
      "execution_count": 23,
      "outputs": [
        {
          "output_type": "execute_result",
          "data": {
            "text/plain": [
              "0.00       46490\n",
              "0.85       38939\n",
              "0.01       36561\n",
              "8.51       36536\n",
              "10.00      29336\n",
              "           ...  \n",
              "334.11         1\n",
              "443.88         1\n",
              "440.12         1\n",
              "202.05         1\n",
              "2274.84        1\n",
              "Name: amount_usd, Length: 43465, dtype: int64"
            ]
          },
          "metadata": {
            "tags": []
          },
          "execution_count": 23
        }
      ]
    },
    {
      "cell_type": "code",
      "metadata": {
        "id": "se9yQ9IOboba",
        "colab_type": "code",
        "colab": {
          "base_uri": "https://localhost:8080/",
          "height": 238
        },
        "outputId": "6decb7b3-bc2b-4069-8649-246761d15b25"
      },
      "source": [
        "trans.isna().sum()"
      ],
      "execution_count": 24,
      "outputs": [
        {
          "output_type": "execute_result",
          "data": {
            "text/plain": [
              "transaction_id                0\n",
              "transactions_type             0\n",
              "transactions_currency         0\n",
              "amount_usd                    0\n",
              "transactions_state            0\n",
              "ea_cardholderpresence    933206\n",
              "ea_merchant_mcc          923975\n",
              "ea_merchant_city         924080\n",
              "ea_merchant_country      924239\n",
              "direction                     0\n",
              "user_id                       0\n",
              "created_date                  0\n",
              "dtype: int64"
            ]
          },
          "metadata": {
            "tags": []
          },
          "execution_count": 24
        }
      ]
    },
    {
      "cell_type": "markdown",
      "metadata": {
        "id": "TAgVz6EpbRlN",
        "colab_type": "text"
      },
      "source": [
        "Κατα τον κώδικα του Λευτέρη,αλλά δε νομίζω να έχει κάποιο νόημα όταν η πλειοψηφία είναι NaΝ"
      ]
    },
    {
      "cell_type": "code",
      "metadata": {
        "colab_type": "code",
        "outputId": "aff1fde6-af69-41ca-8666-9704875228e9",
        "id": "y-f2ewVZb4LJ",
        "colab": {
          "base_uri": "https://localhost:8080/",
          "height": 102
        }
      },
      "source": [
        "x=trans['ea_cardholderpresence'] \n",
        "\n",
        "count=0\n",
        "count1=0\n",
        "for i in x:\n",
        "    if i==  'TRUE':\n",
        "        count+=1\n",
        "    elif i=='False':\n",
        "        count1+=1\n",
        "print('0:',count,'|',count *100/10284,'%')\n",
        "print('1:',count1,'|',count1 *100/10284,'%')\n",
        "print(count+count1)\n",
        "print(x.isna().sum(),'|',x.isna().sum() *100/len(x),'%')\n",
        "\n",
        "print(count1 *100/len(x))"
      ],
      "execution_count": 25,
      "outputs": [
        {
          "output_type": "stream",
          "text": [
            "0: 231311 | 2249.231816413847 %\n",
            "1: 0 | 0.0 %\n",
            "231311\n",
            "933206 | 42.787477086472144 %\n",
            "0.0\n"
          ],
          "name": "stdout"
        }
      ]
    },
    {
      "cell_type": "code",
      "metadata": {
        "id": "CNmgPpKnbonI",
        "colab_type": "code",
        "colab": {
          "base_uri": "https://localhost:8080/",
          "height": 69
        },
        "outputId": "fe1e5cf5-16e8-46da-87eb-c03ca38288be"
      },
      "source": [
        "trans[trans['transactions_state'].apply(lambda x: x.isdigit())].head(2) # ελέχγω αν στη στήλη state εχω καποιον αριθμό αντι για όνομα πόλης"
      ],
      "execution_count": 26,
      "outputs": [
        {
          "output_type": "execute_result",
          "data": {
            "text/html": [
              "<div>\n",
              "<style scoped>\n",
              "    .dataframe tbody tr th:only-of-type {\n",
              "        vertical-align: middle;\n",
              "    }\n",
              "\n",
              "    .dataframe tbody tr th {\n",
              "        vertical-align: top;\n",
              "    }\n",
              "\n",
              "    .dataframe thead th {\n",
              "        text-align: right;\n",
              "    }\n",
              "</style>\n",
              "<table border=\"1\" class=\"dataframe\">\n",
              "  <thead>\n",
              "    <tr style=\"text-align: right;\">\n",
              "      <th></th>\n",
              "      <th>transaction_id</th>\n",
              "      <th>transactions_type</th>\n",
              "      <th>transactions_currency</th>\n",
              "      <th>amount_usd</th>\n",
              "      <th>transactions_state</th>\n",
              "      <th>ea_cardholderpresence</th>\n",
              "      <th>ea_merchant_mcc</th>\n",
              "      <th>ea_merchant_city</th>\n",
              "      <th>ea_merchant_country</th>\n",
              "      <th>direction</th>\n",
              "      <th>user_id</th>\n",
              "      <th>created_date</th>\n",
              "    </tr>\n",
              "  </thead>\n",
              "  <tbody>\n",
              "  </tbody>\n",
              "</table>\n",
              "</div>"
            ],
            "text/plain": [
              "Empty DataFrame\n",
              "Columns: [transaction_id, transactions_type, transactions_currency, amount_usd, transactions_state, ea_cardholderpresence, ea_merchant_mcc, ea_merchant_city, ea_merchant_country, direction, user_id, created_date]\n",
              "Index: []"
            ]
          },
          "metadata": {
            "tags": []
          },
          "execution_count": 26
        }
      ]
    },
    {
      "cell_type": "markdown",
      "metadata": {
        "id": "3QmSgwT3czRj",
        "colab_type": "text"
      },
      "source": [
        "<hr>\n",
        "<li><b>Κάνω drop τις στήλες με τα Na γιατί θεωρώ ότι δε μου χρειάζονται</b></li>\n",
        "<hr>"
      ]
    },
    {
      "cell_type": "code",
      "metadata": {
        "id": "zkbl_WixQTuF",
        "colab_type": "code",
        "outputId": "385e2eb2-0dd6-482a-ba28-b92f9dcea907",
        "colab": {
          "base_uri": "https://localhost:8080/",
          "height": 504
        }
      },
      "source": [
        "trans2 = trans.dropna(axis=1)\n",
        "trans2.drop(['created_date'],axis=1,inplace=True)\n",
        "trans2"
      ],
      "execution_count": 27,
      "outputs": [
        {
          "output_type": "stream",
          "text": [
            "/usr/local/lib/python3.6/dist-packages/pandas/core/frame.py:3997: SettingWithCopyWarning: \n",
            "A value is trying to be set on a copy of a slice from a DataFrame\n",
            "\n",
            "See the caveats in the documentation: https://pandas.pydata.org/pandas-docs/stable/user_guide/indexing.html#returning-a-view-versus-a-copy\n",
            "  errors=errors,\n"
          ],
          "name": "stderr"
        },
        {
          "output_type": "execute_result",
          "data": {
            "text/html": [
              "<div>\n",
              "<style scoped>\n",
              "    .dataframe tbody tr th:only-of-type {\n",
              "        vertical-align: middle;\n",
              "    }\n",
              "\n",
              "    .dataframe tbody tr th {\n",
              "        vertical-align: top;\n",
              "    }\n",
              "\n",
              "    .dataframe thead th {\n",
              "        text-align: right;\n",
              "    }\n",
              "</style>\n",
              "<table border=\"1\" class=\"dataframe\">\n",
              "  <thead>\n",
              "    <tr style=\"text-align: right;\">\n",
              "      <th></th>\n",
              "      <th>transaction_id</th>\n",
              "      <th>transactions_type</th>\n",
              "      <th>transactions_currency</th>\n",
              "      <th>amount_usd</th>\n",
              "      <th>transactions_state</th>\n",
              "      <th>direction</th>\n",
              "      <th>user_id</th>\n",
              "    </tr>\n",
              "  </thead>\n",
              "  <tbody>\n",
              "    <tr>\n",
              "      <th>0</th>\n",
              "      <td>transaction_0</td>\n",
              "      <td>TRANSFER</td>\n",
              "      <td>AED</td>\n",
              "      <td>4.55</td>\n",
              "      <td>COMPLETED</td>\n",
              "      <td>OUTBOUND</td>\n",
              "      <td>user_4368</td>\n",
              "    </tr>\n",
              "    <tr>\n",
              "      <th>1</th>\n",
              "      <td>transaction_1</td>\n",
              "      <td>CARD_PAYMENT</td>\n",
              "      <td>AED</td>\n",
              "      <td>15.50</td>\n",
              "      <td>COMPLETED</td>\n",
              "      <td>OUTBOUND</td>\n",
              "      <td>user_2355</td>\n",
              "    </tr>\n",
              "    <tr>\n",
              "      <th>2</th>\n",
              "      <td>transaction_2</td>\n",
              "      <td>CARD_PAYMENT</td>\n",
              "      <td>AED</td>\n",
              "      <td>43.40</td>\n",
              "      <td>COMPLETED</td>\n",
              "      <td>OUTBOUND</td>\n",
              "      <td>user_2355</td>\n",
              "    </tr>\n",
              "    <tr>\n",
              "      <th>3</th>\n",
              "      <td>transaction_3</td>\n",
              "      <td>TRANSFER</td>\n",
              "      <td>AED</td>\n",
              "      <td>10043.01</td>\n",
              "      <td>COMPLETED</td>\n",
              "      <td>OUTBOUND</td>\n",
              "      <td>user_2355</td>\n",
              "    </tr>\n",
              "    <tr>\n",
              "      <th>4</th>\n",
              "      <td>transaction_4</td>\n",
              "      <td>CARD_PAYMENT</td>\n",
              "      <td>AED</td>\n",
              "      <td>43.81</td>\n",
              "      <td>COMPLETED</td>\n",
              "      <td>OUTBOUND</td>\n",
              "      <td>user_14318</td>\n",
              "    </tr>\n",
              "    <tr>\n",
              "      <th>...</th>\n",
              "      <td>...</td>\n",
              "      <td>...</td>\n",
              "      <td>...</td>\n",
              "      <td>...</td>\n",
              "      <td>...</td>\n",
              "      <td>...</td>\n",
              "      <td>...</td>\n",
              "    </tr>\n",
              "    <tr>\n",
              "      <th>2181021</th>\n",
              "      <td>transaction_1499995</td>\n",
              "      <td>CARD_PAYMENT</td>\n",
              "      <td>GBP</td>\n",
              "      <td>0.00</td>\n",
              "      <td>REVERTED</td>\n",
              "      <td>OUTBOUND</td>\n",
              "      <td>user_4545</td>\n",
              "    </tr>\n",
              "    <tr>\n",
              "      <th>2181022</th>\n",
              "      <td>transaction_1499996</td>\n",
              "      <td>CARD_PAYMENT</td>\n",
              "      <td>GBP</td>\n",
              "      <td>0.00</td>\n",
              "      <td>REVERTED</td>\n",
              "      <td>OUTBOUND</td>\n",
              "      <td>user_8818</td>\n",
              "    </tr>\n",
              "    <tr>\n",
              "      <th>2181023</th>\n",
              "      <td>transaction_1499997</td>\n",
              "      <td>CARD_PAYMENT</td>\n",
              "      <td>GBP</td>\n",
              "      <td>0.00</td>\n",
              "      <td>REVERTED</td>\n",
              "      <td>OUTBOUND</td>\n",
              "      <td>user_12430</td>\n",
              "    </tr>\n",
              "    <tr>\n",
              "      <th>2181024</th>\n",
              "      <td>transaction_1499998</td>\n",
              "      <td>CARD_PAYMENT</td>\n",
              "      <td>GBP</td>\n",
              "      <td>0.00</td>\n",
              "      <td>REVERTED</td>\n",
              "      <td>OUTBOUND</td>\n",
              "      <td>user_14764</td>\n",
              "    </tr>\n",
              "    <tr>\n",
              "      <th>2181025</th>\n",
              "      <td>transaction_1499999</td>\n",
              "      <td>CARD_PAYMENT</td>\n",
              "      <td>GBP</td>\n",
              "      <td>0.00</td>\n",
              "      <td>REVERTED</td>\n",
              "      <td>OUTBOUND</td>\n",
              "      <td>user_14764</td>\n",
              "    </tr>\n",
              "  </tbody>\n",
              "</table>\n",
              "<p>2181026 rows × 7 columns</p>\n",
              "</div>"
            ],
            "text/plain": [
              "              transaction_id transactions_type  ... direction     user_id\n",
              "0              transaction_0          TRANSFER  ...  OUTBOUND   user_4368\n",
              "1              transaction_1      CARD_PAYMENT  ...  OUTBOUND   user_2355\n",
              "2              transaction_2      CARD_PAYMENT  ...  OUTBOUND   user_2355\n",
              "3              transaction_3          TRANSFER  ...  OUTBOUND   user_2355\n",
              "4              transaction_4      CARD_PAYMENT  ...  OUTBOUND  user_14318\n",
              "...                      ...               ...  ...       ...         ...\n",
              "2181021  transaction_1499995      CARD_PAYMENT  ...  OUTBOUND   user_4545\n",
              "2181022  transaction_1499996      CARD_PAYMENT  ...  OUTBOUND   user_8818\n",
              "2181023  transaction_1499997      CARD_PAYMENT  ...  OUTBOUND  user_12430\n",
              "2181024  transaction_1499998      CARD_PAYMENT  ...  OUTBOUND  user_14764\n",
              "2181025  transaction_1499999      CARD_PAYMENT  ...  OUTBOUND  user_14764\n",
              "\n",
              "[2181026 rows x 7 columns]"
            ]
          },
          "metadata": {
            "tags": []
          },
          "execution_count": 27
        }
      ]
    },
    {
      "cell_type": "code",
      "metadata": {
        "id": "87qf1QV1dSjh",
        "colab_type": "code",
        "colab": {
          "base_uri": "https://localhost:8080/",
          "height": 550
        },
        "outputId": "0cbc548b-52fc-44f6-ed14-9425537037f4"
      },
      "source": [
        "trans2['transactions_type']=trans2['transactions_type'].apply(lambda x : x.lower()) \n",
        "trans2['transactions_state']=trans2['transactions_state'].apply(lambda x : x.lower())\n",
        "trans2['direction']=trans2['direction'].apply(lambda x : x.lower()) \n",
        "trans2['transactions_currency']=trans2['transactions_currency'].apply(lambda x : x.lower())\n",
        "\n",
        "trans2.head(3)"
      ],
      "execution_count": 28,
      "outputs": [
        {
          "output_type": "stream",
          "text": [
            "/usr/local/lib/python3.6/dist-packages/ipykernel_launcher.py:1: SettingWithCopyWarning: \n",
            "A value is trying to be set on a copy of a slice from a DataFrame.\n",
            "Try using .loc[row_indexer,col_indexer] = value instead\n",
            "\n",
            "See the caveats in the documentation: https://pandas.pydata.org/pandas-docs/stable/user_guide/indexing.html#returning-a-view-versus-a-copy\n",
            "  \"\"\"Entry point for launching an IPython kernel.\n",
            "/usr/local/lib/python3.6/dist-packages/ipykernel_launcher.py:2: SettingWithCopyWarning: \n",
            "A value is trying to be set on a copy of a slice from a DataFrame.\n",
            "Try using .loc[row_indexer,col_indexer] = value instead\n",
            "\n",
            "See the caveats in the documentation: https://pandas.pydata.org/pandas-docs/stable/user_guide/indexing.html#returning-a-view-versus-a-copy\n",
            "  \n",
            "/usr/local/lib/python3.6/dist-packages/ipykernel_launcher.py:3: SettingWithCopyWarning: \n",
            "A value is trying to be set on a copy of a slice from a DataFrame.\n",
            "Try using .loc[row_indexer,col_indexer] = value instead\n",
            "\n",
            "See the caveats in the documentation: https://pandas.pydata.org/pandas-docs/stable/user_guide/indexing.html#returning-a-view-versus-a-copy\n",
            "  This is separate from the ipykernel package so we can avoid doing imports until\n",
            "/usr/local/lib/python3.6/dist-packages/ipykernel_launcher.py:4: SettingWithCopyWarning: \n",
            "A value is trying to be set on a copy of a slice from a DataFrame.\n",
            "Try using .loc[row_indexer,col_indexer] = value instead\n",
            "\n",
            "See the caveats in the documentation: https://pandas.pydata.org/pandas-docs/stable/user_guide/indexing.html#returning-a-view-versus-a-copy\n",
            "  after removing the cwd from sys.path.\n"
          ],
          "name": "stderr"
        },
        {
          "output_type": "execute_result",
          "data": {
            "text/html": [
              "<div>\n",
              "<style scoped>\n",
              "    .dataframe tbody tr th:only-of-type {\n",
              "        vertical-align: middle;\n",
              "    }\n",
              "\n",
              "    .dataframe tbody tr th {\n",
              "        vertical-align: top;\n",
              "    }\n",
              "\n",
              "    .dataframe thead th {\n",
              "        text-align: right;\n",
              "    }\n",
              "</style>\n",
              "<table border=\"1\" class=\"dataframe\">\n",
              "  <thead>\n",
              "    <tr style=\"text-align: right;\">\n",
              "      <th></th>\n",
              "      <th>transaction_id</th>\n",
              "      <th>transactions_type</th>\n",
              "      <th>transactions_currency</th>\n",
              "      <th>amount_usd</th>\n",
              "      <th>transactions_state</th>\n",
              "      <th>direction</th>\n",
              "      <th>user_id</th>\n",
              "    </tr>\n",
              "  </thead>\n",
              "  <tbody>\n",
              "    <tr>\n",
              "      <th>0</th>\n",
              "      <td>transaction_0</td>\n",
              "      <td>transfer</td>\n",
              "      <td>aed</td>\n",
              "      <td>4.55</td>\n",
              "      <td>completed</td>\n",
              "      <td>outbound</td>\n",
              "      <td>user_4368</td>\n",
              "    </tr>\n",
              "    <tr>\n",
              "      <th>1</th>\n",
              "      <td>transaction_1</td>\n",
              "      <td>card_payment</td>\n",
              "      <td>aed</td>\n",
              "      <td>15.50</td>\n",
              "      <td>completed</td>\n",
              "      <td>outbound</td>\n",
              "      <td>user_2355</td>\n",
              "    </tr>\n",
              "    <tr>\n",
              "      <th>2</th>\n",
              "      <td>transaction_2</td>\n",
              "      <td>card_payment</td>\n",
              "      <td>aed</td>\n",
              "      <td>43.40</td>\n",
              "      <td>completed</td>\n",
              "      <td>outbound</td>\n",
              "      <td>user_2355</td>\n",
              "    </tr>\n",
              "  </tbody>\n",
              "</table>\n",
              "</div>"
            ],
            "text/plain": [
              "  transaction_id transactions_type  ... direction    user_id\n",
              "0  transaction_0          transfer  ...  outbound  user_4368\n",
              "1  transaction_1      card_payment  ...  outbound  user_2355\n",
              "2  transaction_2      card_payment  ...  outbound  user_2355\n",
              "\n",
              "[3 rows x 7 columns]"
            ]
          },
          "metadata": {
            "tags": []
          },
          "execution_count": 28
        }
      ]
    },
    {
      "cell_type": "code",
      "metadata": {
        "id": "MIEEFk4dTru0",
        "colab_type": "code",
        "outputId": "9822a445-d73a-4168-cd1d-99d1440d61c6",
        "colab": {
          "base_uri": "https://localhost:8080/",
          "height": 34
        }
      },
      "source": [
        "trans2.shape"
      ],
      "execution_count": 29,
      "outputs": [
        {
          "output_type": "execute_result",
          "data": {
            "text/plain": [
              "(2181026, 7)"
            ]
          },
          "metadata": {
            "tags": []
          },
          "execution_count": 29
        }
      ]
    },
    {
      "cell_type": "code",
      "metadata": {
        "id": "JRjM_t3BUJkB",
        "colab_type": "code",
        "outputId": "a37bb299-7953-48d7-d994-b62b654289fd",
        "colab": {
          "base_uri": "https://localhost:8080/",
          "height": 221
        }
      },
      "source": [
        "trans2['transaction_id'].value_counts()\n"
      ],
      "execution_count": 30,
      "outputs": [
        {
          "output_type": "execute_result",
          "data": {
            "text/plain": [
              "transaction_1182917    1\n",
              "transaction_1441582    1\n",
              "transaction_105660     1\n",
              "transaction_1682813    1\n",
              "transaction_966698     1\n",
              "                      ..\n",
              "transaction_105457     1\n",
              "transaction_1614915    1\n",
              "transaction_1638123    1\n",
              "transaction_417514     1\n",
              "transaction_655913     1\n",
              "Name: transaction_id, Length: 2181026, dtype: int64"
            ]
          },
          "metadata": {
            "tags": []
          },
          "execution_count": 30
        }
      ]
    },
    {
      "cell_type": "code",
      "metadata": {
        "id": "-PneD8x1UzGC",
        "colab_type": "code",
        "outputId": "70378efa-fa71-49ff-d5f6-04f6aff07538",
        "colab": {
          "base_uri": "https://localhost:8080/",
          "height": 51
        }
      },
      "source": [
        "print(len(trans[trans['ea_cardholderpresence'] == True]))\n",
        "print(len(trans[trans['ea_cardholderpresence'] != False]))   #den exw idea gt den emfanizei"
      ],
      "execution_count": 31,
      "outputs": [
        {
          "output_type": "stream",
          "text": [
            "0\n",
            "2181026\n"
          ],
          "name": "stdout"
        }
      ]
    },
    {
      "cell_type": "code",
      "metadata": {
        "id": "kP7EUmLOeTxw",
        "colab_type": "code",
        "outputId": "54292da0-7247-4277-fd25-5b1f7c0e0ad1",
        "colab": {
          "base_uri": "https://localhost:8080/",
          "height": 187
        }
      },
      "source": [
        "u,c = np.unique (trans.transactions_type , return_counts = True )\n",
        "for z in zip(list(u) , list(c)):\n",
        "  print ('{} : {}'.format(z[0],z[1]))"
      ],
      "execution_count": 32,
      "outputs": [
        {
          "output_type": "stream",
          "text": [
            "ATM : 74181\n",
            "CARD_PAYMENT : 1173661\n",
            "CARD_REFUND : 9209\n",
            "CASHBACK : 65063\n",
            "EXCHANGE : 124800\n",
            "FEE : 18786\n",
            "REFUND : 1193\n",
            "TAX : 2267\n",
            "TOPUP : 309740\n",
            "TRANSFER : 402126\n"
          ],
          "name": "stdout"
        }
      ]
    },
    {
      "cell_type": "code",
      "metadata": {
        "id": "66ucMoTaXeYp",
        "colab_type": "code",
        "outputId": "8aba8d21-6e62-4e4f-8d98-c379e74f1e4c",
        "colab": {
          "base_uri": "https://localhost:8080/",
          "height": 466
        }
      },
      "source": [
        "plt.figure(figsize=(8,8))\n",
        "labels = ['ATM' , 'CARD PAYMENT' , 'CARD REFUND' , 'CASHBACK', 'EXCHANGE' , 'FEE' , 'REFUND' , 'TAX' , 'TOPUP' , 'TRANSFER']\n",
        "values = [74181,1173661,9209,65063,124800,18786,1193,2267,309740,402126]\n",
        "plt.pie(values , labels=labels ,  autopct='%1.0f%%')\n",
        "plt.savefig('fig1.png')\n",
        "plt.show()"
      ],
      "execution_count": 33,
      "outputs": [
        {
          "output_type": "display_data",
          "data": {
            "image/png": "[encoded data removed]",
            "text/plain": [
              "<Figure size 576x576 with 1 Axes>"
            ]
          },
          "metadata": {
            "tags": []
          }
        }
      ]
    },
    {
      "cell_type": "code",
      "metadata": {
        "id": "Vil0WgCThLs8",
        "colab_type": "code",
        "outputId": "007b5bdd-2c4c-45bf-c508-b8cbb42028d6",
        "colab": {
          "base_uri": "https://localhost:8080/",
          "height": 34
        }
      },
      "source": [
        "trans['amount_usd'].sum()"
      ],
      "execution_count": 34,
      "outputs": [
        {
          "output_type": "execute_result",
          "data": {
            "text/plain": [
              "259373011012.1501"
            ]
          },
          "metadata": {
            "tags": []
          },
          "execution_count": 34
        }
      ]
    },
    {
      "cell_type": "code",
      "metadata": {
        "id": "9XMBPvo4bdK9",
        "colab_type": "code",
        "outputId": "cc04d348-badf-421b-dfa8-01b3c3805a83",
        "colab": {
          "base_uri": "https://localhost:8080/",
          "height": 522
        }
      },
      "source": [
        "categories = [trans.transactions_currency]\n",
        "trans['amount_usd'] = trans['amount_usd'].astype(int) #kanw cast ola ta price se akeraious\n",
        "plt.figure(figsize=(14,8))\n",
        "ax = plt.subplot(1,1,1)\n",
        "plt.xticks(rotation = 'vertical') #anti gia vertical mporw na vale moires p.x 45 kai ta gyrnaei ypo gwnia\n",
        "sns.barplot(x= 'transactions_currency' , y= 'amount_usd' , data = trans , estimator = np.max ,hue = 'direction') #me to estimator ayto briskw oti h mercedes exei genika to akribotero montelo\n",
        "plt.savefig('fig6.png')\n",
        "plt.show()"
      ],
      "execution_count": 35,
      "outputs": [
        {
          "output_type": "display_data",
          "data": {
            "image/png": "[encoded data removed]",
            "text/plain": [
              "<Figure size 1008x576 with 1 Axes>"
            ]
          },
          "metadata": {
            "tags": [],
            "needs_background": "light"
          }
        }
      ]
    },
    {
      "cell_type": "code",
      "metadata": {
        "id": "Y4uUFNlelMVy",
        "colab_type": "code",
        "outputId": "96ec90b2-2c05-434c-e180-98c104cc5b98",
        "colab": {
          "base_uri": "https://localhost:8080/",
          "height": 34
        }
      },
      "source": [
        "len(trans[trans['direction']=='INBOUND'])\n"
      ],
      "execution_count": 36,
      "outputs": [
        {
          "output_type": "execute_result",
          "data": {
            "text/plain": [
              "421947"
            ]
          },
          "metadata": {
            "tags": []
          },
          "execution_count": 36
        }
      ]
    },
    {
      "cell_type": "code",
      "metadata": {
        "id": "HqEbaOyOna-x",
        "colab_type": "code",
        "outputId": "2d02618d-4652-4476-b85d-0fb13dc94198",
        "colab": {
          "base_uri": "https://localhost:8080/",
          "height": 34
        }
      },
      "source": [
        "len(trans[trans['direction']=='OUTBOUND'])"
      ],
      "execution_count": 37,
      "outputs": [
        {
          "output_type": "execute_result",
          "data": {
            "text/plain": [
              "1759079"
            ]
          },
          "metadata": {
            "tags": []
          },
          "execution_count": 37
        }
      ]
    },
    {
      "cell_type": "code",
      "metadata": {
        "id": "hWiLIYUvndJw",
        "colab_type": "code",
        "outputId": "359e2f87-9d42-4eba-c865-49b38ee7f567",
        "colab": {
          "base_uri": "https://localhost:8080/",
          "height": 466
        }
      },
      "source": [
        "plt.figure(figsize=(8,8))\n",
        "labels = ['OUTBOUND' , 'INBOUND']\n",
        "values = [1759079,421947]\n",
        "plt.pie(values , labels=labels ,  autopct='%1.0f%%')\n",
        "plt.savefig('fig3.png')\n",
        "plt.show()"
      ],
      "execution_count": 38,
      "outputs": [
        {
          "output_type": "display_data",
          "data": {
            "image/png": "[encoded data removed]",
            "text/plain": [
              "<Figure size 576x576 with 1 Axes>"
            ]
          },
          "metadata": {
            "tags": []
          }
        }
      ]
    },
    {
      "cell_type": "code",
      "metadata": {
        "id": "WJJCh9wf6ZER",
        "colab_type": "code",
        "outputId": "6f992c14-70b4-4030-9aa7-b365b114d8d7",
        "colab": {
          "base_uri": "https://localhost:8080/",
          "height": 34
        }
      },
      "source": [
        "len(trans[trans['user_id']=='user_2355'])  #vlepw poses eggrafes exei 1  sygkekrimenos user \n"
      ],
      "execution_count": 39,
      "outputs": [
        {
          "output_type": "execute_result",
          "data": {
            "text/plain": [
              "588"
            ]
          },
          "metadata": {
            "tags": []
          },
          "execution_count": 39
        }
      ]
    },
    {
      "cell_type": "code",
      "metadata": {
        "id": "IFctrO9BMdOs",
        "colab_type": "code",
        "outputId": "5bc7123a-c52d-4c96-d7e1-ece56e9f982a",
        "colab": {
          "base_uri": "https://localhost:8080/",
          "height": 390
        }
      },
      "source": [
        "trans2.groupby(['transactions_type']).mean()"
      ],
      "execution_count": 40,
      "outputs": [
        {
          "output_type": "execute_result",
          "data": {
            "text/html": [
              "<div>\n",
              "<style scoped>\n",
              "    .dataframe tbody tr th:only-of-type {\n",
              "        vertical-align: middle;\n",
              "    }\n",
              "\n",
              "    .dataframe tbody tr th {\n",
              "        vertical-align: top;\n",
              "    }\n",
              "\n",
              "    .dataframe thead th {\n",
              "        text-align: right;\n",
              "    }\n",
              "</style>\n",
              "<table border=\"1\" class=\"dataframe\">\n",
              "  <thead>\n",
              "    <tr style=\"text-align: right;\">\n",
              "      <th></th>\n",
              "      <th>amount_usd</th>\n",
              "    </tr>\n",
              "    <tr>\n",
              "      <th>transactions_type</th>\n",
              "      <th></th>\n",
              "    </tr>\n",
              "  </thead>\n",
              "  <tbody>\n",
              "    <tr>\n",
              "      <th>atm</th>\n",
              "      <td>73.640630</td>\n",
              "    </tr>\n",
              "    <tr>\n",
              "      <th>card_payment</th>\n",
              "      <td>21.453367</td>\n",
              "    </tr>\n",
              "    <tr>\n",
              "      <th>card_refund</th>\n",
              "      <td>65.049085</td>\n",
              "    </tr>\n",
              "    <tr>\n",
              "      <th>cashback</th>\n",
              "      <td>0.092411</td>\n",
              "    </tr>\n",
              "    <tr>\n",
              "      <th>exchange</th>\n",
              "      <td>193.405059</td>\n",
              "    </tr>\n",
              "    <tr>\n",
              "      <th>fee</th>\n",
              "      <td>8.118956</td>\n",
              "    </tr>\n",
              "    <tr>\n",
              "      <th>refund</th>\n",
              "      <td>400.217720</td>\n",
              "    </tr>\n",
              "    <tr>\n",
              "      <th>tax</th>\n",
              "      <td>0.099991</td>\n",
              "    </tr>\n",
              "    <tr>\n",
              "      <th>topup</th>\n",
              "      <td>176.800100</td>\n",
              "    </tr>\n",
              "    <tr>\n",
              "      <th>transfer</th>\n",
              "      <td>644728.853701</td>\n",
              "    </tr>\n",
              "  </tbody>\n",
              "</table>\n",
              "</div>"
            ],
            "text/plain": [
              "                      amount_usd\n",
              "transactions_type               \n",
              "atm                    73.640630\n",
              "card_payment           21.453367\n",
              "card_refund            65.049085\n",
              "cashback                0.092411\n",
              "exchange              193.405059\n",
              "fee                     8.118956\n",
              "refund                400.217720\n",
              "tax                     0.099991\n",
              "topup                 176.800100\n",
              "transfer           644728.853701"
            ]
          },
          "metadata": {
            "tags": []
          },
          "execution_count": 40
        }
      ]
    },
    {
      "cell_type": "code",
      "metadata": {
        "id": "bwF2-atpF8RV",
        "colab_type": "code",
        "outputId": "096a6939-d2d9-4c88-87c8-d7126db1f58c",
        "colab": {
          "base_uri": "https://localhost:8080/",
          "height": 419
        }
      },
      "source": [
        "trans3 = trans2.drop(trans.index[trans['amount_usd']== 0.0  ])\n",
        "trans3"
      ],
      "execution_count": 41,
      "outputs": [
        {
          "output_type": "execute_result",
          "data": {
            "text/html": [
              "<div>\n",
              "<style scoped>\n",
              "    .dataframe tbody tr th:only-of-type {\n",
              "        vertical-align: middle;\n",
              "    }\n",
              "\n",
              "    .dataframe tbody tr th {\n",
              "        vertical-align: top;\n",
              "    }\n",
              "\n",
              "    .dataframe thead th {\n",
              "        text-align: right;\n",
              "    }\n",
              "</style>\n",
              "<table border=\"1\" class=\"dataframe\">\n",
              "  <thead>\n",
              "    <tr style=\"text-align: right;\">\n",
              "      <th></th>\n",
              "      <th>transaction_id</th>\n",
              "      <th>transactions_type</th>\n",
              "      <th>transactions_currency</th>\n",
              "      <th>amount_usd</th>\n",
              "      <th>transactions_state</th>\n",
              "      <th>direction</th>\n",
              "      <th>user_id</th>\n",
              "    </tr>\n",
              "  </thead>\n",
              "  <tbody>\n",
              "    <tr>\n",
              "      <th>0</th>\n",
              "      <td>transaction_0</td>\n",
              "      <td>transfer</td>\n",
              "      <td>aed</td>\n",
              "      <td>4.55</td>\n",
              "      <td>completed</td>\n",
              "      <td>outbound</td>\n",
              "      <td>user_4368</td>\n",
              "    </tr>\n",
              "    <tr>\n",
              "      <th>1</th>\n",
              "      <td>transaction_1</td>\n",
              "      <td>card_payment</td>\n",
              "      <td>aed</td>\n",
              "      <td>15.50</td>\n",
              "      <td>completed</td>\n",
              "      <td>outbound</td>\n",
              "      <td>user_2355</td>\n",
              "    </tr>\n",
              "    <tr>\n",
              "      <th>2</th>\n",
              "      <td>transaction_2</td>\n",
              "      <td>card_payment</td>\n",
              "      <td>aed</td>\n",
              "      <td>43.40</td>\n",
              "      <td>completed</td>\n",
              "      <td>outbound</td>\n",
              "      <td>user_2355</td>\n",
              "    </tr>\n",
              "    <tr>\n",
              "      <th>3</th>\n",
              "      <td>transaction_3</td>\n",
              "      <td>transfer</td>\n",
              "      <td>aed</td>\n",
              "      <td>10043.01</td>\n",
              "      <td>completed</td>\n",
              "      <td>outbound</td>\n",
              "      <td>user_2355</td>\n",
              "    </tr>\n",
              "    <tr>\n",
              "      <th>4</th>\n",
              "      <td>transaction_4</td>\n",
              "      <td>card_payment</td>\n",
              "      <td>aed</td>\n",
              "      <td>43.81</td>\n",
              "      <td>completed</td>\n",
              "      <td>outbound</td>\n",
              "      <td>user_14318</td>\n",
              "    </tr>\n",
              "    <tr>\n",
              "      <th>...</th>\n",
              "      <td>...</td>\n",
              "      <td>...</td>\n",
              "      <td>...</td>\n",
              "      <td>...</td>\n",
              "      <td>...</td>\n",
              "      <td>...</td>\n",
              "      <td>...</td>\n",
              "    </tr>\n",
              "    <tr>\n",
              "      <th>2181015</th>\n",
              "      <td>transaction_1499989</td>\n",
              "      <td>card_payment</td>\n",
              "      <td>gbp</td>\n",
              "      <td>4.35</td>\n",
              "      <td>completed</td>\n",
              "      <td>outbound</td>\n",
              "      <td>user_8637</td>\n",
              "    </tr>\n",
              "    <tr>\n",
              "      <th>2181016</th>\n",
              "      <td>transaction_1499990</td>\n",
              "      <td>topup</td>\n",
              "      <td>gbp</td>\n",
              "      <td>50.00</td>\n",
              "      <td>completed</td>\n",
              "      <td>inbound</td>\n",
              "      <td>user_1552</td>\n",
              "    </tr>\n",
              "    <tr>\n",
              "      <th>2181017</th>\n",
              "      <td>transaction_1499991</td>\n",
              "      <td>transfer</td>\n",
              "      <td>gbp</td>\n",
              "      <td>450.00</td>\n",
              "      <td>completed</td>\n",
              "      <td>outbound</td>\n",
              "      <td>user_4888</td>\n",
              "    </tr>\n",
              "    <tr>\n",
              "      <th>2181018</th>\n",
              "      <td>transaction_1499992</td>\n",
              "      <td>transfer</td>\n",
              "      <td>gbp</td>\n",
              "      <td>5.00</td>\n",
              "      <td>completed</td>\n",
              "      <td>inbound</td>\n",
              "      <td>user_4272</td>\n",
              "    </tr>\n",
              "    <tr>\n",
              "      <th>2181019</th>\n",
              "      <td>transaction_1499993</td>\n",
              "      <td>card_payment</td>\n",
              "      <td>gbp</td>\n",
              "      <td>103.73</td>\n",
              "      <td>completed</td>\n",
              "      <td>outbound</td>\n",
              "      <td>user_5484</td>\n",
              "    </tr>\n",
              "  </tbody>\n",
              "</table>\n",
              "<p>1812686 rows × 7 columns</p>\n",
              "</div>"
            ],
            "text/plain": [
              "              transaction_id transactions_type  ... direction     user_id\n",
              "0              transaction_0          transfer  ...  outbound   user_4368\n",
              "1              transaction_1      card_payment  ...  outbound   user_2355\n",
              "2              transaction_2      card_payment  ...  outbound   user_2355\n",
              "3              transaction_3          transfer  ...  outbound   user_2355\n",
              "4              transaction_4      card_payment  ...  outbound  user_14318\n",
              "...                      ...               ...  ...       ...         ...\n",
              "2181015  transaction_1499989      card_payment  ...  outbound   user_8637\n",
              "2181016  transaction_1499990             topup  ...   inbound   user_1552\n",
              "2181017  transaction_1499991          transfer  ...  outbound   user_4888\n",
              "2181018  transaction_1499992          transfer  ...   inbound   user_4272\n",
              "2181019  transaction_1499993      card_payment  ...  outbound   user_5484\n",
              "\n",
              "[1812686 rows x 7 columns]"
            ]
          },
          "metadata": {
            "tags": []
          },
          "execution_count": 41
        }
      ]
    },
    {
      "cell_type": "code",
      "metadata": {
        "id": "fDcVDdrvJkZI",
        "colab_type": "code",
        "outputId": "0ce83024-8d04-4700-feeb-6700a443598a",
        "colab": {
          "base_uri": "https://localhost:8080/",
          "height": 34
        }
      },
      "source": [
        "trans3.shape\n"
      ],
      "execution_count": 42,
      "outputs": [
        {
          "output_type": "execute_result",
          "data": {
            "text/plain": [
              "(1812686, 7)"
            ]
          },
          "metadata": {
            "tags": []
          },
          "execution_count": 42
        }
      ]
    },
    {
      "cell_type": "code",
      "metadata": {
        "id": "tm2newzNOMDm",
        "colab_type": "code",
        "outputId": "d2b74311-97e7-429b-8e99-de48c96c6318",
        "colab": {
          "base_uri": "https://localhost:8080/",
          "height": 297
        }
      },
      "source": [
        "trans3.describe()"
      ],
      "execution_count": 43,
      "outputs": [
        {
          "output_type": "execute_result",
          "data": {
            "text/html": [
              "<div>\n",
              "<style scoped>\n",
              "    .dataframe tbody tr th:only-of-type {\n",
              "        vertical-align: middle;\n",
              "    }\n",
              "\n",
              "    .dataframe tbody tr th {\n",
              "        vertical-align: top;\n",
              "    }\n",
              "\n",
              "    .dataframe thead th {\n",
              "        text-align: right;\n",
              "    }\n",
              "</style>\n",
              "<table border=\"1\" class=\"dataframe\">\n",
              "  <thead>\n",
              "    <tr style=\"text-align: right;\">\n",
              "      <th></th>\n",
              "      <th>amount_usd</th>\n",
              "    </tr>\n",
              "  </thead>\n",
              "  <tbody>\n",
              "    <tr>\n",
              "      <th>count</th>\n",
              "      <td>1.812686e+06</td>\n",
              "    </tr>\n",
              "    <tr>\n",
              "      <th>mean</th>\n",
              "      <td>1.430876e+05</td>\n",
              "    </tr>\n",
              "    <tr>\n",
              "      <th>std</th>\n",
              "      <td>7.629472e+07</td>\n",
              "    </tr>\n",
              "    <tr>\n",
              "      <th>min</th>\n",
              "      <td>1.000000e+00</td>\n",
              "    </tr>\n",
              "    <tr>\n",
              "      <th>25%</th>\n",
              "      <td>4.680000e+00</td>\n",
              "    </tr>\n",
              "    <tr>\n",
              "      <th>50%</th>\n",
              "      <td>1.135000e+01</td>\n",
              "    </tr>\n",
              "    <tr>\n",
              "      <th>75%</th>\n",
              "      <td>3.877000e+01</td>\n",
              "    </tr>\n",
              "    <tr>\n",
              "      <th>max</th>\n",
              "      <td>7.464155e+10</td>\n",
              "    </tr>\n",
              "  </tbody>\n",
              "</table>\n",
              "</div>"
            ],
            "text/plain": [
              "         amount_usd\n",
              "count  1.812686e+06\n",
              "mean   1.430876e+05\n",
              "std    7.629472e+07\n",
              "min    1.000000e+00\n",
              "25%    4.680000e+00\n",
              "50%    1.135000e+01\n",
              "75%    3.877000e+01\n",
              "max    7.464155e+10"
            ]
          },
          "metadata": {
            "tags": []
          },
          "execution_count": 43
        }
      ]
    },
    {
      "cell_type": "code",
      "metadata": {
        "id": "e7N6KHZVOMVc",
        "colab_type": "code",
        "outputId": "20d03c92-de01-45df-ac95-121d80697cbe",
        "colab": {
          "base_uri": "https://localhost:8080/",
          "height": 34
        }
      },
      "source": [
        "trans3['amount_usd'].sum()"
      ],
      "execution_count": 46,
      "outputs": [
        {
          "output_type": "execute_result",
          "data": {
            "text/plain": [
              "259372869336.43005"
            ]
          },
          "metadata": {
            "tags": []
          },
          "execution_count": 46
        }
      ]
    },
    {
      "cell_type": "code",
      "metadata": {
        "id": "tAyP_VCdOrwo",
        "colab_type": "code",
        "outputId": "3850461b-fe9c-43ce-dede-9e8309806d04",
        "colab": {
          "base_uri": "https://localhost:8080/",
          "height": 34
        }
      },
      "source": [
        "trans3['amount_usd'].sum()"
      ],
      "execution_count": 47,
      "outputs": [
        {
          "output_type": "execute_result",
          "data": {
            "text/plain": [
              "259372869336.43005"
            ]
          },
          "metadata": {
            "tags": []
          },
          "execution_count": 47
        }
      ]
    },
    {
      "cell_type": "code",
      "metadata": {
        "id": "3sxCn9KEPDnO",
        "colab_type": "code",
        "outputId": "7f0bbf82-8596-4358-efe5-f1509edfaacf",
        "colab": {
          "base_uri": "https://localhost:8080/",
          "height": 34
        }
      },
      "source": [
        "trans3['amount_usd'].min()"
      ],
      "execution_count": 48,
      "outputs": [
        {
          "output_type": "execute_result",
          "data": {
            "text/plain": [
              "1.0"
            ]
          },
          "metadata": {
            "tags": []
          },
          "execution_count": 48
        }
      ]
    },
    {
      "cell_type": "code",
      "metadata": {
        "id": "VYaNOefCgE8D",
        "colab_type": "code",
        "colab": {
          "base_uri": "https://localhost:8080/",
          "height": 34
        },
        "outputId": "9a42455a-589d-46f4-86ba-ad6e817835c2"
      },
      "source": [
        "trans2['amount_usd'].min()"
      ],
      "execution_count": 50,
      "outputs": [
        {
          "output_type": "execute_result",
          "data": {
            "text/plain": [
              "0.0"
            ]
          },
          "metadata": {
            "tags": []
          },
          "execution_count": 50
        }
      ]
    },
    {
      "cell_type": "code",
      "metadata": {
        "id": "fe7S8X29HVxP",
        "colab_type": "code",
        "colab": {}
      },
      "source": [
        "trans2=trans2.rename(columns={\"transaction_id\" : \"transaction Id\"})\n",
        "trans2=trans2.rename(columns={\"transactions_type\" : \"transaction type\"})\n",
        "trans2=trans2.rename(columns={\"transactions_currency\" : \"transactions currency\"})\n",
        "trans2=trans2.rename(columns={\"transactions_state\" : \"transactions state\"})\n",
        "trans2=trans2.rename(columns={\"amount_usd\" : \"amount usd\"})"
      ],
      "execution_count": 0,
      "outputs": []
    },
    {
      "cell_type": "code",
      "metadata": {
        "id": "DBxxucBjH9Ii",
        "colab_type": "code",
        "outputId": "be0f5601-4187-4451-8066-3fb945b93f08",
        "colab": {
          "base_uri": "https://localhost:8080/",
          "height": 419
        }
      },
      "source": [
        "trans2"
      ],
      "execution_count": 52,
      "outputs": [
        {
          "output_type": "execute_result",
          "data": {
            "text/html": [
              "<div>\n",
              "<style scoped>\n",
              "    .dataframe tbody tr th:only-of-type {\n",
              "        vertical-align: middle;\n",
              "    }\n",
              "\n",
              "    .dataframe tbody tr th {\n",
              "        vertical-align: top;\n",
              "    }\n",
              "\n",
              "    .dataframe thead th {\n",
              "        text-align: right;\n",
              "    }\n",
              "</style>\n",
              "<table border=\"1\" class=\"dataframe\">\n",
              "  <thead>\n",
              "    <tr style=\"text-align: right;\">\n",
              "      <th></th>\n",
              "      <th>transaction Id</th>\n",
              "      <th>transaction type</th>\n",
              "      <th>transactions currency</th>\n",
              "      <th>amount usd</th>\n",
              "      <th>transactions state</th>\n",
              "      <th>direction</th>\n",
              "      <th>user_id</th>\n",
              "    </tr>\n",
              "  </thead>\n",
              "  <tbody>\n",
              "    <tr>\n",
              "      <th>0</th>\n",
              "      <td>transaction_0</td>\n",
              "      <td>transfer</td>\n",
              "      <td>aed</td>\n",
              "      <td>4.55</td>\n",
              "      <td>completed</td>\n",
              "      <td>outbound</td>\n",
              "      <td>user_4368</td>\n",
              "    </tr>\n",
              "    <tr>\n",
              "      <th>1</th>\n",
              "      <td>transaction_1</td>\n",
              "      <td>card_payment</td>\n",
              "      <td>aed</td>\n",
              "      <td>15.50</td>\n",
              "      <td>completed</td>\n",
              "      <td>outbound</td>\n",
              "      <td>user_2355</td>\n",
              "    </tr>\n",
              "    <tr>\n",
              "      <th>2</th>\n",
              "      <td>transaction_2</td>\n",
              "      <td>card_payment</td>\n",
              "      <td>aed</td>\n",
              "      <td>43.40</td>\n",
              "      <td>completed</td>\n",
              "      <td>outbound</td>\n",
              "      <td>user_2355</td>\n",
              "    </tr>\n",
              "    <tr>\n",
              "      <th>3</th>\n",
              "      <td>transaction_3</td>\n",
              "      <td>transfer</td>\n",
              "      <td>aed</td>\n",
              "      <td>10043.01</td>\n",
              "      <td>completed</td>\n",
              "      <td>outbound</td>\n",
              "      <td>user_2355</td>\n",
              "    </tr>\n",
              "    <tr>\n",
              "      <th>4</th>\n",
              "      <td>transaction_4</td>\n",
              "      <td>card_payment</td>\n",
              "      <td>aed</td>\n",
              "      <td>43.81</td>\n",
              "      <td>completed</td>\n",
              "      <td>outbound</td>\n",
              "      <td>user_14318</td>\n",
              "    </tr>\n",
              "    <tr>\n",
              "      <th>...</th>\n",
              "      <td>...</td>\n",
              "      <td>...</td>\n",
              "      <td>...</td>\n",
              "      <td>...</td>\n",
              "      <td>...</td>\n",
              "      <td>...</td>\n",
              "      <td>...</td>\n",
              "    </tr>\n",
              "    <tr>\n",
              "      <th>2181021</th>\n",
              "      <td>transaction_1499995</td>\n",
              "      <td>card_payment</td>\n",
              "      <td>gbp</td>\n",
              "      <td>0.00</td>\n",
              "      <td>reverted</td>\n",
              "      <td>outbound</td>\n",
              "      <td>user_4545</td>\n",
              "    </tr>\n",
              "    <tr>\n",
              "      <th>2181022</th>\n",
              "      <td>transaction_1499996</td>\n",
              "      <td>card_payment</td>\n",
              "      <td>gbp</td>\n",
              "      <td>0.00</td>\n",
              "      <td>reverted</td>\n",
              "      <td>outbound</td>\n",
              "      <td>user_8818</td>\n",
              "    </tr>\n",
              "    <tr>\n",
              "      <th>2181023</th>\n",
              "      <td>transaction_1499997</td>\n",
              "      <td>card_payment</td>\n",
              "      <td>gbp</td>\n",
              "      <td>0.00</td>\n",
              "      <td>reverted</td>\n",
              "      <td>outbound</td>\n",
              "      <td>user_12430</td>\n",
              "    </tr>\n",
              "    <tr>\n",
              "      <th>2181024</th>\n",
              "      <td>transaction_1499998</td>\n",
              "      <td>card_payment</td>\n",
              "      <td>gbp</td>\n",
              "      <td>0.00</td>\n",
              "      <td>reverted</td>\n",
              "      <td>outbound</td>\n",
              "      <td>user_14764</td>\n",
              "    </tr>\n",
              "    <tr>\n",
              "      <th>2181025</th>\n",
              "      <td>transaction_1499999</td>\n",
              "      <td>card_payment</td>\n",
              "      <td>gbp</td>\n",
              "      <td>0.00</td>\n",
              "      <td>reverted</td>\n",
              "      <td>outbound</td>\n",
              "      <td>user_14764</td>\n",
              "    </tr>\n",
              "  </tbody>\n",
              "</table>\n",
              "<p>2181026 rows × 7 columns</p>\n",
              "</div>"
            ],
            "text/plain": [
              "              transaction Id transaction type  ... direction     user_id\n",
              "0              transaction_0         transfer  ...  outbound   user_4368\n",
              "1              transaction_1     card_payment  ...  outbound   user_2355\n",
              "2              transaction_2     card_payment  ...  outbound   user_2355\n",
              "3              transaction_3         transfer  ...  outbound   user_2355\n",
              "4              transaction_4     card_payment  ...  outbound  user_14318\n",
              "...                      ...              ...  ...       ...         ...\n",
              "2181021  transaction_1499995     card_payment  ...  outbound   user_4545\n",
              "2181022  transaction_1499996     card_payment  ...  outbound   user_8818\n",
              "2181023  transaction_1499997     card_payment  ...  outbound  user_12430\n",
              "2181024  transaction_1499998     card_payment  ...  outbound  user_14764\n",
              "2181025  transaction_1499999     card_payment  ...  outbound  user_14764\n",
              "\n",
              "[2181026 rows x 7 columns]"
            ]
          },
          "metadata": {
            "tags": []
          },
          "execution_count": 52
        }
      ]
    },
    {
      "cell_type": "code",
      "metadata": {
        "id": "wpsyLOmVH-_u",
        "colab_type": "code",
        "outputId": "76745da4-35ce-401e-91a0-0674a37b9663",
        "colab": {
          "base_uri": "https://localhost:8080/",
          "height": 221
        }
      },
      "source": [
        "trans2['amount usd'].value_counts(ascending = True)"
      ],
      "execution_count": 53,
      "outputs": [
        {
          "output_type": "execute_result",
          "data": {
            "text/plain": [
              "2274.84        1\n",
              "202.05         1\n",
              "440.12         1\n",
              "443.88         1\n",
              "334.11         1\n",
              "           ...  \n",
              "10.00      29336\n",
              "8.51       36536\n",
              "0.01       36561\n",
              "0.85       38939\n",
              "0.00       46490\n",
              "Name: amount usd, Length: 43465, dtype: int64"
            ]
          },
          "metadata": {
            "tags": []
          },
          "execution_count": 53
        }
      ]
    },
    {
      "cell_type": "code",
      "metadata": {
        "id": "VeF9ivD2SwK6",
        "colab_type": "code",
        "colab": {}
      },
      "source": [
        "#trans3 = trans2.drop(trans5.index[trans5['transactions_state'] == 'FAILED'] )\n",
        "#trans3"
      ],
      "execution_count": 0,
      "outputs": []
    },
    {
      "cell_type": "markdown",
      "metadata": {
        "id": "YYynaUO4KIWA",
        "colab_type": "text"
      },
      "source": [
        "<hr>\n",
        "<li> <b> Outliers <b> </li>\n",
        "<hr>"
      ]
    },
    {
      "cell_type": "code",
      "metadata": {
        "id": "3EPI2a-gg6zG",
        "colab_type": "code",
        "colab": {
          "base_uri": "https://localhost:8080/",
          "height": 296
        },
        "outputId": "d4444a30-d33c-4919-9ef6-4835cd8ae49f"
      },
      "source": [
        "sns.boxplot(trans2['amount usd']) #with outliers"
      ],
      "execution_count": 55,
      "outputs": [
        {
          "output_type": "execute_result",
          "data": {
            "text/plain": [
              "<matplotlib.axes._subplots.AxesSubplot at 0x7ff80eff92e8>"
            ]
          },
          "metadata": {
            "tags": []
          },
          "execution_count": 55
        },
        {
          "output_type": "display_data",
          "data": {
            "image/png": "[encoded data removed]",
            "text/plain": [
              "<Figure size 432x288 with 1 Axes>"
            ]
          },
          "metadata": {
            "tags": [],
            "needs_background": "light"
          }
        }
      ]
    },
    {
      "cell_type": "code",
      "metadata": {
        "id": "rLqYr1q3iqWd",
        "colab_type": "code",
        "colab": {
          "base_uri": "https://localhost:8080/",
          "height": 170
        },
        "outputId": "123c8645-8877-4b8b-99a0-862fe48f9539"
      },
      "source": [
        "trans2['amount usd'].describe()\n"
      ],
      "execution_count": 56,
      "outputs": [
        {
          "output_type": "execute_result",
          "data": {
            "text/plain": [
              "count    2.181026e+06\n",
              "mean     1.189225e+05\n",
              "std      6.955454e+07\n",
              "min      0.000000e+00\n",
              "25%      2.030000e+00\n",
              "50%      8.510000e+00\n",
              "75%      2.807000e+01\n",
              "max      7.464155e+10\n",
              "Name: amount usd, dtype: float64"
            ]
          },
          "metadata": {
            "tags": []
          },
          "execution_count": 56
        }
      ]
    },
    {
      "cell_type": "code",
      "metadata": {
        "id": "wEmRlmzpjrLp",
        "colab_type": "code",
        "colab": {
          "base_uri": "https://localhost:8080/",
          "height": 68
        },
        "outputId": "70533880-8e7a-4d81-a487-8ab47d9406a2"
      },
      "source": [
        "trans2.columns"
      ],
      "execution_count": 57,
      "outputs": [
        {
          "output_type": "execute_result",
          "data": {
            "text/plain": [
              "Index(['transaction Id', 'transaction type', 'transactions currency',\n",
              "       'amount usd', 'transactions state', 'direction', 'user_id'],\n",
              "      dtype='object')"
            ]
          },
          "metadata": {
            "tags": []
          },
          "execution_count": 57
        }
      ]
    },
    {
      "cell_type": "code",
      "metadata": {
        "id": "TTSx06Q_qdyZ",
        "colab_type": "code",
        "colab": {
          "base_uri": "https://localhost:8080/",
          "height": 136
        },
        "outputId": "cb4f0b89-a061-409c-ab9b-4a6e410a4364"
      },
      "source": [
        "trans2['transactions state'].value_counts()"
      ],
      "execution_count": 58,
      "outputs": [
        {
          "output_type": "execute_result",
          "data": {
            "text/plain": [
              "completed    1916387\n",
              "declined      124226\n",
              "reverted       89330\n",
              "failed         32566\n",
              "pending        17153\n",
              "cancelled       1364\n",
              "Name: transactions state, dtype: int64"
            ]
          },
          "metadata": {
            "tags": []
          },
          "execution_count": 58
        }
      ]
    },
    {
      "cell_type": "code",
      "metadata": {
        "id": "mXgUg4gIrQZ7",
        "colab_type": "code",
        "colab": {}
      },
      "source": [
        "trans3 = trans2.groupby(['user_id'])['amount usd'].agg([sum,len])"
      ],
      "execution_count": 0,
      "outputs": []
    },
    {
      "cell_type": "code",
      "metadata": {
        "id": "Pv24ziV9rw-J",
        "colab_type": "code",
        "colab": {
          "base_uri": "https://localhost:8080/",
          "height": 450
        },
        "outputId": "65257329-8bcd-4ac8-913c-9e3824421f98"
      },
      "source": [
        "trans3"
      ],
      "execution_count": 60,
      "outputs": [
        {
          "output_type": "execute_result",
          "data": {
            "text/html": [
              "<div>\n",
              "<style scoped>\n",
              "    .dataframe tbody tr th:only-of-type {\n",
              "        vertical-align: middle;\n",
              "    }\n",
              "\n",
              "    .dataframe tbody tr th {\n",
              "        vertical-align: top;\n",
              "    }\n",
              "\n",
              "    .dataframe thead th {\n",
              "        text-align: right;\n",
              "    }\n",
              "</style>\n",
              "<table border=\"1\" class=\"dataframe\">\n",
              "  <thead>\n",
              "    <tr style=\"text-align: right;\">\n",
              "      <th></th>\n",
              "      <th>sum</th>\n",
              "      <th>len</th>\n",
              "    </tr>\n",
              "    <tr>\n",
              "      <th>user_id</th>\n",
              "      <th></th>\n",
              "      <th></th>\n",
              "    </tr>\n",
              "  </thead>\n",
              "  <tbody>\n",
              "    <tr>\n",
              "      <th>user_0</th>\n",
              "      <td>7122.21</td>\n",
              "      <td>545.0</td>\n",
              "    </tr>\n",
              "    <tr>\n",
              "      <th>user_1</th>\n",
              "      <td>14162.08</td>\n",
              "      <td>146.0</td>\n",
              "    </tr>\n",
              "    <tr>\n",
              "      <th>user_10</th>\n",
              "      <td>6256.46</td>\n",
              "      <td>143.0</td>\n",
              "    </tr>\n",
              "    <tr>\n",
              "      <th>user_100</th>\n",
              "      <td>6344.10</td>\n",
              "      <td>66.0</td>\n",
              "    </tr>\n",
              "    <tr>\n",
              "      <th>user_1000</th>\n",
              "      <td>901.62</td>\n",
              "      <td>47.0</td>\n",
              "    </tr>\n",
              "    <tr>\n",
              "      <th>...</th>\n",
              "      <td>...</td>\n",
              "      <td>...</td>\n",
              "    </tr>\n",
              "    <tr>\n",
              "      <th>user_9995</th>\n",
              "      <td>324.41</td>\n",
              "      <td>8.0</td>\n",
              "    </tr>\n",
              "    <tr>\n",
              "      <th>user_9996</th>\n",
              "      <td>1710.40</td>\n",
              "      <td>37.0</td>\n",
              "    </tr>\n",
              "    <tr>\n",
              "      <th>user_9997</th>\n",
              "      <td>15043.07</td>\n",
              "      <td>146.0</td>\n",
              "    </tr>\n",
              "    <tr>\n",
              "      <th>user_9998</th>\n",
              "      <td>654.38</td>\n",
              "      <td>36.0</td>\n",
              "    </tr>\n",
              "    <tr>\n",
              "      <th>user_9999</th>\n",
              "      <td>69.78</td>\n",
              "      <td>10.0</td>\n",
              "    </tr>\n",
              "  </tbody>\n",
              "</table>\n",
              "<p>15012 rows × 2 columns</p>\n",
              "</div>"
            ],
            "text/plain": [
              "                sum    len\n",
              "user_id                   \n",
              "user_0      7122.21  545.0\n",
              "user_1     14162.08  146.0\n",
              "user_10     6256.46  143.0\n",
              "user_100    6344.10   66.0\n",
              "user_1000    901.62   47.0\n",
              "...             ...    ...\n",
              "user_9995    324.41    8.0\n",
              "user_9996   1710.40   37.0\n",
              "user_9997  15043.07  146.0\n",
              "user_9998    654.38   36.0\n",
              "user_9999     69.78   10.0\n",
              "\n",
              "[15012 rows x 2 columns]"
            ]
          },
          "metadata": {
            "tags": []
          },
          "execution_count": 60
        }
      ]
    },
    {
      "cell_type": "code",
      "metadata": {
        "id": "THFHH_qxsvsC",
        "colab_type": "code",
        "colab": {
          "base_uri": "https://localhost:8080/",
          "height": 609
        },
        "outputId": "8b11a834-df1a-4530-9b11-fec568036a61"
      },
      "source": [
        "users = pd.read_csv('users_lefteris.csv')\n",
        "users"
      ],
      "execution_count": 61,
      "outputs": [
        {
          "output_type": "execute_result",
          "data": {
            "text/html": [
              "<div>\n",
              "<style scoped>\n",
              "    .dataframe tbody tr th:only-of-type {\n",
              "        vertical-align: middle;\n",
              "    }\n",
              "\n",
              "    .dataframe tbody tr th {\n",
              "        vertical-align: top;\n",
              "    }\n",
              "\n",
              "    .dataframe thead th {\n",
              "        text-align: right;\n",
              "    }\n",
              "</style>\n",
              "<table border=\"1\" class=\"dataframe\">\n",
              "  <thead>\n",
              "    <tr style=\"text-align: right;\">\n",
              "      <th></th>\n",
              "      <th>user_id</th>\n",
              "      <th>birth_year</th>\n",
              "      <th>country</th>\n",
              "      <th>city</th>\n",
              "      <th>created_date</th>\n",
              "      <th>user_settings_crypto_unlocked</th>\n",
              "      <th>plan</th>\n",
              "      <th>attributes_notifications_marketing_push</th>\n",
              "      <th>attributes_notifications_marketing_email</th>\n",
              "      <th>num_contacts</th>\n",
              "      <th>num_referrals</th>\n",
              "      <th>num_successful_referrals</th>\n",
              "    </tr>\n",
              "  </thead>\n",
              "  <tbody>\n",
              "    <tr>\n",
              "      <th>0</th>\n",
              "      <td>user_0</td>\n",
              "      <td>1992</td>\n",
              "      <td>ES</td>\n",
              "      <td>Madrid</td>\n",
              "      <td>2018-09-10 18:46:42.843855</td>\n",
              "      <td>0</td>\n",
              "      <td>STANDARD</td>\n",
              "      <td>1.0</td>\n",
              "      <td>1.0</td>\n",
              "      <td>3</td>\n",
              "      <td>0</td>\n",
              "      <td>0</td>\n",
              "    </tr>\n",
              "    <tr>\n",
              "      <th>1</th>\n",
              "      <td>user_1</td>\n",
              "      <td>1985</td>\n",
              "      <td>LT</td>\n",
              "      <td>Klaipeda</td>\n",
              "      <td>2018-01-11 18:53:10.531146</td>\n",
              "      <td>1</td>\n",
              "      <td>STANDARD</td>\n",
              "      <td>NaN</td>\n",
              "      <td>NaN</td>\n",
              "      <td>75</td>\n",
              "      <td>0</td>\n",
              "      <td>0</td>\n",
              "    </tr>\n",
              "    <tr>\n",
              "      <th>2</th>\n",
              "      <td>user_2</td>\n",
              "      <td>1996</td>\n",
              "      <td>IE</td>\n",
              "      <td>Carrickmacross</td>\n",
              "      <td>2018-11-29 17:29:16.879324</td>\n",
              "      <td>0</td>\n",
              "      <td>STANDARD</td>\n",
              "      <td>NaN</td>\n",
              "      <td>NaN</td>\n",
              "      <td>71</td>\n",
              "      <td>0</td>\n",
              "      <td>0</td>\n",
              "    </tr>\n",
              "    <tr>\n",
              "      <th>3</th>\n",
              "      <td>user_3</td>\n",
              "      <td>1981</td>\n",
              "      <td>IE</td>\n",
              "      <td>Dublin</td>\n",
              "      <td>2018-02-17 11:58:08.319664</td>\n",
              "      <td>0</td>\n",
              "      <td>STANDARD</td>\n",
              "      <td>NaN</td>\n",
              "      <td>NaN</td>\n",
              "      <td>219</td>\n",
              "      <td>0</td>\n",
              "      <td>0</td>\n",
              "    </tr>\n",
              "    <tr>\n",
              "      <th>4</th>\n",
              "      <td>user_4</td>\n",
              "      <td>1992</td>\n",
              "      <td>GB</td>\n",
              "      <td>London</td>\n",
              "      <td>2018-01-08 18:40:21.097856</td>\n",
              "      <td>0</td>\n",
              "      <td>STANDARD</td>\n",
              "      <td>NaN</td>\n",
              "      <td>NaN</td>\n",
              "      <td>0</td>\n",
              "      <td>0</td>\n",
              "      <td>0</td>\n",
              "    </tr>\n",
              "    <tr>\n",
              "      <th>...</th>\n",
              "      <td>...</td>\n",
              "      <td>...</td>\n",
              "      <td>...</td>\n",
              "      <td>...</td>\n",
              "      <td>...</td>\n",
              "      <td>...</td>\n",
              "      <td>...</td>\n",
              "      <td>...</td>\n",
              "      <td>...</td>\n",
              "      <td>...</td>\n",
              "      <td>...</td>\n",
              "      <td>...</td>\n",
              "    </tr>\n",
              "    <tr>\n",
              "      <th>15539</th>\n",
              "      <td>user_15539</td>\n",
              "      <td>1997</td>\n",
              "      <td>PL</td>\n",
              "      <td>Bralin</td>\n",
              "      <td>2018-08-05 05:56:40.787458</td>\n",
              "      <td>0</td>\n",
              "      <td>STANDARD</td>\n",
              "      <td>1.0</td>\n",
              "      <td>1.0</td>\n",
              "      <td>0</td>\n",
              "      <td>0</td>\n",
              "      <td>0</td>\n",
              "    </tr>\n",
              "    <tr>\n",
              "      <th>15540</th>\n",
              "      <td>user_15540</td>\n",
              "      <td>1985</td>\n",
              "      <td>PL</td>\n",
              "      <td>Poznań</td>\n",
              "      <td>2018-03-29 12:19:05.567779</td>\n",
              "      <td>0</td>\n",
              "      <td>STANDARD</td>\n",
              "      <td>NaN</td>\n",
              "      <td>NaN</td>\n",
              "      <td>0</td>\n",
              "      <td>0</td>\n",
              "      <td>0</td>\n",
              "    </tr>\n",
              "    <tr>\n",
              "      <th>15541</th>\n",
              "      <td>user_15541</td>\n",
              "      <td>1978</td>\n",
              "      <td>GB</td>\n",
              "      <td>London</td>\n",
              "      <td>2018-07-13 15:56:50.339746</td>\n",
              "      <td>0</td>\n",
              "      <td>STANDARD</td>\n",
              "      <td>1.0</td>\n",
              "      <td>1.0</td>\n",
              "      <td>16</td>\n",
              "      <td>0</td>\n",
              "      <td>0</td>\n",
              "    </tr>\n",
              "    <tr>\n",
              "      <th>15542</th>\n",
              "      <td>user_15542</td>\n",
              "      <td>1977</td>\n",
              "      <td>IE</td>\n",
              "      <td>Dublin</td>\n",
              "      <td>2018-01-07 15:53:43.719983</td>\n",
              "      <td>0</td>\n",
              "      <td>GOLD</td>\n",
              "      <td>1.0</td>\n",
              "      <td>1.0</td>\n",
              "      <td>44</td>\n",
              "      <td>0</td>\n",
              "      <td>0</td>\n",
              "    </tr>\n",
              "    <tr>\n",
              "      <th>15543</th>\n",
              "      <td>user_15543</td>\n",
              "      <td>1994</td>\n",
              "      <td>GB</td>\n",
              "      <td>Andover</td>\n",
              "      <td>2018-08-18 12:17:02.086815</td>\n",
              "      <td>1</td>\n",
              "      <td>STANDARD</td>\n",
              "      <td>1.0</td>\n",
              "      <td>1.0</td>\n",
              "      <td>8</td>\n",
              "      <td>0</td>\n",
              "      <td>0</td>\n",
              "    </tr>\n",
              "  </tbody>\n",
              "</table>\n",
              "<p>15544 rows × 12 columns</p>\n",
              "</div>"
            ],
            "text/plain": [
              "          user_id  birth_year  ... num_referrals num_successful_referrals\n",
              "0          user_0        1992  ...             0                        0\n",
              "1          user_1        1985  ...             0                        0\n",
              "2          user_2        1996  ...             0                        0\n",
              "3          user_3        1981  ...             0                        0\n",
              "4          user_4        1992  ...             0                        0\n",
              "...           ...         ...  ...           ...                      ...\n",
              "15539  user_15539        1997  ...             0                        0\n",
              "15540  user_15540        1985  ...             0                        0\n",
              "15541  user_15541        1978  ...             0                        0\n",
              "15542  user_15542        1977  ...             0                        0\n",
              "15543  user_15543        1994  ...             0                        0\n",
              "\n",
              "[15544 rows x 12 columns]"
            ]
          },
          "metadata": {
            "tags": []
          },
          "execution_count": 61
        }
      ]
    },
    {
      "cell_type": "code",
      "metadata": {
        "id": "dagKuBN8y65c",
        "colab_type": "code",
        "colab": {
          "base_uri": "https://localhost:8080/",
          "height": 34
        },
        "outputId": "1f1f5295-42b0-4162-ba34-a9114c55b0df"
      },
      "source": [
        "users.shape"
      ],
      "execution_count": 62,
      "outputs": [
        {
          "output_type": "execute_result",
          "data": {
            "text/plain": [
              "(15544, 12)"
            ]
          },
          "metadata": {
            "tags": []
          },
          "execution_count": 62
        }
      ]
    },
    {
      "cell_type": "code",
      "metadata": {
        "id": "Z0Falaz2yilA",
        "colab_type": "code",
        "colab": {}
      },
      "source": [
        "result=users.merge(trans3,on=\"user_id\").fillna(0)\n",
        "result.to_csv(\"result.csv\")\n",
        "\n"
      ],
      "execution_count": 0,
      "outputs": []
    },
    {
      "cell_type": "code",
      "metadata": {
        "id": "ONbJ2wPbwNHp",
        "colab_type": "code",
        "colab": {
          "base_uri": "https://localhost:8080/",
          "height": 261
        },
        "outputId": "a24da5fa-032c-4d99-a0bf-9de4b4e30b07"
      },
      "source": [
        "result.head(4)"
      ],
      "execution_count": 64,
      "outputs": [
        {
          "output_type": "execute_result",
          "data": {
            "text/html": [
              "<div>\n",
              "<style scoped>\n",
              "    .dataframe tbody tr th:only-of-type {\n",
              "        vertical-align: middle;\n",
              "    }\n",
              "\n",
              "    .dataframe tbody tr th {\n",
              "        vertical-align: top;\n",
              "    }\n",
              "\n",
              "    .dataframe thead th {\n",
              "        text-align: right;\n",
              "    }\n",
              "</style>\n",
              "<table border=\"1\" class=\"dataframe\">\n",
              "  <thead>\n",
              "    <tr style=\"text-align: right;\">\n",
              "      <th></th>\n",
              "      <th>user_id</th>\n",
              "      <th>birth_year</th>\n",
              "      <th>country</th>\n",
              "      <th>city</th>\n",
              "      <th>created_date</th>\n",
              "      <th>user_settings_crypto_unlocked</th>\n",
              "      <th>plan</th>\n",
              "      <th>attributes_notifications_marketing_push</th>\n",
              "      <th>attributes_notifications_marketing_email</th>\n",
              "      <th>num_contacts</th>\n",
              "      <th>num_referrals</th>\n",
              "      <th>num_successful_referrals</th>\n",
              "      <th>sum</th>\n",
              "      <th>len</th>\n",
              "    </tr>\n",
              "  </thead>\n",
              "  <tbody>\n",
              "    <tr>\n",
              "      <th>0</th>\n",
              "      <td>user_0</td>\n",
              "      <td>1992</td>\n",
              "      <td>ES</td>\n",
              "      <td>Madrid</td>\n",
              "      <td>2018-09-10 18:46:42.843855</td>\n",
              "      <td>0</td>\n",
              "      <td>STANDARD</td>\n",
              "      <td>1.0</td>\n",
              "      <td>1.0</td>\n",
              "      <td>3</td>\n",
              "      <td>0</td>\n",
              "      <td>0</td>\n",
              "      <td>7122.21</td>\n",
              "      <td>545.0</td>\n",
              "    </tr>\n",
              "    <tr>\n",
              "      <th>1</th>\n",
              "      <td>user_1</td>\n",
              "      <td>1985</td>\n",
              "      <td>LT</td>\n",
              "      <td>Klaipeda</td>\n",
              "      <td>2018-01-11 18:53:10.531146</td>\n",
              "      <td>1</td>\n",
              "      <td>STANDARD</td>\n",
              "      <td>0.0</td>\n",
              "      <td>0.0</td>\n",
              "      <td>75</td>\n",
              "      <td>0</td>\n",
              "      <td>0</td>\n",
              "      <td>14162.08</td>\n",
              "      <td>146.0</td>\n",
              "    </tr>\n",
              "    <tr>\n",
              "      <th>2</th>\n",
              "      <td>user_2</td>\n",
              "      <td>1996</td>\n",
              "      <td>IE</td>\n",
              "      <td>Carrickmacross</td>\n",
              "      <td>2018-11-29 17:29:16.879324</td>\n",
              "      <td>0</td>\n",
              "      <td>STANDARD</td>\n",
              "      <td>0.0</td>\n",
              "      <td>0.0</td>\n",
              "      <td>71</td>\n",
              "      <td>0</td>\n",
              "      <td>0</td>\n",
              "      <td>2983.40</td>\n",
              "      <td>282.0</td>\n",
              "    </tr>\n",
              "    <tr>\n",
              "      <th>3</th>\n",
              "      <td>user_3</td>\n",
              "      <td>1981</td>\n",
              "      <td>IE</td>\n",
              "      <td>Dublin</td>\n",
              "      <td>2018-02-17 11:58:08.319664</td>\n",
              "      <td>0</td>\n",
              "      <td>STANDARD</td>\n",
              "      <td>0.0</td>\n",
              "      <td>0.0</td>\n",
              "      <td>219</td>\n",
              "      <td>0</td>\n",
              "      <td>0</td>\n",
              "      <td>8270.65</td>\n",
              "      <td>158.0</td>\n",
              "    </tr>\n",
              "  </tbody>\n",
              "</table>\n",
              "</div>"
            ],
            "text/plain": [
              "  user_id  birth_year country  ... num_successful_referrals       sum    len\n",
              "0  user_0        1992      ES  ...                        0   7122.21  545.0\n",
              "1  user_1        1985      LT  ...                        0  14162.08  146.0\n",
              "2  user_2        1996      IE  ...                        0   2983.40  282.0\n",
              "3  user_3        1981      IE  ...                        0   8270.65  158.0\n",
              "\n",
              "[4 rows x 14 columns]"
            ]
          },
          "metadata": {
            "tags": []
          },
          "execution_count": 64
        }
      ]
    },
    {
      "cell_type": "code",
      "metadata": {
        "id": "q3evtXdCyUpX",
        "colab_type": "code",
        "colab": {
          "base_uri": "https://localhost:8080/",
          "height": 34
        },
        "outputId": "2ef873ba-8f5c-47e2-8e8b-4ee8bb5c4d15"
      },
      "source": [
        "result.shape"
      ],
      "execution_count": 65,
      "outputs": [
        {
          "output_type": "execute_result",
          "data": {
            "text/plain": [
              "(15012, 14)"
            ]
          },
          "metadata": {
            "tags": []
          },
          "execution_count": 65
        }
      ]
    },
    {
      "cell_type": "code",
      "metadata": {
        "id": "wcTMSDppy-T8",
        "colab_type": "code",
        "colab": {
          "base_uri": "https://localhost:8080/",
          "height": 295
        },
        "outputId": "07938b5e-0687-4997-b3ce-e41b6e8e1f50"
      },
      "source": [
        "result=result.rename(columns={\"len\" : \"number of trans\"})\n",
        "result=result.rename(columns={\"sum\" : \"sum of trans\"})\n",
        "\n",
        "result.head(4)"
      ],
      "execution_count": 66,
      "outputs": [
        {
          "output_type": "execute_result",
          "data": {
            "text/html": [
              "<div>\n",
              "<style scoped>\n",
              "    .dataframe tbody tr th:only-of-type {\n",
              "        vertical-align: middle;\n",
              "    }\n",
              "\n",
              "    .dataframe tbody tr th {\n",
              "        vertical-align: top;\n",
              "    }\n",
              "\n",
              "    .dataframe thead th {\n",
              "        text-align: right;\n",
              "    }\n",
              "</style>\n",
              "<table border=\"1\" class=\"dataframe\">\n",
              "  <thead>\n",
              "    <tr style=\"text-align: right;\">\n",
              "      <th></th>\n",
              "      <th>user_id</th>\n",
              "      <th>birth_year</th>\n",
              "      <th>country</th>\n",
              "      <th>city</th>\n",
              "      <th>created_date</th>\n",
              "      <th>user_settings_crypto_unlocked</th>\n",
              "      <th>plan</th>\n",
              "      <th>attributes_notifications_marketing_push</th>\n",
              "      <th>attributes_notifications_marketing_email</th>\n",
              "      <th>num_contacts</th>\n",
              "      <th>num_referrals</th>\n",
              "      <th>num_successful_referrals</th>\n",
              "      <th>sum of trans</th>\n",
              "      <th>number of trans</th>\n",
              "    </tr>\n",
              "  </thead>\n",
              "  <tbody>\n",
              "    <tr>\n",
              "      <th>0</th>\n",
              "      <td>user_0</td>\n",
              "      <td>1992</td>\n",
              "      <td>ES</td>\n",
              "      <td>Madrid</td>\n",
              "      <td>2018-09-10 18:46:42.843855</td>\n",
              "      <td>0</td>\n",
              "      <td>STANDARD</td>\n",
              "      <td>1.0</td>\n",
              "      <td>1.0</td>\n",
              "      <td>3</td>\n",
              "      <td>0</td>\n",
              "      <td>0</td>\n",
              "      <td>7122.21</td>\n",
              "      <td>545.0</td>\n",
              "    </tr>\n",
              "    <tr>\n",
              "      <th>1</th>\n",
              "      <td>user_1</td>\n",
              "      <td>1985</td>\n",
              "      <td>LT</td>\n",
              "      <td>Klaipeda</td>\n",
              "      <td>2018-01-11 18:53:10.531146</td>\n",
              "      <td>1</td>\n",
              "      <td>STANDARD</td>\n",
              "      <td>0.0</td>\n",
              "      <td>0.0</td>\n",
              "      <td>75</td>\n",
              "      <td>0</td>\n",
              "      <td>0</td>\n",
              "      <td>14162.08</td>\n",
              "      <td>146.0</td>\n",
              "    </tr>\n",
              "    <tr>\n",
              "      <th>2</th>\n",
              "      <td>user_2</td>\n",
              "      <td>1996</td>\n",
              "      <td>IE</td>\n",
              "      <td>Carrickmacross</td>\n",
              "      <td>2018-11-29 17:29:16.879324</td>\n",
              "      <td>0</td>\n",
              "      <td>STANDARD</td>\n",
              "      <td>0.0</td>\n",
              "      <td>0.0</td>\n",
              "      <td>71</td>\n",
              "      <td>0</td>\n",
              "      <td>0</td>\n",
              "      <td>2983.40</td>\n",
              "      <td>282.0</td>\n",
              "    </tr>\n",
              "    <tr>\n",
              "      <th>3</th>\n",
              "      <td>user_3</td>\n",
              "      <td>1981</td>\n",
              "      <td>IE</td>\n",
              "      <td>Dublin</td>\n",
              "      <td>2018-02-17 11:58:08.319664</td>\n",
              "      <td>0</td>\n",
              "      <td>STANDARD</td>\n",
              "      <td>0.0</td>\n",
              "      <td>0.0</td>\n",
              "      <td>219</td>\n",
              "      <td>0</td>\n",
              "      <td>0</td>\n",
              "      <td>8270.65</td>\n",
              "      <td>158.0</td>\n",
              "    </tr>\n",
              "  </tbody>\n",
              "</table>\n",
              "</div>"
            ],
            "text/plain": [
              "  user_id  birth_year  ... sum of trans number of trans\n",
              "0  user_0        1992  ...      7122.21           545.0\n",
              "1  user_1        1985  ...     14162.08           146.0\n",
              "2  user_2        1996  ...      2983.40           282.0\n",
              "3  user_3        1981  ...      8270.65           158.0\n",
              "\n",
              "[4 rows x 14 columns]"
            ]
          },
          "metadata": {
            "tags": []
          },
          "execution_count": 66
        }
      ]
    },
    {
      "cell_type": "code",
      "metadata": {
        "id": "8NpE7FPA0jR2",
        "colab_type": "code",
        "colab": {
          "base_uri": "https://localhost:8080/",
          "height": 34
        },
        "outputId": "26027d29-9338-466f-aeee-55912e50b140"
      },
      "source": [
        "result['sum of trans'].max()"
      ],
      "execution_count": 67,
      "outputs": [
        {
          "output_type": "execute_result",
          "data": {
            "text/plain": [
              "82852125991.10994"
            ]
          },
          "metadata": {
            "tags": []
          },
          "execution_count": 67
        }
      ]
    },
    {
      "cell_type": "code",
      "metadata": {
        "id": "AJtlqvahzR1x",
        "colab_type": "code",
        "colab": {
          "base_uri": "https://localhost:8080/",
          "height": 34
        },
        "outputId": "d035f2b4-50ca-41d8-855e-97ea9f733155"
      },
      "source": [
        "result['sum of trans'].min()"
      ],
      "execution_count": 68,
      "outputs": [
        {
          "output_type": "execute_result",
          "data": {
            "text/plain": [
              "0.0"
            ]
          },
          "metadata": {
            "tags": []
          },
          "execution_count": 68
        }
      ]
    },
    {
      "cell_type": "code",
      "metadata": {
        "id": "qKs52Jjr4K6j",
        "colab_type": "code",
        "colab": {
          "base_uri": "https://localhost:8080/",
          "height": 34
        },
        "outputId": "594987c2-75cc-47e4-936a-d3e3da57d26a"
      },
      "source": [
        "result['number of trans'].max()"
      ],
      "execution_count": 69,
      "outputs": [
        {
          "output_type": "execute_result",
          "data": {
            "text/plain": [
              "3381.0"
            ]
          },
          "metadata": {
            "tags": []
          },
          "execution_count": 69
        }
      ]
    },
    {
      "cell_type": "code",
      "metadata": {
        "id": "bt6afTGk4PTB",
        "colab_type": "code",
        "colab": {
          "base_uri": "https://localhost:8080/",
          "height": 34
        },
        "outputId": "433d1a2d-e4e6-44d2-edde-1d7d1c6d56f7"
      },
      "source": [
        "result['number of trans'].min()"
      ],
      "execution_count": 70,
      "outputs": [
        {
          "output_type": "execute_result",
          "data": {
            "text/plain": [
              "1.0"
            ]
          },
          "metadata": {
            "tags": []
          },
          "execution_count": 70
        }
      ]
    },
    {
      "cell_type": "code",
      "metadata": {
        "id": "RU2SIOX46HkO",
        "colab_type": "code",
        "colab": {
          "base_uri": "https://localhost:8080/",
          "height": 170
        },
        "outputId": "e71dd430-ce08-4b04-b99d-835b3d3e9670"
      },
      "source": [
        "result['number of trans'].describe()"
      ],
      "execution_count": 71,
      "outputs": [
        {
          "output_type": "execute_result",
          "data": {
            "text/plain": [
              "count    15012.000000\n",
              "mean       145.285505\n",
              "std        241.520460\n",
              "min          1.000000\n",
              "25%         17.000000\n",
              "50%         60.000000\n",
              "75%        167.000000\n",
              "max       3381.000000\n",
              "Name: number of trans, dtype: float64"
            ]
          },
          "metadata": {
            "tags": []
          },
          "execution_count": 71
        }
      ]
    },
    {
      "cell_type": "code",
      "metadata": {
        "id": "ClHL3O4D33zC",
        "colab_type": "code",
        "colab": {
          "base_uri": "https://localhost:8080/",
          "height": 221
        },
        "outputId": "86fa9bc0-4b90-4599-f6a9-98fc19d1d2e6"
      },
      "source": [
        "result['number of trans'].value_counts()"
      ],
      "execution_count": 72,
      "outputs": [
        {
          "output_type": "execute_result",
          "data": {
            "text/plain": [
              "3.0       511\n",
              "2.0       447\n",
              "4.0       325\n",
              "5.0       277\n",
              "6.0       256\n",
              "         ... \n",
              "2224.0      1\n",
              "834.0       1\n",
              "950.0       1\n",
              "1012.0      1\n",
              "583.0       1\n",
              "Name: number of trans, Length: 1059, dtype: int64"
            ]
          },
          "metadata": {
            "tags": []
          },
          "execution_count": 72
        }
      ]
    },
    {
      "cell_type": "code",
      "metadata": {
        "id": "bVb5AU-v6k7B",
        "colab_type": "code",
        "colab": {
          "base_uri": "https://localhost:8080/",
          "height": 221
        },
        "outputId": "0fa91505-76fd-400c-c34f-19e3e036c2d3"
      },
      "source": [
        "result['No of trans by 20'] = result['number of trans'].apply(lambda x:x// 20)\n",
        "result['No of trans by 20'].value_counts()\n"
      ],
      "execution_count": 73,
      "outputs": [
        {
          "output_type": "execute_result",
          "data": {
            "text/plain": [
              "0.0      4056\n",
              "1.0      1923\n",
              "2.0      1485\n",
              "3.0      1063\n",
              "4.0       910\n",
              "         ... \n",
              "90.0        1\n",
              "115.0       1\n",
              "111.0       1\n",
              "138.0       1\n",
              "84.0        1\n",
              "Name: No of trans by 20, Length: 116, dtype: int64"
            ]
          },
          "metadata": {
            "tags": []
          },
          "execution_count": 73
        }
      ]
    },
    {
      "cell_type": "code",
      "metadata": {
        "id": "lWQxcT546YzG",
        "colab_type": "code",
        "colab": {
          "base_uri": "https://localhost:8080/",
          "height": 343
        },
        "outputId": "87c2cd37-2318-4234-f9af-e14896c5c1a7"
      },
      "source": [
        "result.head(5)"
      ],
      "execution_count": 76,
      "outputs": [
        {
          "output_type": "execute_result",
          "data": {
            "text/html": [
              "<div>\n",
              "<style scoped>\n",
              "    .dataframe tbody tr th:only-of-type {\n",
              "        vertical-align: middle;\n",
              "    }\n",
              "\n",
              "    .dataframe tbody tr th {\n",
              "        vertical-align: top;\n",
              "    }\n",
              "\n",
              "    .dataframe thead th {\n",
              "        text-align: right;\n",
              "    }\n",
              "</style>\n",
              "<table border=\"1\" class=\"dataframe\">\n",
              "  <thead>\n",
              "    <tr style=\"text-align: right;\">\n",
              "      <th></th>\n",
              "      <th>user_id</th>\n",
              "      <th>birth_year</th>\n",
              "      <th>country</th>\n",
              "      <th>city</th>\n",
              "      <th>created_date</th>\n",
              "      <th>user_settings_crypto_unlocked</th>\n",
              "      <th>plan</th>\n",
              "      <th>attributes_notifications_marketing_push</th>\n",
              "      <th>attributes_notifications_marketing_email</th>\n",
              "      <th>num_contacts</th>\n",
              "      <th>num_referrals</th>\n",
              "      <th>num_successful_referrals</th>\n",
              "      <th>sum of trans</th>\n",
              "      <th>number of trans</th>\n",
              "      <th>No of trans by 20</th>\n",
              "    </tr>\n",
              "  </thead>\n",
              "  <tbody>\n",
              "    <tr>\n",
              "      <th>0</th>\n",
              "      <td>user_0</td>\n",
              "      <td>1992</td>\n",
              "      <td>ES</td>\n",
              "      <td>Madrid</td>\n",
              "      <td>2018-09-10 18:46:42.843855</td>\n",
              "      <td>0</td>\n",
              "      <td>STANDARD</td>\n",
              "      <td>1.0</td>\n",
              "      <td>1.0</td>\n",
              "      <td>3</td>\n",
              "      <td>0</td>\n",
              "      <td>0</td>\n",
              "      <td>7122.21</td>\n",
              "      <td>545.0</td>\n",
              "      <td>27.0</td>\n",
              "    </tr>\n",
              "    <tr>\n",
              "      <th>1</th>\n",
              "      <td>user_1</td>\n",
              "      <td>1985</td>\n",
              "      <td>LT</td>\n",
              "      <td>Klaipeda</td>\n",
              "      <td>2018-01-11 18:53:10.531146</td>\n",
              "      <td>1</td>\n",
              "      <td>STANDARD</td>\n",
              "      <td>0.0</td>\n",
              "      <td>0.0</td>\n",
              "      <td>75</td>\n",
              "      <td>0</td>\n",
              "      <td>0</td>\n",
              "      <td>14162.08</td>\n",
              "      <td>146.0</td>\n",
              "      <td>7.0</td>\n",
              "    </tr>\n",
              "    <tr>\n",
              "      <th>2</th>\n",
              "      <td>user_2</td>\n",
              "      <td>1996</td>\n",
              "      <td>IE</td>\n",
              "      <td>Carrickmacross</td>\n",
              "      <td>2018-11-29 17:29:16.879324</td>\n",
              "      <td>0</td>\n",
              "      <td>STANDARD</td>\n",
              "      <td>0.0</td>\n",
              "      <td>0.0</td>\n",
              "      <td>71</td>\n",
              "      <td>0</td>\n",
              "      <td>0</td>\n",
              "      <td>2983.40</td>\n",
              "      <td>282.0</td>\n",
              "      <td>14.0</td>\n",
              "    </tr>\n",
              "    <tr>\n",
              "      <th>3</th>\n",
              "      <td>user_3</td>\n",
              "      <td>1981</td>\n",
              "      <td>IE</td>\n",
              "      <td>Dublin</td>\n",
              "      <td>2018-02-17 11:58:08.319664</td>\n",
              "      <td>0</td>\n",
              "      <td>STANDARD</td>\n",
              "      <td>0.0</td>\n",
              "      <td>0.0</td>\n",
              "      <td>219</td>\n",
              "      <td>0</td>\n",
              "      <td>0</td>\n",
              "      <td>8270.65</td>\n",
              "      <td>158.0</td>\n",
              "      <td>7.0</td>\n",
              "    </tr>\n",
              "    <tr>\n",
              "      <th>4</th>\n",
              "      <td>user_4</td>\n",
              "      <td>1992</td>\n",
              "      <td>GB</td>\n",
              "      <td>London</td>\n",
              "      <td>2018-01-08 18:40:21.097856</td>\n",
              "      <td>0</td>\n",
              "      <td>STANDARD</td>\n",
              "      <td>0.0</td>\n",
              "      <td>0.0</td>\n",
              "      <td>0</td>\n",
              "      <td>0</td>\n",
              "      <td>0</td>\n",
              "      <td>1068.40</td>\n",
              "      <td>59.0</td>\n",
              "      <td>2.0</td>\n",
              "    </tr>\n",
              "  </tbody>\n",
              "</table>\n",
              "</div>"
            ],
            "text/plain": [
              "  user_id  birth_year country  ... sum of trans number of trans  No of trans by 20\n",
              "0  user_0        1992      ES  ...      7122.21           545.0               27.0\n",
              "1  user_1        1985      LT  ...     14162.08           146.0                7.0\n",
              "2  user_2        1996      IE  ...      2983.40           282.0               14.0\n",
              "3  user_3        1981      IE  ...      8270.65           158.0                7.0\n",
              "4  user_4        1992      GB  ...      1068.40            59.0                2.0\n",
              "\n",
              "[5 rows x 15 columns]"
            ]
          },
          "metadata": {
            "tags": []
          },
          "execution_count": 76
        }
      ]
    },
    {
      "cell_type": "code",
      "metadata": {
        "id": "SNrS9Y2O8OTJ",
        "colab_type": "code",
        "colab": {
          "base_uri": "https://localhost:8080/",
          "height": 170
        },
        "outputId": "a86abfb8-96fb-4bb9-b0de-c767648117f6"
      },
      "source": [
        "result['sum of trans'].describe()"
      ],
      "execution_count": 77,
      "outputs": [
        {
          "output_type": "execute_result",
          "data": {
            "text/plain": [
              "count    1.501200e+04\n",
              "mean     1.727771e+07\n",
              "std      8.952744e+08\n",
              "min      0.000000e+00\n",
              "25%      4.499050e+02\n",
              "50%      2.527545e+03\n",
              "75%      8.162913e+03\n",
              "max      8.285213e+10\n",
              "Name: sum of trans, dtype: float64"
            ]
          },
          "metadata": {
            "tags": []
          },
          "execution_count": 77
        }
      ]
    },
    {
      "cell_type": "code",
      "metadata": {
        "id": "p38JwcUe3YoB",
        "colab_type": "code",
        "colab": {
          "base_uri": "https://localhost:8080/",
          "height": 1000
        },
        "outputId": "c405cc5e-3dff-461e-c320-3d2243107524"
      },
      "source": [
        "pd.crosstab(index=result['country'], columns=result['plan'])"
      ],
      "execution_count": 78,
      "outputs": [
        {
          "output_type": "execute_result",
          "data": {
            "text/html": [
              "<div>\n",
              "<style scoped>\n",
              "    .dataframe tbody tr th:only-of-type {\n",
              "        vertical-align: middle;\n",
              "    }\n",
              "\n",
              "    .dataframe tbody tr th {\n",
              "        vertical-align: top;\n",
              "    }\n",
              "\n",
              "    .dataframe thead th {\n",
              "        text-align: right;\n",
              "    }\n",
              "</style>\n",
              "<table border=\"1\" class=\"dataframe\">\n",
              "  <thead>\n",
              "    <tr style=\"text-align: right;\">\n",
              "      <th>plan</th>\n",
              "      <th>GOLD</th>\n",
              "      <th>SILVER</th>\n",
              "      <th>STANDARD</th>\n",
              "    </tr>\n",
              "    <tr>\n",
              "      <th>country</th>\n",
              "      <th></th>\n",
              "      <th></th>\n",
              "      <th></th>\n",
              "    </tr>\n",
              "  </thead>\n",
              "  <tbody>\n",
              "    <tr>\n",
              "      <th>AT</th>\n",
              "      <td>2</td>\n",
              "      <td>2</td>\n",
              "      <td>60</td>\n",
              "    </tr>\n",
              "    <tr>\n",
              "      <th>AU</th>\n",
              "      <td>0</td>\n",
              "      <td>0</td>\n",
              "      <td>3</td>\n",
              "    </tr>\n",
              "    <tr>\n",
              "      <th>BE</th>\n",
              "      <td>1</td>\n",
              "      <td>5</td>\n",
              "      <td>99</td>\n",
              "    </tr>\n",
              "    <tr>\n",
              "      <th>BG</th>\n",
              "      <td>1</td>\n",
              "      <td>1</td>\n",
              "      <td>70</td>\n",
              "    </tr>\n",
              "    <tr>\n",
              "      <th>CH</th>\n",
              "      <td>25</td>\n",
              "      <td>21</td>\n",
              "      <td>294</td>\n",
              "    </tr>\n",
              "    <tr>\n",
              "      <th>CY</th>\n",
              "      <td>5</td>\n",
              "      <td>10</td>\n",
              "      <td>130</td>\n",
              "    </tr>\n",
              "    <tr>\n",
              "      <th>CZ</th>\n",
              "      <td>10</td>\n",
              "      <td>12</td>\n",
              "      <td>254</td>\n",
              "    </tr>\n",
              "    <tr>\n",
              "      <th>DE</th>\n",
              "      <td>12</td>\n",
              "      <td>20</td>\n",
              "      <td>303</td>\n",
              "    </tr>\n",
              "    <tr>\n",
              "      <th>DK</th>\n",
              "      <td>3</td>\n",
              "      <td>5</td>\n",
              "      <td>66</td>\n",
              "    </tr>\n",
              "    <tr>\n",
              "      <th>EE</th>\n",
              "      <td>1</td>\n",
              "      <td>1</td>\n",
              "      <td>26</td>\n",
              "    </tr>\n",
              "    <tr>\n",
              "      <th>ES</th>\n",
              "      <td>19</td>\n",
              "      <td>25</td>\n",
              "      <td>723</td>\n",
              "    </tr>\n",
              "    <tr>\n",
              "      <th>FI</th>\n",
              "      <td>3</td>\n",
              "      <td>1</td>\n",
              "      <td>28</td>\n",
              "    </tr>\n",
              "    <tr>\n",
              "      <th>FR</th>\n",
              "      <td>67</td>\n",
              "      <td>84</td>\n",
              "      <td>1472</td>\n",
              "    </tr>\n",
              "    <tr>\n",
              "      <th>GB</th>\n",
              "      <td>107</td>\n",
              "      <td>293</td>\n",
              "      <td>4469</td>\n",
              "    </tr>\n",
              "    <tr>\n",
              "      <th>GG</th>\n",
              "      <td>5</td>\n",
              "      <td>0</td>\n",
              "      <td>9</td>\n",
              "    </tr>\n",
              "    <tr>\n",
              "      <th>GI</th>\n",
              "      <td>1</td>\n",
              "      <td>3</td>\n",
              "      <td>31</td>\n",
              "    </tr>\n",
              "    <tr>\n",
              "      <th>GP</th>\n",
              "      <td>2</td>\n",
              "      <td>0</td>\n",
              "      <td>7</td>\n",
              "    </tr>\n",
              "    <tr>\n",
              "      <th>GR</th>\n",
              "      <td>2</td>\n",
              "      <td>7</td>\n",
              "      <td>151</td>\n",
              "    </tr>\n",
              "    <tr>\n",
              "      <th>HR</th>\n",
              "      <td>3</td>\n",
              "      <td>2</td>\n",
              "      <td>40</td>\n",
              "    </tr>\n",
              "    <tr>\n",
              "      <th>HU</th>\n",
              "      <td>5</td>\n",
              "      <td>3</td>\n",
              "      <td>112</td>\n",
              "    </tr>\n",
              "    <tr>\n",
              "      <th>IE</th>\n",
              "      <td>25</td>\n",
              "      <td>39</td>\n",
              "      <td>916</td>\n",
              "    </tr>\n",
              "    <tr>\n",
              "      <th>IM</th>\n",
              "      <td>0</td>\n",
              "      <td>1</td>\n",
              "      <td>6</td>\n",
              "    </tr>\n",
              "    <tr>\n",
              "      <th>IS</th>\n",
              "      <td>0</td>\n",
              "      <td>0</td>\n",
              "      <td>6</td>\n",
              "    </tr>\n",
              "    <tr>\n",
              "      <th>IT</th>\n",
              "      <td>9</td>\n",
              "      <td>16</td>\n",
              "      <td>206</td>\n",
              "    </tr>\n",
              "    <tr>\n",
              "      <th>JE</th>\n",
              "      <td>4</td>\n",
              "      <td>2</td>\n",
              "      <td>38</td>\n",
              "    </tr>\n",
              "    <tr>\n",
              "      <th>LI</th>\n",
              "      <td>0</td>\n",
              "      <td>0</td>\n",
              "      <td>4</td>\n",
              "    </tr>\n",
              "    <tr>\n",
              "      <th>LT</th>\n",
              "      <td>6</td>\n",
              "      <td>9</td>\n",
              "      <td>491</td>\n",
              "    </tr>\n",
              "    <tr>\n",
              "      <th>LU</th>\n",
              "      <td>2</td>\n",
              "      <td>2</td>\n",
              "      <td>16</td>\n",
              "    </tr>\n",
              "    <tr>\n",
              "      <th>LV</th>\n",
              "      <td>4</td>\n",
              "      <td>8</td>\n",
              "      <td>109</td>\n",
              "    </tr>\n",
              "    <tr>\n",
              "      <th>MQ</th>\n",
              "      <td>0</td>\n",
              "      <td>1</td>\n",
              "      <td>2</td>\n",
              "    </tr>\n",
              "    <tr>\n",
              "      <th>MT</th>\n",
              "      <td>12</td>\n",
              "      <td>15</td>\n",
              "      <td>408</td>\n",
              "    </tr>\n",
              "    <tr>\n",
              "      <th>NL</th>\n",
              "      <td>3</td>\n",
              "      <td>5</td>\n",
              "      <td>115</td>\n",
              "    </tr>\n",
              "    <tr>\n",
              "      <th>NO</th>\n",
              "      <td>9</td>\n",
              "      <td>4</td>\n",
              "      <td>59</td>\n",
              "    </tr>\n",
              "    <tr>\n",
              "      <th>PL</th>\n",
              "      <td>28</td>\n",
              "      <td>34</td>\n",
              "      <td>1737</td>\n",
              "    </tr>\n",
              "    <tr>\n",
              "      <th>PT</th>\n",
              "      <td>9</td>\n",
              "      <td>8</td>\n",
              "      <td>453</td>\n",
              "    </tr>\n",
              "    <tr>\n",
              "      <th>RE</th>\n",
              "      <td>1</td>\n",
              "      <td>1</td>\n",
              "      <td>5</td>\n",
              "    </tr>\n",
              "    <tr>\n",
              "      <th>RO</th>\n",
              "      <td>41</td>\n",
              "      <td>59</td>\n",
              "      <td>738</td>\n",
              "    </tr>\n",
              "    <tr>\n",
              "      <th>SE</th>\n",
              "      <td>6</td>\n",
              "      <td>9</td>\n",
              "      <td>84</td>\n",
              "    </tr>\n",
              "    <tr>\n",
              "      <th>SI</th>\n",
              "      <td>3</td>\n",
              "      <td>1</td>\n",
              "      <td>65</td>\n",
              "    </tr>\n",
              "    <tr>\n",
              "      <th>SK</th>\n",
              "      <td>1</td>\n",
              "      <td>4</td>\n",
              "      <td>57</td>\n",
              "    </tr>\n",
              "  </tbody>\n",
              "</table>\n",
              "</div>"
            ],
            "text/plain": [
              "plan     GOLD  SILVER  STANDARD\n",
              "country                        \n",
              "AT          2       2        60\n",
              "AU          0       0         3\n",
              "BE          1       5        99\n",
              "BG          1       1        70\n",
              "CH         25      21       294\n",
              "CY          5      10       130\n",
              "CZ         10      12       254\n",
              "DE         12      20       303\n",
              "DK          3       5        66\n",
              "EE          1       1        26\n",
              "ES         19      25       723\n",
              "FI          3       1        28\n",
              "FR         67      84      1472\n",
              "GB        107     293      4469\n",
              "GG          5       0         9\n",
              "GI          1       3        31\n",
              "GP          2       0         7\n",
              "GR          2       7       151\n",
              "HR          3       2        40\n",
              "HU          5       3       112\n",
              "IE         25      39       916\n",
              "IM          0       1         6\n",
              "IS          0       0         6\n",
              "IT          9      16       206\n",
              "JE          4       2        38\n",
              "LI          0       0         4\n",
              "LT          6       9       491\n",
              "LU          2       2        16\n",
              "LV          4       8       109\n",
              "MQ          0       1         2\n",
              "MT         12      15       408\n",
              "NL          3       5       115\n",
              "NO          9       4        59\n",
              "PL         28      34      1737\n",
              "PT          9       8       453\n",
              "RE          1       1         5\n",
              "RO         41      59       738\n",
              "SE          6       9        84\n",
              "SI          3       1        65\n",
              "SK          1       4        57"
            ]
          },
          "metadata": {
            "tags": []
          },
          "execution_count": 78
        }
      ]
    },
    {
      "cell_type": "code",
      "metadata": {
        "id": "DiGQQoYW3fzZ",
        "colab_type": "code",
        "colab": {
          "base_uri": "https://localhost:8080/",
          "height": 142
        },
        "outputId": "5a1c9967-d6e4-4403-ec82-41230555e5a1"
      },
      "source": [
        "pd.crosstab(index=result['user_settings_crypto_unlocked'], columns=result['plan'])"
      ],
      "execution_count": 79,
      "outputs": [
        {
          "output_type": "execute_result",
          "data": {
            "text/html": [
              "<div>\n",
              "<style scoped>\n",
              "    .dataframe tbody tr th:only-of-type {\n",
              "        vertical-align: middle;\n",
              "    }\n",
              "\n",
              "    .dataframe tbody tr th {\n",
              "        vertical-align: top;\n",
              "    }\n",
              "\n",
              "    .dataframe thead th {\n",
              "        text-align: right;\n",
              "    }\n",
              "</style>\n",
              "<table border=\"1\" class=\"dataframe\">\n",
              "  <thead>\n",
              "    <tr style=\"text-align: right;\">\n",
              "      <th>plan</th>\n",
              "      <th>GOLD</th>\n",
              "      <th>SILVER</th>\n",
              "      <th>STANDARD</th>\n",
              "    </tr>\n",
              "    <tr>\n",
              "      <th>user_settings_crypto_unlocked</th>\n",
              "      <th></th>\n",
              "      <th></th>\n",
              "      <th></th>\n",
              "    </tr>\n",
              "  </thead>\n",
              "  <tbody>\n",
              "    <tr>\n",
              "      <th>0</th>\n",
              "      <td>177</td>\n",
              "      <td>377</td>\n",
              "      <td>11653</td>\n",
              "    </tr>\n",
              "    <tr>\n",
              "      <th>1</th>\n",
              "      <td>260</td>\n",
              "      <td>336</td>\n",
              "      <td>2209</td>\n",
              "    </tr>\n",
              "  </tbody>\n",
              "</table>\n",
              "</div>"
            ],
            "text/plain": [
              "plan                           GOLD  SILVER  STANDARD\n",
              "user_settings_crypto_unlocked                        \n",
              "0                               177     377     11653\n",
              "1                               260     336      2209"
            ]
          },
          "metadata": {
            "tags": []
          },
          "execution_count": 79
        }
      ]
    },
    {
      "cell_type": "code",
      "metadata": {
        "id": "EjGW1rub3qCR",
        "colab_type": "code",
        "colab": {}
      },
      "source": [
        ""
      ],
      "execution_count": 0,
      "outputs": []
    },
    {
      "cell_type": "markdown",
      "metadata": {
        "id": "mXRj16Se13i_",
        "colab_type": "text"
      },
      "source": [
        "##Εδώ έχω χάσει 542 σειρές που δεν έκαναν καμία συναλλαγή ή που δεν επιχείρησαν να κάνουν κάποια συναλλαγή"
      ]
    },
    {
      "cell_type": "code",
      "metadata": {
        "id": "DuRJrG3R3NMQ",
        "colab_type": "code",
        "colab": {
          "base_uri": "https://localhost:8080/",
          "height": 1000
        },
        "outputId": "cb0ff440-e499-4b4a-891a-a425cc436b48"
      },
      "source": [
        "pd.crosstab(index=result['country'], columns=result['plan'])"
      ],
      "execution_count": 80,
      "outputs": [
        {
          "output_type": "execute_result",
          "data": {
            "text/html": [
              "<div>\n",
              "<style scoped>\n",
              "    .dataframe tbody tr th:only-of-type {\n",
              "        vertical-align: middle;\n",
              "    }\n",
              "\n",
              "    .dataframe tbody tr th {\n",
              "        vertical-align: top;\n",
              "    }\n",
              "\n",
              "    .dataframe thead th {\n",
              "        text-align: right;\n",
              "    }\n",
              "</style>\n",
              "<table border=\"1\" class=\"dataframe\">\n",
              "  <thead>\n",
              "    <tr style=\"text-align: right;\">\n",
              "      <th>plan</th>\n",
              "      <th>GOLD</th>\n",
              "      <th>SILVER</th>\n",
              "      <th>STANDARD</th>\n",
              "    </tr>\n",
              "    <tr>\n",
              "      <th>country</th>\n",
              "      <th></th>\n",
              "      <th></th>\n",
              "      <th></th>\n",
              "    </tr>\n",
              "  </thead>\n",
              "  <tbody>\n",
              "    <tr>\n",
              "      <th>AT</th>\n",
              "      <td>2</td>\n",
              "      <td>2</td>\n",
              "      <td>60</td>\n",
              "    </tr>\n",
              "    <tr>\n",
              "      <th>AU</th>\n",
              "      <td>0</td>\n",
              "      <td>0</td>\n",
              "      <td>3</td>\n",
              "    </tr>\n",
              "    <tr>\n",
              "      <th>BE</th>\n",
              "      <td>1</td>\n",
              "      <td>5</td>\n",
              "      <td>99</td>\n",
              "    </tr>\n",
              "    <tr>\n",
              "      <th>BG</th>\n",
              "      <td>1</td>\n",
              "      <td>1</td>\n",
              "      <td>70</td>\n",
              "    </tr>\n",
              "    <tr>\n",
              "      <th>CH</th>\n",
              "      <td>25</td>\n",
              "      <td>21</td>\n",
              "      <td>294</td>\n",
              "    </tr>\n",
              "    <tr>\n",
              "      <th>CY</th>\n",
              "      <td>5</td>\n",
              "      <td>10</td>\n",
              "      <td>130</td>\n",
              "    </tr>\n",
              "    <tr>\n",
              "      <th>CZ</th>\n",
              "      <td>10</td>\n",
              "      <td>12</td>\n",
              "      <td>254</td>\n",
              "    </tr>\n",
              "    <tr>\n",
              "      <th>DE</th>\n",
              "      <td>12</td>\n",
              "      <td>20</td>\n",
              "      <td>303</td>\n",
              "    </tr>\n",
              "    <tr>\n",
              "      <th>DK</th>\n",
              "      <td>3</td>\n",
              "      <td>5</td>\n",
              "      <td>66</td>\n",
              "    </tr>\n",
              "    <tr>\n",
              "      <th>EE</th>\n",
              "      <td>1</td>\n",
              "      <td>1</td>\n",
              "      <td>26</td>\n",
              "    </tr>\n",
              "    <tr>\n",
              "      <th>ES</th>\n",
              "      <td>19</td>\n",
              "      <td>25</td>\n",
              "      <td>723</td>\n",
              "    </tr>\n",
              "    <tr>\n",
              "      <th>FI</th>\n",
              "      <td>3</td>\n",
              "      <td>1</td>\n",
              "      <td>28</td>\n",
              "    </tr>\n",
              "    <tr>\n",
              "      <th>FR</th>\n",
              "      <td>67</td>\n",
              "      <td>84</td>\n",
              "      <td>1472</td>\n",
              "    </tr>\n",
              "    <tr>\n",
              "      <th>GB</th>\n",
              "      <td>107</td>\n",
              "      <td>293</td>\n",
              "      <td>4469</td>\n",
              "    </tr>\n",
              "    <tr>\n",
              "      <th>GG</th>\n",
              "      <td>5</td>\n",
              "      <td>0</td>\n",
              "      <td>9</td>\n",
              "    </tr>\n",
              "    <tr>\n",
              "      <th>GI</th>\n",
              "      <td>1</td>\n",
              "      <td>3</td>\n",
              "      <td>31</td>\n",
              "    </tr>\n",
              "    <tr>\n",
              "      <th>GP</th>\n",
              "      <td>2</td>\n",
              "      <td>0</td>\n",
              "      <td>7</td>\n",
              "    </tr>\n",
              "    <tr>\n",
              "      <th>GR</th>\n",
              "      <td>2</td>\n",
              "      <td>7</td>\n",
              "      <td>151</td>\n",
              "    </tr>\n",
              "    <tr>\n",
              "      <th>HR</th>\n",
              "      <td>3</td>\n",
              "      <td>2</td>\n",
              "      <td>40</td>\n",
              "    </tr>\n",
              "    <tr>\n",
              "      <th>HU</th>\n",
              "      <td>5</td>\n",
              "      <td>3</td>\n",
              "      <td>112</td>\n",
              "    </tr>\n",
              "    <tr>\n",
              "      <th>IE</th>\n",
              "      <td>25</td>\n",
              "      <td>39</td>\n",
              "      <td>916</td>\n",
              "    </tr>\n",
              "    <tr>\n",
              "      <th>IM</th>\n",
              "      <td>0</td>\n",
              "      <td>1</td>\n",
              "      <td>6</td>\n",
              "    </tr>\n",
              "    <tr>\n",
              "      <th>IS</th>\n",
              "      <td>0</td>\n",
              "      <td>0</td>\n",
              "      <td>6</td>\n",
              "    </tr>\n",
              "    <tr>\n",
              "      <th>IT</th>\n",
              "      <td>9</td>\n",
              "      <td>16</td>\n",
              "      <td>206</td>\n",
              "    </tr>\n",
              "    <tr>\n",
              "      <th>JE</th>\n",
              "      <td>4</td>\n",
              "      <td>2</td>\n",
              "      <td>38</td>\n",
              "    </tr>\n",
              "    <tr>\n",
              "      <th>LI</th>\n",
              "      <td>0</td>\n",
              "      <td>0</td>\n",
              "      <td>4</td>\n",
              "    </tr>\n",
              "    <tr>\n",
              "      <th>LT</th>\n",
              "      <td>6</td>\n",
              "      <td>9</td>\n",
              "      <td>491</td>\n",
              "    </tr>\n",
              "    <tr>\n",
              "      <th>LU</th>\n",
              "      <td>2</td>\n",
              "      <td>2</td>\n",
              "      <td>16</td>\n",
              "    </tr>\n",
              "    <tr>\n",
              "      <th>LV</th>\n",
              "      <td>4</td>\n",
              "      <td>8</td>\n",
              "      <td>109</td>\n",
              "    </tr>\n",
              "    <tr>\n",
              "      <th>MQ</th>\n",
              "      <td>0</td>\n",
              "      <td>1</td>\n",
              "      <td>2</td>\n",
              "    </tr>\n",
              "    <tr>\n",
              "      <th>MT</th>\n",
              "      <td>12</td>\n",
              "      <td>15</td>\n",
              "      <td>408</td>\n",
              "    </tr>\n",
              "    <tr>\n",
              "      <th>NL</th>\n",
              "      <td>3</td>\n",
              "      <td>5</td>\n",
              "      <td>115</td>\n",
              "    </tr>\n",
              "    <tr>\n",
              "      <th>NO</th>\n",
              "      <td>9</td>\n",
              "      <td>4</td>\n",
              "      <td>59</td>\n",
              "    </tr>\n",
              "    <tr>\n",
              "      <th>PL</th>\n",
              "      <td>28</td>\n",
              "      <td>34</td>\n",
              "      <td>1737</td>\n",
              "    </tr>\n",
              "    <tr>\n",
              "      <th>PT</th>\n",
              "      <td>9</td>\n",
              "      <td>8</td>\n",
              "      <td>453</td>\n",
              "    </tr>\n",
              "    <tr>\n",
              "      <th>RE</th>\n",
              "      <td>1</td>\n",
              "      <td>1</td>\n",
              "      <td>5</td>\n",
              "    </tr>\n",
              "    <tr>\n",
              "      <th>RO</th>\n",
              "      <td>41</td>\n",
              "      <td>59</td>\n",
              "      <td>738</td>\n",
              "    </tr>\n",
              "    <tr>\n",
              "      <th>SE</th>\n",
              "      <td>6</td>\n",
              "      <td>9</td>\n",
              "      <td>84</td>\n",
              "    </tr>\n",
              "    <tr>\n",
              "      <th>SI</th>\n",
              "      <td>3</td>\n",
              "      <td>1</td>\n",
              "      <td>65</td>\n",
              "    </tr>\n",
              "    <tr>\n",
              "      <th>SK</th>\n",
              "      <td>1</td>\n",
              "      <td>4</td>\n",
              "      <td>57</td>\n",
              "    </tr>\n",
              "  </tbody>\n",
              "</table>\n",
              "</div>"
            ],
            "text/plain": [
              "plan     GOLD  SILVER  STANDARD\n",
              "country                        \n",
              "AT          2       2        60\n",
              "AU          0       0         3\n",
              "BE          1       5        99\n",
              "BG          1       1        70\n",
              "CH         25      21       294\n",
              "CY          5      10       130\n",
              "CZ         10      12       254\n",
              "DE         12      20       303\n",
              "DK          3       5        66\n",
              "EE          1       1        26\n",
              "ES         19      25       723\n",
              "FI          3       1        28\n",
              "FR         67      84      1472\n",
              "GB        107     293      4469\n",
              "GG          5       0         9\n",
              "GI          1       3        31\n",
              "GP          2       0         7\n",
              "GR          2       7       151\n",
              "HR          3       2        40\n",
              "HU          5       3       112\n",
              "IE         25      39       916\n",
              "IM          0       1         6\n",
              "IS          0       0         6\n",
              "IT          9      16       206\n",
              "JE          4       2        38\n",
              "LI          0       0         4\n",
              "LT          6       9       491\n",
              "LU          2       2        16\n",
              "LV          4       8       109\n",
              "MQ          0       1         2\n",
              "MT         12      15       408\n",
              "NL          3       5       115\n",
              "NO          9       4        59\n",
              "PL         28      34      1737\n",
              "PT          9       8       453\n",
              "RE          1       1         5\n",
              "RO         41      59       738\n",
              "SE          6       9        84\n",
              "SI          3       1        65\n",
              "SK          1       4        57"
            ]
          },
          "metadata": {
            "tags": []
          },
          "execution_count": 80
        }
      ]
    },
    {
      "cell_type": "code",
      "metadata": {
        "id": "V7KRfy-CAOn0",
        "colab_type": "code",
        "colab": {}
      },
      "source": [
        "dev = pd.read_csv('devices.csv') \n"
      ],
      "execution_count": 0,
      "outputs": []
    },
    {
      "cell_type": "code",
      "metadata": {
        "id": "9s3tpCup8amM",
        "colab_type": "code",
        "colab": {}
      },
      "source": [
        "result=result.merge(dev,on=\"user_id\").fillna(0)\n",
        "result.to_csv(\"result.csv\")\n",
        "\n"
      ],
      "execution_count": 0,
      "outputs": []
    },
    {
      "cell_type": "code",
      "metadata": {
        "id": "ARrlIXBKAKX0",
        "colab_type": "code",
        "colab": {
          "base_uri": "https://localhost:8080/",
          "height": 247
        },
        "outputId": "f5004749-4ecb-4f57-e4b3-45b2999923ac"
      },
      "source": [
        "result.head(3)"
      ],
      "execution_count": 83,
      "outputs": [
        {
          "output_type": "execute_result",
          "data": {
            "text/html": [
              "<div>\n",
              "<style scoped>\n",
              "    .dataframe tbody tr th:only-of-type {\n",
              "        vertical-align: middle;\n",
              "    }\n",
              "\n",
              "    .dataframe tbody tr th {\n",
              "        vertical-align: top;\n",
              "    }\n",
              "\n",
              "    .dataframe thead th {\n",
              "        text-align: right;\n",
              "    }\n",
              "</style>\n",
              "<table border=\"1\" class=\"dataframe\">\n",
              "  <thead>\n",
              "    <tr style=\"text-align: right;\">\n",
              "      <th></th>\n",
              "      <th>user_id</th>\n",
              "      <th>birth_year</th>\n",
              "      <th>country</th>\n",
              "      <th>city</th>\n",
              "      <th>created_date</th>\n",
              "      <th>user_settings_crypto_unlocked</th>\n",
              "      <th>plan</th>\n",
              "      <th>attributes_notifications_marketing_push</th>\n",
              "      <th>attributes_notifications_marketing_email</th>\n",
              "      <th>num_contacts</th>\n",
              "      <th>num_referrals</th>\n",
              "      <th>num_successful_referrals</th>\n",
              "      <th>sum of trans</th>\n",
              "      <th>number of trans</th>\n",
              "      <th>No of trans by 20</th>\n",
              "      <th>brand</th>\n",
              "    </tr>\n",
              "  </thead>\n",
              "  <tbody>\n",
              "    <tr>\n",
              "      <th>0</th>\n",
              "      <td>user_0</td>\n",
              "      <td>1992</td>\n",
              "      <td>ES</td>\n",
              "      <td>Madrid</td>\n",
              "      <td>2018-09-10 18:46:42.843855</td>\n",
              "      <td>0</td>\n",
              "      <td>STANDARD</td>\n",
              "      <td>1.0</td>\n",
              "      <td>1.0</td>\n",
              "      <td>3</td>\n",
              "      <td>0</td>\n",
              "      <td>0</td>\n",
              "      <td>7122.21</td>\n",
              "      <td>545.0</td>\n",
              "      <td>27.0</td>\n",
              "      <td>Apple</td>\n",
              "    </tr>\n",
              "    <tr>\n",
              "      <th>1</th>\n",
              "      <td>user_1</td>\n",
              "      <td>1985</td>\n",
              "      <td>LT</td>\n",
              "      <td>Klaipeda</td>\n",
              "      <td>2018-01-11 18:53:10.531146</td>\n",
              "      <td>1</td>\n",
              "      <td>STANDARD</td>\n",
              "      <td>0.0</td>\n",
              "      <td>0.0</td>\n",
              "      <td>75</td>\n",
              "      <td>0</td>\n",
              "      <td>0</td>\n",
              "      <td>14162.08</td>\n",
              "      <td>146.0</td>\n",
              "      <td>7.0</td>\n",
              "      <td>Apple</td>\n",
              "    </tr>\n",
              "    <tr>\n",
              "      <th>2</th>\n",
              "      <td>user_2</td>\n",
              "      <td>1996</td>\n",
              "      <td>IE</td>\n",
              "      <td>Carrickmacross</td>\n",
              "      <td>2018-11-29 17:29:16.879324</td>\n",
              "      <td>0</td>\n",
              "      <td>STANDARD</td>\n",
              "      <td>0.0</td>\n",
              "      <td>0.0</td>\n",
              "      <td>71</td>\n",
              "      <td>0</td>\n",
              "      <td>0</td>\n",
              "      <td>2983.40</td>\n",
              "      <td>282.0</td>\n",
              "      <td>14.0</td>\n",
              "      <td>Apple</td>\n",
              "    </tr>\n",
              "  </tbody>\n",
              "</table>\n",
              "</div>"
            ],
            "text/plain": [
              "  user_id  birth_year country  ... number of trans No of trans by 20  brand\n",
              "0  user_0        1992      ES  ...           545.0              27.0  Apple\n",
              "1  user_1        1985      LT  ...           146.0               7.0  Apple\n",
              "2  user_2        1996      IE  ...           282.0              14.0  Apple\n",
              "\n",
              "[3 rows x 16 columns]"
            ]
          },
          "metadata": {
            "tags": []
          },
          "execution_count": 83
        }
      ]
    },
    {
      "cell_type": "code",
      "metadata": {
        "id": "tLZ3lqJkMgf-",
        "colab_type": "code",
        "colab": {
          "base_uri": "https://localhost:8080/",
          "height": 136
        },
        "outputId": "969e2a70-fcf4-486d-f572-d15bfc39a72a"
      },
      "source": [
        "result.keys()"
      ],
      "execution_count": 109,
      "outputs": [
        {
          "output_type": "execute_result",
          "data": {
            "text/plain": [
              "Index(['user_id', 'birth_year', 'country', 'city', 'created_date',\n",
              "       'user_settings_crypto_unlocked', 'plan',\n",
              "       'attributes_notifications_marketing_push',\n",
              "       'attributes_notifications_marketing_email', 'num_contacts',\n",
              "       'num_referrals', 'num_successful_referrals', 'sum of trans',\n",
              "       'number of trans', 'No of trans by 20', 'brand'],\n",
              "      dtype='object')"
            ]
          },
          "metadata": {
            "tags": []
          },
          "execution_count": 109
        }
      ]
    },
    {
      "cell_type": "markdown",
      "metadata": {
        "id": "qWgH_jIxP41h",
        "colab_type": "text"
      },
      "source": [
        "##ΜΕΡΙΚΑ ΣΧΗΜΑΤΑ ΜΕΧΡΙ ΝΑ ΚΑΤΑΛΗΞΟΥΜΕ ΣΕ ΚΑΠΟΙΑ (ΒΑΡΙΟΜΟΥΝ ΚΑΙ ΕΙΠΑ ΝΑ ΠΑΙΞΩ ΛΙΓΟ)"
      ]
    },
    {
      "cell_type": "code",
      "metadata": {
        "id": "9Cvoetm0BLk8",
        "colab_type": "code",
        "colab": {
          "base_uri": "https://localhost:8080/",
          "height": 296
        },
        "outputId": "ad4deb33-d00a-4dfe-ead7-54b29746e63e"
      },
      "source": [
        "sns.boxplot(result['sum of trans']) \n",
        "\n"
      ],
      "execution_count": 84,
      "outputs": [
        {
          "output_type": "execute_result",
          "data": {
            "text/plain": [
              "<matplotlib.axes._subplots.AxesSubplot at 0x7ff80e8c3358>"
            ]
          },
          "metadata": {
            "tags": []
          },
          "execution_count": 84
        },
        {
          "output_type": "display_data",
          "data": {
            "image/png": "[encoded data removed]",
            "text/plain": [
              "<Figure size 432x288 with 1 Axes>"
            ]
          },
          "metadata": {
            "tags": [],
            "needs_background": "light"
          }
        }
      ]
    },
    {
      "cell_type": "code",
      "metadata": {
        "id": "-9p3HRYsBQ7C",
        "colab_type": "code",
        "colab": {
          "base_uri": "https://localhost:8080/",
          "height": 296
        },
        "outputId": "d0c58d26-1ea1-4e30-8c08-0dd6baf33417"
      },
      "source": [
        "sns.boxplot(result['No of trans by 20'])"
      ],
      "execution_count": 85,
      "outputs": [
        {
          "output_type": "execute_result",
          "data": {
            "text/plain": [
              "<matplotlib.axes._subplots.AxesSubplot at 0x7ff80e78ffd0>"
            ]
          },
          "metadata": {
            "tags": []
          },
          "execution_count": 85
        },
        {
          "output_type": "display_data",
          "data": {
            "image/png": "[encoded data removed]",
            "text/plain": [
              "<Figure size 432x288 with 1 Axes>"
            ]
          },
          "metadata": {
            "tags": [],
            "needs_background": "light"
          }
        }
      ]
    },
    {
      "cell_type": "code",
      "metadata": {
        "id": "PH5gXaeSAZs5",
        "colab_type": "code",
        "colab": {}
      },
      "source": [
        "from scipy.stats import pearsonr\n",
        "\n",
        "\n",
        "def corrfunc(x,y,ax=None,**kws):\n",
        "  r,_=pearsonr(x,y)\n",
        "  ax=ax or plt.gca()\n",
        "  rho='\\u03C1'\n",
        "  ax.annotate(f'{rho} = {r:.2f}', xy=(.1, .9), xycoords=ax.transAxes)"
      ],
      "execution_count": 0,
      "outputs": []
    },
    {
      "cell_type": "code",
      "metadata": {
        "id": "0GqTaBbMA9Qg",
        "colab_type": "code",
        "colab": {
          "base_uri": "https://localhost:8080/",
          "height": 1000
        },
        "outputId": "a0a9191f-d7f0-4a1f-a6e4-53a1029c2832"
      },
      "source": [
        "ax=sns.pairplot(result , hue = 'plan' )\n",
        "ax.map_lower(corrfunc)\n",
        "plt.show()"
      ],
      "execution_count": 224,
      "outputs": [
        {
          "output_type": "stream",
          "text": [
            "/usr/local/lib/python3.6/dist-packages/seaborn/distributions.py:283: UserWarning: Data must have variance to compute a kernel density estimate.\n",
            "  warnings.warn(msg, UserWarning)\n",
            "/usr/local/lib/python3.6/dist-packages/seaborn/distributions.py:283: UserWarning: Data must have variance to compute a kernel density estimate.\n",
            "  warnings.warn(msg, UserWarning)\n",
            "/usr/local/lib/python3.6/dist-packages/seaborn/distributions.py:283: UserWarning: Data must have variance to compute a kernel density estimate.\n",
            "  warnings.warn(msg, UserWarning)\n",
            "/usr/local/lib/python3.6/dist-packages/seaborn/distributions.py:283: UserWarning: Data must have variance to compute a kernel density estimate.\n",
            "  warnings.warn(msg, UserWarning)\n",
            "/usr/local/lib/python3.6/dist-packages/seaborn/distributions.py:283: UserWarning: Data must have variance to compute a kernel density estimate.\n",
            "  warnings.warn(msg, UserWarning)\n",
            "/usr/local/lib/python3.6/dist-packages/seaborn/distributions.py:283: UserWarning: Data must have variance to compute a kernel density estimate.\n",
            "  warnings.warn(msg, UserWarning)\n",
            "/usr/local/lib/python3.6/dist-packages/scipy/stats/stats.py:3508: PearsonRConstantInputWarning: An input array is constant; the correlation coefficent is not defined.\n",
            "  warnings.warn(PearsonRConstantInputWarning())\n"
          ],
          "name": "stderr"
        },
        {
          "output_type": "display_data",
          "data": {
            "image/png": "[encoded data removed]",
            "text/plain": [
              "<Figure size 1711x1620 with 90 Axes>"
            ]
          },
          "metadata": {
            "tags": [],
            "needs_background": "light"
          }
        }
      ]
    },
    {
      "cell_type": "code",
      "metadata": {
        "id": "az-4FT-qBCQw",
        "colab_type": "code",
        "colab": {
          "base_uri": "https://localhost:8080/",
          "height": 296
        },
        "outputId": "f2a212d6-7d8f-45f7-cc8a-4ddebb89b5b7"
      },
      "source": [
        "sns.barplot(x = 'plan' , y = 'No of trans by 20' , data = result  )"
      ],
      "execution_count": 89,
      "outputs": [
        {
          "output_type": "execute_result",
          "data": {
            "text/plain": [
              "<matplotlib.axes._subplots.AxesSubplot at 0x7ff804a4ed30>"
            ]
          },
          "metadata": {
            "tags": []
          },
          "execution_count": 89
        },
        {
          "output_type": "display_data",
          "data": {
            "image/png": "[encoded data removed]",
            "text/plain": [
              "<Figure size 432x288 with 1 Axes>"
            ]
          },
          "metadata": {
            "tags": [],
            "needs_background": "light"
          }
        }
      ]
    },
    {
      "cell_type": "code",
      "metadata": {
        "id": "u2cKLxkJFYNU",
        "colab_type": "code",
        "colab": {
          "base_uri": "https://localhost:8080/",
          "height": 307
        },
        "outputId": "ae2fc74b-15c9-454a-c29f-21dfd0b17935"
      },
      "source": [
        "sns.barplot(x = 'plan' , y = 'sum of trans' , data = result  )"
      ],
      "execution_count": 92,
      "outputs": [
        {
          "output_type": "execute_result",
          "data": {
            "text/plain": [
              "<matplotlib.axes._subplots.AxesSubplot at 0x7ff80468a780>"
            ]
          },
          "metadata": {
            "tags": []
          },
          "execution_count": 92
        },
        {
          "output_type": "display_data",
          "data": {
            "image/png": "[encoded data removed]",
            "text/plain": [
              "<Figure size 432x288 with 1 Axes>"
            ]
          },
          "metadata": {
            "tags": [],
            "needs_background": "light"
          }
        }
      ]
    },
    {
      "cell_type": "code",
      "metadata": {
        "id": "bErySqeLNa2x",
        "colab_type": "code",
        "colab": {
          "base_uri": "https://localhost:8080/",
          "height": 136
        },
        "outputId": "f6e6c245-0739-47ab-daf4-97e77bc5477b"
      },
      "source": [
        "result.keys()"
      ],
      "execution_count": 117,
      "outputs": [
        {
          "output_type": "execute_result",
          "data": {
            "text/plain": [
              "Index(['user_id', 'birth_year', 'country', 'city', 'created_date',\n",
              "       'user_settings_crypto_unlocked', 'plan',\n",
              "       'attributes_notifications_marketing_push',\n",
              "       'attributes_notifications_marketing_email', 'num_contacts',\n",
              "       'num_referrals', 'num_successful_referrals', 'sum of trans',\n",
              "       'number of trans', 'No of trans by 20', 'brand'],\n",
              "      dtype='object')"
            ]
          },
          "metadata": {
            "tags": []
          },
          "execution_count": 117
        }
      ]
    },
    {
      "cell_type": "code",
      "metadata": {
        "id": "j87UmilZJc94",
        "colab_type": "code",
        "colab": {
          "base_uri": "https://localhost:8080/",
          "height": 280
        },
        "outputId": "a1f78a98-4f0b-400d-847e-28c22eb726c8"
      },
      "source": [
        "ax = sns.violinplot(x=result[\"birth_year\"] )\n"
      ],
      "execution_count": 131,
      "outputs": [
        {
          "output_type": "display_data",
          "data": {
            "image/png": "[encoded data removed]",
            "text/plain": [
              "<Figure size 432x288 with 1 Axes>"
            ]
          },
          "metadata": {
            "tags": [],
            "needs_background": "light"
          }
        }
      ]
    },
    {
      "cell_type": "code",
      "metadata": {
        "id": "RS9K8OmeOZ6U",
        "colab_type": "code",
        "colab": {
          "base_uri": "https://localhost:8080/",
          "height": 279
        },
        "outputId": "4ba1a54b-b34e-4f9c-fa38-8b17847eb9df"
      },
      "source": [
        "ax = sns.violinplot(x=result[\"No of trans by 20\"])\n"
      ],
      "execution_count": 136,
      "outputs": [
        {
          "output_type": "display_data",
          "data": {
            "image/png": "[encoded data removed]",
            "text/plain": [
              "<Figure size 432x288 with 1 Axes>"
            ]
          },
          "metadata": {
            "tags": [],
            "needs_background": "light"
          }
        }
      ]
    },
    {
      "cell_type": "code",
      "metadata": {
        "id": "eAf12KtLOp0B",
        "colab_type": "code",
        "colab": {
          "base_uri": "https://localhost:8080/",
          "height": 280
        },
        "outputId": "80e382a0-ed4f-42d4-e7d8-7e733c3d4bc4"
      },
      "source": [
        "ax = sns.violinplot(x=result[\"num_contacts\"] , y = result['plan'])\n"
      ],
      "execution_count": 132,
      "outputs": [
        {
          "output_type": "display_data",
          "data": {
            "image/png": "[encoded data removed]",
            "text/plain": [
              "<Figure size 432x288 with 1 Axes>"
            ]
          },
          "metadata": {
            "tags": [],
            "needs_background": "light"
          }
        }
      ]
    },
    {
      "cell_type": "code",
      "metadata": {
        "id": "g8nNFziJOxiS",
        "colab_type": "code",
        "colab": {
          "base_uri": "https://localhost:8080/",
          "height": 280
        },
        "outputId": "42870493-3673-412c-c079-47d2484e7fa5"
      },
      "source": [
        "ax = sns.violinplot(x=result[\"birth_year\"] , y = result['plan'])\n"
      ],
      "execution_count": 137,
      "outputs": [
        {
          "output_type": "display_data",
          "data": {
            "image/png": "[encoded data removed]",
            "text/plain": [
              "<Figure size 432x288 with 1 Axes>"
            ]
          },
          "metadata": {
            "tags": [],
            "needs_background": "light"
          }
        }
      ]
    },
    {
      "cell_type": "code",
      "metadata": {
        "id": "8nIO7QBEPeNi",
        "colab_type": "code",
        "colab": {
          "base_uri": "https://localhost:8080/",
          "height": 279
        },
        "outputId": "5a29f040-bb11-4471-8d3e-7e16f82711b2"
      },
      "source": [
        "ax = sns.violinplot(x=result[\"No of trans by 20\"] , y = result['plan'])\n"
      ],
      "execution_count": 138,
      "outputs": [
        {
          "output_type": "display_data",
          "data": {
            "image/png": "[encoded data removed]",
            "text/plain": [
              "<Figure size 432x288 with 1 Axes>"
            ]
          },
          "metadata": {
            "tags": [],
            "needs_background": "light"
          }
        }
      ]
    },
    {
      "cell_type": "code",
      "metadata": {
        "id": "9l0zSjIfPnnX",
        "colab_type": "code",
        "colab": {}
      },
      "source": [
        ""
      ],
      "execution_count": 0,
      "outputs": []
    }
  ]
}