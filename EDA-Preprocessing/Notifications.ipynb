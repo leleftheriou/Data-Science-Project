{
 "cells": [
  {
   "cell_type": "code",
   "execution_count": 3,
   "metadata": {
    "colab": {},
    "colab_type": "code",
    "id": "_kvPtVntZP5n"
   },
   "outputs": [],
   "source": [
    "import pandas as pd\n",
    "import numpy as np\n",
    "import seaborn as sns\n",
    "import datetime\n",
    "import matplotlib.pyplot as plt\n",
    "%matplotlib inline"
   ]
  },
  {
   "cell_type": "code",
   "execution_count": 4,
   "metadata": {
    "colab": {},
    "colab_type": "code",
    "id": "pjvk3wYkX_1E"
   },
   "outputs": [
    {
     "data": {
      "text/plain": [
       "(97704, 5)"
      ]
     },
     "execution_count": 4,
     "metadata": {},
     "output_type": "execute_result"
    }
   ],
   "source": [
    "notif = pd.read_csv (\"C:/Users/Aliki/Desktop/PF Project/data/notifications.csv\")\n",
    "notif.shape"
   ]
  },
  {
   "cell_type": "code",
   "execution_count": 5,
   "metadata": {},
   "outputs": [
    {
     "name": "stdout",
     "output_type": "stream",
     "text": [
      "<class 'pandas.core.frame.DataFrame'>\n",
      "RangeIndex: 97704 entries, 0 to 97703\n",
      "Data columns (total 5 columns):\n",
      " #   Column        Non-Null Count  Dtype \n",
      "---  ------        --------------  ----- \n",
      " 0   reason        97704 non-null  object\n",
      " 1   channel       97704 non-null  object\n",
      " 2   status        97704 non-null  object\n",
      " 3   user_id       97704 non-null  object\n",
      " 4   created_date  97704 non-null  object\n",
      "dtypes: object(5)\n",
      "memory usage: 1.9+ MB\n"
     ]
    }
   ],
   "source": [
    "notif.info()"
   ]
  },
  {
   "cell_type": "code",
   "execution_count": 6,
   "metadata": {},
   "outputs": [
    {
     "data": {
      "text/html": [
       "<div>\n",
       "<style scoped>\n",
       "    .dataframe tbody tr th:only-of-type {\n",
       "        vertical-align: middle;\n",
       "    }\n",
       "\n",
       "    .dataframe tbody tr th {\n",
       "        vertical-align: top;\n",
       "    }\n",
       "\n",
       "    .dataframe thead th {\n",
       "        text-align: right;\n",
       "    }\n",
       "</style>\n",
       "<table border=\"1\" class=\"dataframe\">\n",
       "  <thead>\n",
       "    <tr style=\"text-align: right;\">\n",
       "      <th></th>\n",
       "      <th>reason</th>\n",
       "      <th>channel</th>\n",
       "      <th>status</th>\n",
       "      <th>user_id</th>\n",
       "      <th>created_date</th>\n",
       "    </tr>\n",
       "  </thead>\n",
       "  <tbody>\n",
       "    <tr>\n",
       "      <th>0</th>\n",
       "      <td>REENGAGEMENT_ACTIVE_FUNDS</td>\n",
       "      <td>PUSH</td>\n",
       "      <td>SENT</td>\n",
       "      <td>user_1252</td>\n",
       "      <td>2018-12-02 17:58:33.320645</td>\n",
       "    </tr>\n",
       "    <tr>\n",
       "      <th>1</th>\n",
       "      <td>REENGAGEMENT_ACTIVE_FUNDS</td>\n",
       "      <td>PUSH</td>\n",
       "      <td>SENT</td>\n",
       "      <td>user_12783</td>\n",
       "      <td>2018-12-01 23:09:37.367127</td>\n",
       "    </tr>\n",
       "    <tr>\n",
       "      <th>2</th>\n",
       "      <td>REENGAGEMENT_ACTIVE_FUNDS</td>\n",
       "      <td>PUSH</td>\n",
       "      <td>SENT</td>\n",
       "      <td>user_10244</td>\n",
       "      <td>2018-12-04 02:57:56.425660</td>\n",
       "    </tr>\n",
       "    <tr>\n",
       "      <th>3</th>\n",
       "      <td>REENGAGEMENT_ACTIVE_FUNDS</td>\n",
       "      <td>PUSH</td>\n",
       "      <td>SENT</td>\n",
       "      <td>user_14486</td>\n",
       "      <td>2018-12-14 17:09:58.900808</td>\n",
       "    </tr>\n",
       "    <tr>\n",
       "      <th>4</th>\n",
       "      <td>REENGAGEMENT_ACTIVE_FUNDS</td>\n",
       "      <td>PUSH</td>\n",
       "      <td>SENT</td>\n",
       "      <td>user_28</td>\n",
       "      <td>2018-12-11 12:42:59.718574</td>\n",
       "    </tr>\n",
       "  </tbody>\n",
       "</table>\n",
       "</div>"
      ],
      "text/plain": [
       "                      reason channel status     user_id  \\\n",
       "0  REENGAGEMENT_ACTIVE_FUNDS    PUSH   SENT   user_1252   \n",
       "1  REENGAGEMENT_ACTIVE_FUNDS    PUSH   SENT  user_12783   \n",
       "2  REENGAGEMENT_ACTIVE_FUNDS    PUSH   SENT  user_10244   \n",
       "3  REENGAGEMENT_ACTIVE_FUNDS    PUSH   SENT  user_14486   \n",
       "4  REENGAGEMENT_ACTIVE_FUNDS    PUSH   SENT     user_28   \n",
       "\n",
       "                 created_date  \n",
       "0  2018-12-02 17:58:33.320645  \n",
       "1  2018-12-01 23:09:37.367127  \n",
       "2  2018-12-04 02:57:56.425660  \n",
       "3  2018-12-14 17:09:58.900808  \n",
       "4  2018-12-11 12:42:59.718574  "
      ]
     },
     "execution_count": 6,
     "metadata": {},
     "output_type": "execute_result"
    }
   ],
   "source": [
    "notif.head()"
   ]
  },
  {
   "cell_type": "markdown",
   "metadata": {},
   "source": [
    " <li><b>reason</b> : σκοπός ειδοποίησης</li>\n",
    " \n",
    " <li><b>channel</b> : πώς ειδοποιήθηκε ο user (PUSH, SMS, EMAIL) </li>\n",
    " \n",
    " <li><b>status</b> : κατάσταση ειδοποίησης (SENT, FAILED)</li>\n",
    " \n",
    " <li><b>user_id</b> : ο user (15156) </li>\n",
    " \n",
    " <li><b>created_date</b> : πότε στάλθηκε η ειδοποίηση</li>"
   ]
  },
  {
   "cell_type": "code",
   "execution_count": null,
   "metadata": {},
   "outputs": [],
   "source": []
  },
  {
   "cell_type": "code",
   "execution_count": null,
   "metadata": {
    "colab": {
     "base_uri": "https://localhost:8080/",
     "height": 34
    },
    "colab_type": "code",
    "id": "l3VeKUnYybj_",
    "outputId": "763cc442-f291-41f5-aaf1-866e09dc7e5e"
   },
   "outputs": [],
   "source": [
    "# Finding the null values.\n",
    "print(notif.isnull().sum())# there are no nulls"
   ]
  },
  {
   "cell_type": "code",
   "execution_count": 7,
   "metadata": {},
   "outputs": [
    {
     "data": {
      "text/plain": [
       "([0, 1, 2], <a list of 3 Text major ticklabel objects>)"
      ]
     },
     "execution_count": 7,
     "metadata": {},
     "output_type": "execute_result"
    },
    {
     "data": {
      "image/png": "[encoded data removed]",
      "text/plain": [
       "<Figure size 430.125x360 with 1 Axes>"
      ]
     },
     "metadata": {
      "needs_background": "light"
     },
     "output_type": "display_data"
    }
   ],
   "source": [
    "## Draw the status of notification ('sent:1', 'failed:0') \n",
    "\n",
    "sns.relplot(x=\"channel\", y=\"reason\", hue=\"status\", data=notif)\n",
    "#g.set_xticklabels(rotation=30)\n",
    "plt.xticks(rotation=30)"
   ]
  },
  {
   "cell_type": "code",
   "execution_count": 8,
   "metadata": {},
   "outputs": [
    {
     "data": {
      "text/plain": [
       "<matplotlib.axes._subplots.AxesSubplot at 0x11864c70>"
      ]
     },
     "execution_count": 8,
     "metadata": {},
     "output_type": "execute_result"
    },
    {
     "data": {
      "image/png": "[encoded data removed]",
      "text/plain": [
       "<Figure size 432x288 with 1 Axes>"
      ]
     },
     "metadata": {
      "needs_background": "light"
     },
     "output_type": "display_data"
    }
   ],
   "source": [
    "#Create a bar that counts for each channel if it is Sent or failed\n",
    "sns.countplot('status',hue='channel',data=notif)"
   ]
  },
  {
   "cell_type": "code",
   "execution_count": null,
   "metadata": {},
   "outputs": [],
   "source": []
  },
  {
   "cell_type": "code",
   "execution_count": 41,
   "metadata": {},
   "outputs": [
    {
     "data": {
      "text/plain": [
       "<matplotlib.axes._subplots.AxesSubplot at 0x125aaaa8>"
      ]
     },
     "execution_count": 41,
     "metadata": {},
     "output_type": "execute_result"
    },
    {
     "data": {
      "image/png": "[encoded data removed]",
      "text/plain": [
       "<Figure size 432x288 with 1 Axes>"
      ]
     },
     "metadata": {
      "needs_background": "light"
     },
     "output_type": "display_data"
    }
   ],
   "source": [
    "sns.boxplot(notif['channel'])"
   ]
  },
  {
   "cell_type": "code",
   "execution_count": null,
   "metadata": {},
   "outputs": [],
   "source": []
  },
  {
   "cell_type": "markdown",
   "metadata": {},
   "source": [
    "### Status"
   ]
  },
  {
   "cell_type": "code",
   "execution_count": 5,
   "metadata": {
    "colab": {},
    "colab_type": "code",
    "id": "ZVWtcrHy3S5a"
   },
   "outputs": [
    {
     "data": {
      "text/plain": [
       "SENT      71693\n",
       "FAILED    26011\n",
       "Name: status, dtype: int64"
      ]
     },
     "execution_count": 5,
     "metadata": {},
     "output_type": "execute_result"
    }
   ],
   "source": [
    "notif['status'].value_counts()"
   ]
  },
  {
   "cell_type": "code",
   "execution_count": 6,
   "metadata": {
    "colab": {
     "base_uri": "https://localhost:8080/",
     "height": 119
    },
    "colab_type": "code",
    "id": "M8T5wspz3TEj",
    "outputId": "de2ff1c4-132e-4b01-ee9d-b67eb5713624"
   },
   "outputs": [
    {
     "data": {
      "text/plain": [
       "1    71693\n",
       "0    26011\n",
       "Name: status, dtype: int64"
      ]
     },
     "execution_count": 6,
     "metadata": {},
     "output_type": "execute_result"
    }
   ],
   "source": [
    "notif['status'].replace({'FAILED':0,'SENT':1},inplace=True) \n",
    "notif['status'].value_counts()"
   ]
  },
  {
   "cell_type": "markdown",
   "metadata": {
    "colab": {
     "base_uri": "https://localhost:8080/",
     "height": 119
    },
    "colab_type": "code",
    "id": "yjQ_SY483S8B",
    "outputId": "ccb8545a-a038-4f92-93ef-deaf2dc766e6"
   },
   "source": [
    "### Channel"
   ]
  },
  {
   "cell_type": "code",
   "execution_count": 10,
   "metadata": {},
   "outputs": [
    {
     "data": {
      "text/plain": [
       "EMAIL    49149\n",
       "PUSH     46244\n",
       "SMS       2311\n",
       "Name: channel, dtype: int64"
      ]
     },
     "execution_count": 10,
     "metadata": {},
     "output_type": "execute_result"
    }
   ],
   "source": [
    "notif['channel'].value_counts()"
   ]
  },
  {
   "cell_type": "code",
   "execution_count": 39,
   "metadata": {},
   "outputs": [
    {
     "data": {
      "text/plain": [
       "0    49149\n",
       "1    46244\n",
       "2     2311\n",
       "Name: channel, dtype: int64"
      ]
     },
     "execution_count": 39,
     "metadata": {},
     "output_type": "execute_result"
    }
   ],
   "source": [
    "notif['channel'].replace({'EMAIL':0,'PUSH':1,'SMS':2},inplace=True) \n",
    "notif['channel'].value_counts()"
   ]
  },
  {
   "cell_type": "markdown",
   "metadata": {},
   "source": [
    "### Reason"
   ]
  },
  {
   "cell_type": "code",
   "execution_count": 11,
   "metadata": {
    "scrolled": true
   },
   "outputs": [
    {
     "data": {
      "text/plain": [
       "REENGAGEMENT_ACTIVE_FUNDS            28832\n",
       "PROMO                                18987\n",
       "NO_INITIAL_CARD_ORDER                 9071\n",
       "NO_INITIAL_CARD_USE                   9035\n",
       "INVEST_IN_GOLD                        6649\n",
       "LOST_CARD_ORDER                       4941\n",
       "PROMO_CARD_ORDER                      4358\n",
       "JOINING_ANNIVERSARY                   3334\n",
       "MADE_MONEY_REQUEST_NOT_SPLIT_BILL     2851\n",
       "ONBOARDING_TIPS_ACTIVATED_USERS       2423\n",
       "ENGAGEMENT_SPLIT_BILL_RESTAURANT      1834\n",
       "BLACK_FRIDAY                          1681\n",
       "METAL_RESERVE_PLAN                     950\n",
       "SILVER_ENGAGEMENT_INACTIVE_CARD        896\n",
       "WELCOME_BACK                           779\n",
       "BLUE_TUESDAY                           555\n",
       "SILVER_ENGAGEMENT_FEES_SAVED           528\n",
       "Name: reason, dtype: int64"
      ]
     },
     "execution_count": 11,
     "metadata": {},
     "output_type": "execute_result"
    }
   ],
   "source": [
    "notif['reason'].value_counts()"
   ]
  },
  {
   "cell_type": "code",
   "execution_count": null,
   "metadata": {
    "colab": {
     "base_uri": "https://localhost:8080/",
     "height": 204
    },
    "colab_type": "code",
    "id": "FzM4cWKV5_DA",
    "outputId": "797556bb-db3d-4840-ec4d-9b7bca6976f3"
   },
   "outputs": [],
   "source": []
  },
  {
   "cell_type": "code",
   "execution_count": 43,
   "metadata": {},
   "outputs": [
    {
     "data": {
      "text/plain": [
       "Proposals        55418\n",
       "Card Services    27405\n",
       "General           8772\n",
       "Movements         4685\n",
       "Silver            1424\n",
       "Name: reason, dtype: int64"
      ]
     },
     "execution_count": 43,
     "metadata": {},
     "output_type": "execute_result"
    }
   ],
   "source": [
    "#reason_dict = {'JOINING_ANNIVERSARY': 'General','WELCOME_BACK': 'General','ONBOARDING_TIPS_ACTIVATED_USERS': 'General',\n",
    "#               'BLACK_FRIDAY': 'General','BLUE_TUESDAY': 'General',\n",
    "#              'LOST_CARD_ORDER': 'Card Services','PROMO_CARD_ORDER': 'Card Services',\n",
    "#               'NO_INITIAL_CARD_ORDER': 'Card Services','NO_INITIAL_CARD_USE': 'Card Services',\n",
    "#              'REENGAGEMENT_ACTIVE_FUNDS': 'Proposals','INVEST_IN_GOLD': 'Proposals',\n",
    "#               'METAL_RESERVE_PLAN': 'Proposals','PROMO': 'Proposals',\n",
    "#              'MADE_MONEY_REQUEST_NOT_SPLIT_BILL': 'Movements', 'ENGAGEMENT_SPLIT_BILL_RESTAURANT': 'Movements',\n",
    "#              'SILVER_ENGAGEMENT_INACTIVE_CARD': 'Silver', 'SILVER_ENGAGEMENT_FEES_SAVED': 'Silver'}\n",
    "\n",
    "#notif['reason'] = notif['reason'].map(reason_dict)\n",
    "#notif['reason'].value_counts()"
   ]
  },
  {
   "cell_type": "code",
   "execution_count": null,
   "metadata": {},
   "outputs": [],
   "source": []
  },
  {
   "cell_type": "code",
   "execution_count": 14,
   "metadata": {
    "colab": {
     "base_uri": "https://localhost:8080/",
     "height": 419
    },
    "colab_type": "code",
    "id": "8jVyssZYZNBL",
    "outputId": "c7561426-66b1-4c56-bb14-77717459059f"
   },
   "outputs": [
    {
     "data": {
      "text/plain": [
       "(28832, 5)"
      ]
     },
     "execution_count": 14,
     "metadata": {},
     "output_type": "execute_result"
    }
   ],
   "source": [
    "df_not = notif[notif.reason == 'REENGAGEMENT_ACTIVE_FUNDS']\n",
    "df_not.shape"
   ]
  },
  {
   "cell_type": "code",
   "execution_count": null,
   "metadata": {},
   "outputs": [],
   "source": []
  },
  {
   "cell_type": "code",
   "execution_count": 11,
   "metadata": {},
   "outputs": [
    {
     "data": {
      "text/html": [
       "<div>\n",
       "<style scoped>\n",
       "    .dataframe tbody tr th:only-of-type {\n",
       "        vertical-align: middle;\n",
       "    }\n",
       "\n",
       "    .dataframe tbody tr th {\n",
       "        vertical-align: top;\n",
       "    }\n",
       "\n",
       "    .dataframe thead th {\n",
       "        text-align: right;\n",
       "    }\n",
       "</style>\n",
       "<table border=\"1\" class=\"dataframe\">\n",
       "  <thead>\n",
       "    <tr style=\"text-align: right;\">\n",
       "      <th>channel</th>\n",
       "      <th>EMAIL</th>\n",
       "      <th>PUSH</th>\n",
       "      <th>SMS</th>\n",
       "    </tr>\n",
       "    <tr>\n",
       "      <th>reason</th>\n",
       "      <th></th>\n",
       "      <th></th>\n",
       "      <th></th>\n",
       "    </tr>\n",
       "  </thead>\n",
       "  <tbody>\n",
       "    <tr>\n",
       "      <th>BLACK_FRIDAY</th>\n",
       "      <td>0</td>\n",
       "      <td>1681</td>\n",
       "      <td>0</td>\n",
       "    </tr>\n",
       "    <tr>\n",
       "      <th>BLUE_TUESDAY</th>\n",
       "      <td>0</td>\n",
       "      <td>555</td>\n",
       "      <td>0</td>\n",
       "    </tr>\n",
       "    <tr>\n",
       "      <th>ENGAGEMENT_SPLIT_BILL_RESTAURANT</th>\n",
       "      <td>1834</td>\n",
       "      <td>0</td>\n",
       "      <td>0</td>\n",
       "    </tr>\n",
       "    <tr>\n",
       "      <th>INVEST_IN_GOLD</th>\n",
       "      <td>6649</td>\n",
       "      <td>0</td>\n",
       "      <td>0</td>\n",
       "    </tr>\n",
       "    <tr>\n",
       "      <th>JOINING_ANNIVERSARY</th>\n",
       "      <td>0</td>\n",
       "      <td>3334</td>\n",
       "      <td>0</td>\n",
       "    </tr>\n",
       "    <tr>\n",
       "      <th>LOST_CARD_ORDER</th>\n",
       "      <td>1888</td>\n",
       "      <td>3053</td>\n",
       "      <td>0</td>\n",
       "    </tr>\n",
       "    <tr>\n",
       "      <th>MADE_MONEY_REQUEST_NOT_SPLIT_BILL</th>\n",
       "      <td>2851</td>\n",
       "      <td>0</td>\n",
       "      <td>0</td>\n",
       "    </tr>\n",
       "    <tr>\n",
       "      <th>METAL_RESERVE_PLAN</th>\n",
       "      <td>0</td>\n",
       "      <td>346</td>\n",
       "      <td>604</td>\n",
       "    </tr>\n",
       "    <tr>\n",
       "      <th>NO_INITIAL_CARD_ORDER</th>\n",
       "      <td>9071</td>\n",
       "      <td>0</td>\n",
       "      <td>0</td>\n",
       "    </tr>\n",
       "    <tr>\n",
       "      <th>NO_INITIAL_CARD_USE</th>\n",
       "      <td>9035</td>\n",
       "      <td>0</td>\n",
       "      <td>0</td>\n",
       "    </tr>\n",
       "    <tr>\n",
       "      <th>ONBOARDING_TIPS_ACTIVATED_USERS</th>\n",
       "      <td>2423</td>\n",
       "      <td>0</td>\n",
       "      <td>0</td>\n",
       "    </tr>\n",
       "    <tr>\n",
       "      <th>PROMO</th>\n",
       "      <td>10261</td>\n",
       "      <td>8726</td>\n",
       "      <td>0</td>\n",
       "    </tr>\n",
       "    <tr>\n",
       "      <th>PROMO_CARD_ORDER</th>\n",
       "      <td>4358</td>\n",
       "      <td>0</td>\n",
       "      <td>0</td>\n",
       "    </tr>\n",
       "    <tr>\n",
       "      <th>REENGAGEMENT_ACTIVE_FUNDS</th>\n",
       "      <td>0</td>\n",
       "      <td>27125</td>\n",
       "      <td>1707</td>\n",
       "    </tr>\n",
       "    <tr>\n",
       "      <th>SILVER_ENGAGEMENT_FEES_SAVED</th>\n",
       "      <td>0</td>\n",
       "      <td>528</td>\n",
       "      <td>0</td>\n",
       "    </tr>\n",
       "    <tr>\n",
       "      <th>SILVER_ENGAGEMENT_INACTIVE_CARD</th>\n",
       "      <td>0</td>\n",
       "      <td>896</td>\n",
       "      <td>0</td>\n",
       "    </tr>\n",
       "    <tr>\n",
       "      <th>WELCOME_BACK</th>\n",
       "      <td>779</td>\n",
       "      <td>0</td>\n",
       "      <td>0</td>\n",
       "    </tr>\n",
       "  </tbody>\n",
       "</table>\n",
       "</div>"
      ],
      "text/plain": [
       "channel                            EMAIL   PUSH   SMS\n",
       "reason                                               \n",
       "BLACK_FRIDAY                           0   1681     0\n",
       "BLUE_TUESDAY                           0    555     0\n",
       "ENGAGEMENT_SPLIT_BILL_RESTAURANT    1834      0     0\n",
       "INVEST_IN_GOLD                      6649      0     0\n",
       "JOINING_ANNIVERSARY                    0   3334     0\n",
       "LOST_CARD_ORDER                     1888   3053     0\n",
       "MADE_MONEY_REQUEST_NOT_SPLIT_BILL   2851      0     0\n",
       "METAL_RESERVE_PLAN                     0    346   604\n",
       "NO_INITIAL_CARD_ORDER               9071      0     0\n",
       "NO_INITIAL_CARD_USE                 9035      0     0\n",
       "ONBOARDING_TIPS_ACTIVATED_USERS     2423      0     0\n",
       "PROMO                              10261   8726     0\n",
       "PROMO_CARD_ORDER                    4358      0     0\n",
       "REENGAGEMENT_ACTIVE_FUNDS              0  27125  1707\n",
       "SILVER_ENGAGEMENT_FEES_SAVED           0    528     0\n",
       "SILVER_ENGAGEMENT_INACTIVE_CARD        0    896     0\n",
       "WELCOME_BACK                         779      0     0"
      ]
     },
     "execution_count": 11,
     "metadata": {},
     "output_type": "execute_result"
    }
   ],
   "source": [
    "pd.crosstab(index=notif['reason'],columns=notif['channel'])"
   ]
  },
  {
   "cell_type": "code",
   "execution_count": 12,
   "metadata": {},
   "outputs": [
    {
     "data": {
      "text/html": [
       "<div>\n",
       "<style scoped>\n",
       "    .dataframe tbody tr th:only-of-type {\n",
       "        vertical-align: middle;\n",
       "    }\n",
       "\n",
       "    .dataframe tbody tr th {\n",
       "        vertical-align: top;\n",
       "    }\n",
       "\n",
       "    .dataframe thead th {\n",
       "        text-align: right;\n",
       "    }\n",
       "</style>\n",
       "<table border=\"1\" class=\"dataframe\">\n",
       "  <thead>\n",
       "    <tr style=\"text-align: right;\">\n",
       "      <th>status</th>\n",
       "      <th>FAILED</th>\n",
       "      <th>SENT</th>\n",
       "    </tr>\n",
       "    <tr>\n",
       "      <th>reason</th>\n",
       "      <th></th>\n",
       "      <th></th>\n",
       "    </tr>\n",
       "  </thead>\n",
       "  <tbody>\n",
       "    <tr>\n",
       "      <th>BLACK_FRIDAY</th>\n",
       "      <td>253</td>\n",
       "      <td>1428</td>\n",
       "    </tr>\n",
       "    <tr>\n",
       "      <th>BLUE_TUESDAY</th>\n",
       "      <td>129</td>\n",
       "      <td>426</td>\n",
       "    </tr>\n",
       "    <tr>\n",
       "      <th>ENGAGEMENT_SPLIT_BILL_RESTAURANT</th>\n",
       "      <td>555</td>\n",
       "      <td>1279</td>\n",
       "    </tr>\n",
       "    <tr>\n",
       "      <th>INVEST_IN_GOLD</th>\n",
       "      <td>1192</td>\n",
       "      <td>5457</td>\n",
       "    </tr>\n",
       "    <tr>\n",
       "      <th>JOINING_ANNIVERSARY</th>\n",
       "      <td>601</td>\n",
       "      <td>2733</td>\n",
       "    </tr>\n",
       "    <tr>\n",
       "      <th>LOST_CARD_ORDER</th>\n",
       "      <td>1516</td>\n",
       "      <td>3425</td>\n",
       "    </tr>\n",
       "    <tr>\n",
       "      <th>MADE_MONEY_REQUEST_NOT_SPLIT_BILL</th>\n",
       "      <td>1527</td>\n",
       "      <td>1324</td>\n",
       "    </tr>\n",
       "    <tr>\n",
       "      <th>METAL_RESERVE_PLAN</th>\n",
       "      <td>409</td>\n",
       "      <td>541</td>\n",
       "    </tr>\n",
       "    <tr>\n",
       "      <th>NO_INITIAL_CARD_ORDER</th>\n",
       "      <td>2240</td>\n",
       "      <td>6831</td>\n",
       "    </tr>\n",
       "    <tr>\n",
       "      <th>NO_INITIAL_CARD_USE</th>\n",
       "      <td>4629</td>\n",
       "      <td>4406</td>\n",
       "    </tr>\n",
       "    <tr>\n",
       "      <th>ONBOARDING_TIPS_ACTIVATED_USERS</th>\n",
       "      <td>280</td>\n",
       "      <td>2143</td>\n",
       "    </tr>\n",
       "    <tr>\n",
       "      <th>PROMO</th>\n",
       "      <td>5308</td>\n",
       "      <td>13679</td>\n",
       "    </tr>\n",
       "    <tr>\n",
       "      <th>PROMO_CARD_ORDER</th>\n",
       "      <td>673</td>\n",
       "      <td>3685</td>\n",
       "    </tr>\n",
       "    <tr>\n",
       "      <th>REENGAGEMENT_ACTIVE_FUNDS</th>\n",
       "      <td>6290</td>\n",
       "      <td>22542</td>\n",
       "    </tr>\n",
       "    <tr>\n",
       "      <th>SILVER_ENGAGEMENT_FEES_SAVED</th>\n",
       "      <td>103</td>\n",
       "      <td>425</td>\n",
       "    </tr>\n",
       "    <tr>\n",
       "      <th>SILVER_ENGAGEMENT_INACTIVE_CARD</th>\n",
       "      <td>109</td>\n",
       "      <td>787</td>\n",
       "    </tr>\n",
       "    <tr>\n",
       "      <th>WELCOME_BACK</th>\n",
       "      <td>197</td>\n",
       "      <td>582</td>\n",
       "    </tr>\n",
       "  </tbody>\n",
       "</table>\n",
       "</div>"
      ],
      "text/plain": [
       "status                             FAILED   SENT\n",
       "reason                                          \n",
       "BLACK_FRIDAY                          253   1428\n",
       "BLUE_TUESDAY                          129    426\n",
       "ENGAGEMENT_SPLIT_BILL_RESTAURANT      555   1279\n",
       "INVEST_IN_GOLD                       1192   5457\n",
       "JOINING_ANNIVERSARY                   601   2733\n",
       "LOST_CARD_ORDER                      1516   3425\n",
       "MADE_MONEY_REQUEST_NOT_SPLIT_BILL    1527   1324\n",
       "METAL_RESERVE_PLAN                    409    541\n",
       "NO_INITIAL_CARD_ORDER                2240   6831\n",
       "NO_INITIAL_CARD_USE                  4629   4406\n",
       "ONBOARDING_TIPS_ACTIVATED_USERS       280   2143\n",
       "PROMO                                5308  13679\n",
       "PROMO_CARD_ORDER                      673   3685\n",
       "REENGAGEMENT_ACTIVE_FUNDS            6290  22542\n",
       "SILVER_ENGAGEMENT_FEES_SAVED          103    425\n",
       "SILVER_ENGAGEMENT_INACTIVE_CARD       109    787\n",
       "WELCOME_BACK                          197    582"
      ]
     },
     "execution_count": 12,
     "metadata": {},
     "output_type": "execute_result"
    }
   ],
   "source": [
    "pd.crosstab(index=notif['reason'],columns=notif['status'])"
   ]
  },
  {
   "cell_type": "code",
   "execution_count": null,
   "metadata": {},
   "outputs": [],
   "source": []
  },
  {
   "cell_type": "code",
   "execution_count": null,
   "metadata": {},
   "outputs": [],
   "source": []
  },
  {
   "cell_type": "code",
   "execution_count": null,
   "metadata": {},
   "outputs": [],
   "source": []
  },
  {
   "cell_type": "code",
   "execution_count": null,
   "metadata": {
    "colab": {},
    "colab_type": "code",
    "id": "aw_hvtllBFmV"
   },
   "outputs": [],
   "source": [
    "#notifications = cat_not.drop(cat_not.columns[[3,4]], axis=1)"
   ]
  },
  {
   "cell_type": "code",
   "execution_count": null,
   "metadata": {
    "colab": {},
    "colab_type": "code",
    "id": "X4uDgtRjkVv-"
   },
   "outputs": [],
   "source": [
    "#remove underscore from REASON\n",
    "\n",
    "def remove_underscore (text):\n",
    "  text= text.replace('_', ' ')\n",
    "  return text\n",
    "notif.reason = notif.reason.apply(remove_underscore)\n",
    "\n"
   ]
  },
  {
   "cell_type": "code",
   "execution_count": null,
   "metadata": {
    "colab": {
     "base_uri": "https://localhost:8080/",
     "height": 845
    },
    "colab_type": "code",
    "id": "7-jAyTULQES9",
    "outputId": "fcbd7ec2-7b1e-4c47-d488-17bd06704912"
   },
   "outputs": [],
   "source": [
    "sns.set(color_codes=True)\n",
    "\n",
    "for col in notif:\n",
    "    plt.figure(figsize=(10,4))\n",
    "    sns.barplot(notif[col].value_counts().values, notif[col].value_counts().index)\n",
    "    plt.title(col)\n",
    "    plt.tight_layout()"
   ]
  },
  {
   "cell_type": "code",
   "execution_count": null,
   "metadata": {
    "colab": {
     "base_uri": "https://localhost:8080/",
     "height": 845
    },
    "colab_type": "code",
    "id": "Ni3dTbO4QJev",
    "outputId": "55d4d0d3-8f7a-40e6-919e-ca0f208c2240"
   },
   "outputs": [],
   "source": [
    "for col in notif:\n",
    "    plt.figure(figsize=(10,4))\n",
    "    #The value_counts() function is used to get a Series containing counts of unique values.\n",
    "    sent_counts = notif.loc[notif.status.values == 'SENT', col].value_counts() \n",
    "    failed_counts = notif.loc[notif.status.values == 'FAILED', col].value_counts()\n",
    "    \n",
    "    all_counts = list(set(list(sent_counts.index) + list(failed_counts.index)))\n",
    "    \n",
    "    #poses fores emfanizetai to send failed\n",
    "    freq_sent = (notif.status.values == 'SENT').sum()\n",
    "    freq_failed = (notif.status.values == 'FAILED').sum()\n",
    "    \n",
    "    sent_counts = sent_counts.to_dict()\n",
    "    failed_counts = failed_counts.to_dict()\n",
    "    \n",
    "    all_index = list(all_counts)\n",
    "    all_counts = [sent_counts.get(k, 0) / freq_sent - failed_counts.get(k, 0) / freq_failed for k in all_counts]\n",
    "\n",
    "    sns.barplot(all_counts, all_index)\n",
    "    plt.title(col)\n",
    "    plt.tight_layout()\n",
    "    "
   ]
  },
  {
   "cell_type": "markdown",
   "metadata": {
    "colab_type": "text",
    "id": "Kx107O1XB-nB"
   },
   "source": []
  },
  {
   "cell_type": "markdown",
   "metadata": {
    "colab_type": "text",
    "id": "olgSjz8L7pHt"
   },
   "source": [
    "**Unique values Reason**\n",
    "\n",
    "(general)\n",
    "JOINING ANNIVERSARY,\n",
    "WELCOME_BACK,\n",
    "ONBOARDING TIPS ACTIVATED USERS,\n",
    "BLACK FRIDAY,\n",
    "BLUE TUESDAY\n",
    "\n",
    "(Card services)\n",
    "LOST CARD ORDER ,                      \n",
    "PROMO CARD ORDER,                      \n",
    "NO INITIAL CARD ORDER,            \n",
    "NO INITIAL CARD USE\n",
    "\n",
    "(proposal)                  \n",
    "REENGAGEMENT ACTIVE FUNDS,\n",
    "INVEST IN GOLD,\n",
    "METAL RESERVE PLAN,\n",
    "PROMO\n",
    "\n",
    "(movements)\n",
    "MADE MONEY REQUEST NOT SPLIT BILL,     \n",
    "ENGAGEMENT SPLIT BILL RESTAURANT      \n",
    "                            \n",
    "(silver)\n",
    "SILVER ENGAGEMENT INACTIVE CARD,        \n",
    "SILVER ENGAGEMENT FEES SAVED\n"
   ]
  },
  {
   "cell_type": "code",
   "execution_count": null,
   "metadata": {
    "colab": {},
    "colab_type": "code",
    "id": "8TDHUwy2B4xi"
   },
   "outputs": [],
   "source": []
  },
  {
   "cell_type": "code",
   "execution_count": null,
   "metadata": {
    "colab": {},
    "colab_type": "code",
    "id": "1cJyB-GgB44_"
   },
   "outputs": [],
   "source": []
  },
  {
   "cell_type": "code",
   "execution_count": null,
   "metadata": {
    "colab": {},
    "colab_type": "code",
    "id": "NLPDjdjGB48Z"
   },
   "outputs": [],
   "source": []
  }
 ],
 "metadata": {
  "colab": {
   "collapsed_sections": [],
   "name": "Notifications Table_30/5.ipynb",
   "provenance": []
  },
  "kernelspec": {
   "display_name": "Python 3",
   "language": "python",
   "name": "python3"
  },
  "language_info": {
   "codemirror_mode": {
    "name": "ipython",
    "version": 3
   },
   "file_extension": ".py",
   "mimetype": "text/x-python",
   "name": "python",
   "nbconvert_exporter": "python",
   "pygments_lexer": "ipython3",
   "version": "3.8.2"
  }
 },
 "nbformat": 4,
 "nbformat_minor": 1
}
